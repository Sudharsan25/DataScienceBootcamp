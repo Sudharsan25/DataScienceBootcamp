{
 "cells": [
  {
   "cell_type": "markdown",
   "id": "3c8c171b",
   "metadata": {},
   "source": [
    "# Python Basic Assingment 13"
   ]
  },
  {
   "cell_type": "markdown",
   "id": "83a89fd0",
   "metadata": {},
   "source": [
    "### 1. What advantages do Excel spreadsheets have over CSV spreadsheets?\n",
    "* Since excel is tabular, it can perform functions and formula over the data easily, which can not easily be performed in csv file. "
   ]
  },
  {
   "cell_type": "markdown",
   "id": "15044a97",
   "metadata": {},
   "source": [
    "### 2.What do you pass to csv.reader() and csv.writer() to create reader and writer objects?\n",
    "\n",
    "* We should pass the document as an argument to both reader() and writer() functions to create reader and writer objects respectively."
   ]
  },
  {
   "cell_type": "markdown",
   "id": "507e846a",
   "metadata": {},
   "source": [
    "### 3. What modes do File objects for reader and writer objects need to be opened in?\n",
    "* For reader object, we should open the file in read mode, 'r'\n",
    "* For writer object, we should open the file in write mode, 'm'"
   ]
  },
  {
   "cell_type": "markdown",
   "id": "8bd7bc8e",
   "metadata": {},
   "source": [
    "### 4. What method takes a list argument and writes it to a CSV file?\n",
    "\n",
    "* writerows() method takes a list as argument and writes the elements of the list into file as comma seperated items"
   ]
  },
  {
   "cell_type": "markdown",
   "id": "170d9e42",
   "metadata": {},
   "source": [
    "### 5. What do the keyword arguments delimiter and line terminator do?\n",
    "\n",
    "* Delimiter is any character that appears between the text in a document. When you pass the character as delimiter, then the reader object will split the text whenever it comes across the delimiter.\n",
    "* Lineterminator is used to seperate lines in a document. You can specify which argument can be used as line terminator"
   ]
  },
  {
   "cell_type": "markdown",
   "id": "d8e55f9a",
   "metadata": {},
   "source": [
    "### 6. What function takes a string of JSON data and returns a Python data structure?\n",
    "\n",
    "* json.loads() metho can be used to parse a JSON data into a python data strcutre."
   ]
  },
  {
   "cell_type": "markdown",
   "id": "e3831e80",
   "metadata": {},
   "source": [
    "### 7. What function takes a Python data structure and returns a string of JSON data?\n",
    "* To get a string of JSON data from a python data strcutre, we can use the json.dumps() method."
   ]
  }
 ],
 "metadata": {
  "kernelspec": {
   "display_name": "Python 3 (ipykernel)",
   "language": "python",
   "name": "python3"
  },
  "language_info": {
   "codemirror_mode": {
    "name": "ipython",
    "version": 3
   },
   "file_extension": ".py",
   "mimetype": "text/x-python",
   "name": "python",
   "nbconvert_exporter": "python",
   "pygments_lexer": "ipython3",
   "version": "3.9.13"
  }
 },
 "nbformat": 4,
 "nbformat_minor": 5
}
