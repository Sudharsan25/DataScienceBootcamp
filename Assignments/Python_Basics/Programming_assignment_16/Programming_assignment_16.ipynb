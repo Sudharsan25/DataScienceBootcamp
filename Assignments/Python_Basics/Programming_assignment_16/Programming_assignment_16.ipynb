{
 "cells": [
  {
   "cell_type": "markdown",
   "id": "ed61d256",
   "metadata": {},
   "source": [
    "#### Question1. \n",
    "* Write a function that stutters a word as if someone is struggling to read it. The first two letters are repeated twice with an ellipsis ... and space after each, and then the word is pronounced with a question mark ?.\n",
    "* Examples\n",
    "1. stutter(&quot;incredible&quot;) ➞ &quot;in... in... incredible?&quot;\n",
    "2. stutter(&quot;enthusiastic&quot;) ➞ &quot;en... en... enthusiastic?&quot;\n",
    "3. stutter(&quot;outstanding&quot;) ➞ &quot;ou... ou... outstanding?&quot;"
   ]
  },
  {
   "cell_type": "code",
   "execution_count": 1,
   "id": "ac42e6eb",
   "metadata": {},
   "outputs": [],
   "source": [
    "def stutter(string):\n",
    "    print(f\"{string[:2]}..{string[:2]}..{string}?\")"
   ]
  },
  {
   "cell_type": "code",
   "execution_count": 2,
   "id": "89957d0a",
   "metadata": {},
   "outputs": [
    {
     "name": "stdout",
     "output_type": "stream",
     "text": [
      "Wh..Wh..What?\n"
     ]
    }
   ],
   "source": [
    "stutter(\"What\")"
   ]
  },
  {
   "cell_type": "markdown",
   "id": "937d7f47",
   "metadata": {},
   "source": [
    "#### Question 2.\n",
    "* Create a function that takes an angle in radians and returns the corresponding angle in degrees rounded to one decimal place.\n",
    "* Examples\n",
    "1. radians_to_degrees(1) ➞ 57.3\n",
    "2. radians_to_degrees(20) ➞ 1145.9\n",
    "3. radians_to_degrees(50) ➞ 2864.8"
   ]
  },
  {
   "cell_type": "code",
   "execution_count": 3,
   "id": "d0af0346",
   "metadata": {},
   "outputs": [],
   "source": [
    "def radians_to_degrees(num):\n",
    "    return round(num*(180/(22/7)),1)"
   ]
  },
  {
   "cell_type": "code",
   "execution_count": 4,
   "id": "dc352513",
   "metadata": {},
   "outputs": [
    {
     "data": {
      "text/plain": [
       "57.3"
      ]
     },
     "execution_count": 4,
     "metadata": {},
     "output_type": "execute_result"
    }
   ],
   "source": [
    "radians_to_degrees(1)"
   ]
  },
  {
   "cell_type": "markdown",
   "id": "2a6e65cd",
   "metadata": {},
   "source": [
    "#### Question 3. \n",
    "* In this challenge, establish if a given integer num is a Curzon number. If 1 plus 2 elevated to num is exactly divisible by 1 plus 2 multiplied by num, then num is a Curzon number.\n",
    "* Given a non-negative integer num, implement a function that returns True if num is a Curzon number, or False otherwise.\n",
    "* Examples\n",
    "1. is_curzon(5) ➞ True\n",
    "* 2 ** 5 + 1 = 33\n",
    "* 2 * 5 + 1 = 11\n",
    "* 33 is a multiple of 11\n",
    "2. is_curzon(10) ➞ False\n",
    "* 2 ** 10 + 1 = 1025\n",
    "* 2 * 10 + 1 = 21\n",
    "* 1025 is not a multiple of 21\n",
    "3. is_curzon(14) ➞ True\n",
    "* 2 ** 14 + 1 = 16385\n",
    "* 2 * 14 + 1 = 29\n",
    "* 16385 is a multiple of 29"
   ]
  },
  {
   "cell_type": "code",
   "execution_count": 5,
   "id": "dd4ed3b4",
   "metadata": {},
   "outputs": [],
   "source": [
    "def is_curzon(num):\n",
    "    div=(2**num)+1\n",
    "    divisor=(2*num)+1\n",
    "    if div%divisor==0:\n",
    "        return True\n",
    "    else:\n",
    "        return False"
   ]
  },
  {
   "cell_type": "code",
   "execution_count": 6,
   "id": "c8d225bd",
   "metadata": {},
   "outputs": [
    {
     "data": {
      "text/plain": [
       "True"
      ]
     },
     "execution_count": 6,
     "metadata": {},
     "output_type": "execute_result"
    }
   ],
   "source": [
    "is_curzon(5)"
   ]
  },
  {
   "cell_type": "code",
   "execution_count": 7,
   "id": "c259e3cf",
   "metadata": {},
   "outputs": [
    {
     "data": {
      "text/plain": [
       "False"
      ]
     },
     "execution_count": 7,
     "metadata": {},
     "output_type": "execute_result"
    }
   ],
   "source": [
    "is_curzon(10)"
   ]
  },
  {
   "cell_type": "markdown",
   "id": "85cd93b5",
   "metadata": {},
   "source": [
    "#### Question 4.\n",
    "* Given the side length x find the area of a hexagon.\n",
    "* Examples\n",
    "1. area_of_hexagon(1) ➞ 2.6\n",
    "2. area_of_hexagon(2) ➞ 10.4\n",
    "3. area_of_hexagon(3) ➞ 23.4"
   ]
  },
  {
   "cell_type": "code",
   "execution_count": 8,
   "id": "c0c30b79",
   "metadata": {},
   "outputs": [],
   "source": [
    "import math\n",
    "def area_of_hexagon(side):\n",
    "    numerator = (3*math.sqrt(3))*(side**2)\n",
    "    return round(numerator/2,1)"
   ]
  },
  {
   "cell_type": "code",
   "execution_count": 9,
   "id": "5e571f40",
   "metadata": {},
   "outputs": [
    {
     "data": {
      "text/plain": [
       "2.6"
      ]
     },
     "execution_count": 9,
     "metadata": {},
     "output_type": "execute_result"
    }
   ],
   "source": [
    "area_of_hexagon(1)"
   ]
  },
  {
   "cell_type": "code",
   "execution_count": 10,
   "id": "f549ca62",
   "metadata": {},
   "outputs": [
    {
     "data": {
      "text/plain": [
       "23.4"
      ]
     },
     "execution_count": 10,
     "metadata": {},
     "output_type": "execute_result"
    }
   ],
   "source": [
    "area_of_hexagon(3)"
   ]
  },
  {
   "cell_type": "markdown",
   "id": "09c1ecf6",
   "metadata": {},
   "source": [
    "#### Question 5. \n",
    "* Create a function that returns a base-2 (binary) representation of a base-10 (decimal) string number. To convert is simple: ((2) means base-2 and (10) means base-10) 010101001(2) = 1 + 8 + 32 + 128.\n",
    "* Going from right to left, the value of the most right bit is 1, now from that every bit to the left will be x2 the value, value of an 8 bit binary numbers are (256, 128, 64, 32, 16, 8, 4, 2, 1).\n",
    "* Examples\n",
    "1. binary(1) ➞ &quot;1&quot;\n",
    "* 1*1 = 1\n",
    "2. binary(5) ➞ &quot;101&quot;\n",
    "* 1*1 + 1*4 = 5\n",
    "3. binary(10) ➞ &quot;1010&quot;\n",
    "* 1*2 + 1*8 = 10"
   ]
  },
  {
   "cell_type": "code",
   "execution_count": 11,
   "id": "08cd5b3c",
   "metadata": {},
   "outputs": [],
   "source": [
    "def binary(number):\n",
    "    remainders=[]\n",
    "    dividend=number\n",
    "    while dividend>=1:\n",
    "        remainders.append(str(dividend%2))\n",
    "        dividend = dividend//2\n",
    "        result=\"\"    \n",
    "        result=int(result.join(remainders)[::-1])\n",
    "    return result"
   ]
  },
  {
   "cell_type": "code",
   "execution_count": 12,
   "id": "e1c35024",
   "metadata": {},
   "outputs": [
    {
     "data": {
      "text/plain": [
       "1"
      ]
     },
     "execution_count": 12,
     "metadata": {},
     "output_type": "execute_result"
    }
   ],
   "source": [
    "binary(1)"
   ]
  },
  {
   "cell_type": "code",
   "execution_count": 13,
   "id": "5a54bdf6",
   "metadata": {},
   "outputs": [
    {
     "data": {
      "text/plain": [
       "101"
      ]
     },
     "execution_count": 13,
     "metadata": {},
     "output_type": "execute_result"
    }
   ],
   "source": [
    "binary(5)"
   ]
  },
  {
   "cell_type": "code",
   "execution_count": 14,
   "id": "984f6c68",
   "metadata": {},
   "outputs": [
    {
     "data": {
      "text/plain": [
       "1010"
      ]
     },
     "execution_count": 14,
     "metadata": {},
     "output_type": "execute_result"
    }
   ],
   "source": [
    "binary(10)"
   ]
  }
 ],
 "metadata": {
  "kernelspec": {
   "display_name": "Python 3 (ipykernel)",
   "language": "python",
   "name": "python3"
  },
  "language_info": {
   "codemirror_mode": {
    "name": "ipython",
    "version": 3
   },
   "file_extension": ".py",
   "mimetype": "text/x-python",
   "name": "python",
   "nbconvert_exporter": "python",
   "pygments_lexer": "ipython3",
   "version": "3.9.13"
  }
 },
 "nbformat": 4,
 "nbformat_minor": 5
}
