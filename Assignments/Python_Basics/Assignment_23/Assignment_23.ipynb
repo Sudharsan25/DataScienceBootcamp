{
 "cells": [
  {
   "cell_type": "markdown",
   "id": "5939eef8",
   "metadata": {},
   "source": [
    "# Python Assignment_23 "
   ]
  },
  {
   "cell_type": "markdown",
   "id": "578cc9cf",
   "metadata": {},
   "source": [
    "###  1. What is the result of the code, and why?"
   ]
  },
  {
   "cell_type": "code",
   "execution_count": 1,
   "id": "781cf4f1",
   "metadata": {},
   "outputs": [
    {
     "name": "stdout",
     "output_type": "stream",
     "text": [
      "1 2 8\n"
     ]
    }
   ],
   "source": [
    "def func(a,b=6,c=8):\n",
    "    print(a,b,c)\n",
    "\n",
    "func(1,2)"
   ]
  },
  {
   "cell_type": "markdown",
   "id": "25ff2ab6",
   "metadata": {},
   "source": [
    "* keyword arguments in function, can be used to assign default values to arguments in function. This way, even if argument is not given by the user, the default value is taken by the function, and it does not throw an error.\n",
    "* That is why even when we gave only 2 arguments, the third argument was just taken as the default value.\n",
    "* Default values are replaced when user passes a different value, that's why value of b is printed as 2 not 6"
   ]
  },
  {
   "cell_type": "markdown",
   "id": "a3a6d06b",
   "metadata": {},
   "source": [
    "###  2. What is the result of this code, and why?"
   ]
  },
  {
   "cell_type": "code",
   "execution_count": 5,
   "id": "8dcc819d",
   "metadata": {},
   "outputs": [
    {
     "name": "stdout",
     "output_type": "stream",
     "text": [
      "1 2 3\n"
     ]
    }
   ],
   "source": [
    "def func(a,b,c=5):\n",
    "    print(a,b,c)\n",
    "    \n",
    "func(1,c=3,b=2)"
   ]
  },
  {
   "cell_type": "markdown",
   "id": "a616d019",
   "metadata": {},
   "source": [
    "* This code illustrates that order of arguments can be changed if you use the keyword to pass the value. That is why even if the function accepts in order, a,b,c and we passed in order a,c,b, it does not throw an error"
   ]
  },
  {
   "cell_type": "markdown",
   "id": "ec751338",
   "metadata": {},
   "source": [
    "### 3. How about this code: what is its result, and why?"
   ]
  },
  {
   "cell_type": "code",
   "execution_count": 7,
   "id": "50247239",
   "metadata": {},
   "outputs": [
    {
     "name": "stdout",
     "output_type": "stream",
     "text": [
      "1 (2, 3)\n"
     ]
    }
   ],
   "source": [
    "def func(a,*pargs):\n",
    "    print(a,pargs)\n",
    "    \n",
    "func(1,2,3)"
   ]
  },
  {
   "cell_type": "markdown",
   "id": "c629c99c",
   "metadata": {},
   "source": [
    "* pargs(positional arguments) is used to collect the set of arguments into a tuple, other than the keyword argumnets. So any arugment passed to the function that is not specified in the function defintion, is collected and returned as a tuple"
   ]
  },
  {
   "cell_type": "markdown",
   "id": "36cf9f0f",
   "metadata": {},
   "source": [
    "### 4. How about this code: what is its result, and why?"
   ]
  },
  {
   "cell_type": "code",
   "execution_count": 8,
   "id": "f88b5e0e",
   "metadata": {},
   "outputs": [
    {
     "name": "stdout",
     "output_type": "stream",
     "text": [
      "1 {'c': 3, 'b': 2}\n"
     ]
    }
   ],
   "source": [
    "def func(a,**kargs):\n",
    "    print(a,kargs)\n",
    "    \n",
    "func(a=1,c=3,b=2)"
   ]
  },
  {
   "cell_type": "markdown",
   "id": "d502d1f5",
   "metadata": {},
   "source": [
    "* We saw pargs collects all positional arguments into tuple, kargs (Key arguments) will collect the arguments provided with a key into a dictionary."
   ]
  },
  {
   "cell_type": "markdown",
   "id": "3aa426f0",
   "metadata": {},
   "source": [
    "### 5. What gets printed by this, explain? "
   ]
  },
  {
   "cell_type": "code",
   "execution_count": 13,
   "id": "2ad5ec60",
   "metadata": {},
   "outputs": [
    {
     "name": "stdout",
     "output_type": "stream",
     "text": [
      "1 5 6 5\n"
     ]
    }
   ],
   "source": [
    "def func(a,b,c=8,d=5):\n",
    "    print(a,b,c,d)\n",
    "\n",
    "func(1,*(5,6))"
   ]
  },
  {
   "cell_type": "markdown",
   "id": "210f7daf",
   "metadata": {},
   "source": [
    "* The *(5,6) will pass the arguments to b,c and d has the default value of 5, so the output is 1,5,6,5"
   ]
  },
  {
   "cell_type": "markdown",
   "id": "2b51c86f",
   "metadata": {},
   "source": [
    "### 6. What is the result of this, and explain?"
   ]
  },
  {
   "cell_type": "code",
   "execution_count": 14,
   "id": "9d6abaa6",
   "metadata": {},
   "outputs": [],
   "source": [
    "def func(a,b,c):\n",
    "    a =2 \n",
    "    b[0]='x'\n",
    "    c['a']='y'"
   ]
  },
  {
   "cell_type": "code",
   "execution_count": 15,
   "id": "dc7201a8",
   "metadata": {},
   "outputs": [],
   "source": [
    "l=1\n",
    "m=[1]\n",
    "n={'a':0}"
   ]
  },
  {
   "cell_type": "code",
   "execution_count": 16,
   "id": "ebe4ee40",
   "metadata": {},
   "outputs": [],
   "source": [
    "func(l,m,n)"
   ]
  },
  {
   "cell_type": "code",
   "execution_count": 17,
   "id": "a3c43c39",
   "metadata": {},
   "outputs": [
    {
     "data": {
      "text/plain": [
       "(1, ['x'], {'a': 'y'})"
      ]
     },
     "execution_count": 17,
     "metadata": {},
     "output_type": "execute_result"
    }
   ],
   "source": [
    "l,m,n"
   ]
  },
  {
   "cell_type": "markdown",
   "id": "f1e00bf5",
   "metadata": {},
   "source": [
    "* When you change the values of integer inside a function, it does not change it globally, whereas for list and dictionaries it is not the case.\n",
    "* This is usually because, lists and dictionaries only hold references to the objects in their variable, so when they are modified, they are modified permenently, not just inside the scope of the function"
   ]
  }
 ],
 "metadata": {
  "kernelspec": {
   "display_name": "Python 3 (ipykernel)",
   "language": "python",
   "name": "python3"
  },
  "language_info": {
   "codemirror_mode": {
    "name": "ipython",
    "version": 3
   },
   "file_extension": ".py",
   "mimetype": "text/x-python",
   "name": "python",
   "nbconvert_exporter": "python",
   "pygments_lexer": "ipython3",
   "version": "3.9.13"
  }
 },
 "nbformat": 4,
 "nbformat_minor": 5
}
