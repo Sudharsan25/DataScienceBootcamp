{
 "cells": [
  {
   "cell_type": "markdown",
   "id": "a4b15288",
   "metadata": {},
   "source": [
    "# Python Basics Assignment 8"
   ]
  },
  {
   "attachments": {},
   "cell_type": "markdown",
   "id": "6075acff",
   "metadata": {},
   "source": [
    "### 1. Is the Python Standard Library included with PyInputPlus?\n",
    "* No it is not part of the python standard libraries. We have to install it seperately if we wish to use it in our code."
   ]
  },
  {
   "cell_type": "markdown",
   "id": "5a24094f",
   "metadata": {},
   "source": [
    "### 2. Why is PyInputPlus commonly imported with import pyinputplus as pypi?\n",
    "* Usually libraries with long names with PyInputPlus are imported with shortforms using the \"as\" keyword after import, so that it would be easier to reference them in the code."
   ]
  },
  {
   "cell_type": "markdown",
   "id": "9d74a561",
   "metadata": {},
   "source": [
    "### 3. How do you distinguish between inputInt() and inputFloat()?\n",
    "* inputint() function used when input should be taked as an integer.\n",
    "* inputFloat() function used to make sure the input type is float type."
   ]
  },
  {
   "cell_type": "markdown",
   "id": "be94362b",
   "metadata": {},
   "source": [
    "### 4. Using PyInputPlus, how do you ensure that the user enters a whole number between 0 and 99?\n",
    "* To make sure the user only enters a input as whole number we can use inputInt() function.\n",
    "* Further, to ensure that he can only enter numbers between 0 to 99, we can use the min and max arguments to the inputInt() function. Example: inputInt(min=0, max=99)"
   ]
  },
  {
   "cell_type": "markdown",
   "id": "67ec7a26",
   "metadata": {},
   "source": [
    "### 5. What is transferred to the keyword arguments allowRegexes and blockRegexes?\n",
    "* allowRegexes argument is used to specify what expressions are accepted as valid input by the input function.\n",
    "* Similarly blockRegexes can be made to block certain expressions to be given as input."
   ]
  },
  {
   "cell_type": "markdown",
   "id": "e89199ed",
   "metadata": {},
   "source": [
    "### 6. If a blank input is entered three times, what does inputStr(limit=3) do?\n",
    "* limit is used to specify how many times the input function should retry if the user enters a invalid input. So when the user inputs a blank for 3 times, and if the limit is 3, then after the 3rd attempt, the input function teriminate the code and raises the \"RetryLimitException\""
   ]
  },
  {
   "cell_type": "markdown",
   "id": "e38e94f4",
   "metadata": {},
   "source": [
    "### 7. If blank input is entered three times, what does inputStr(limit=3, default='hello') do?\n",
    "* Default keyword is used to specify what the functin should return by default is the user does not provide a valid input. So when blank input is entered 3 times, the function returns 'hello' as the input value."
   ]
  }
 ],
 "metadata": {
  "kernelspec": {
   "display_name": "Python 3 (ipykernel)",
   "language": "python",
   "name": "python3"
  },
  "language_info": {
   "codemirror_mode": {
    "name": "ipython",
    "version": 3
   },
   "file_extension": ".py",
   "mimetype": "text/x-python",
   "name": "python",
   "nbconvert_exporter": "python",
   "pygments_lexer": "ipython3",
   "version": "3.9.13"
  }
 },
 "nbformat": 4,
 "nbformat_minor": 5
}
