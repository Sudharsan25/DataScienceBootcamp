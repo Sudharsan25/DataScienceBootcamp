{
 "cells": [
  {
   "cell_type": "markdown",
   "id": "6eb676f5",
   "metadata": {},
   "source": [
    "#### 1. Write a Python program to convert Kilometers to Miles."
   ]
  },
  {
   "cell_type": "code",
   "execution_count": 10,
   "id": "177e948e",
   "metadata": {},
   "outputs": [
    {
     "data": {
      "text/plain": [
       "11184.678"
      ]
     },
     "execution_count": 10,
     "metadata": {},
     "output_type": "execute_result"
    }
   ],
   "source": [
    "def convert_to_miles(km):\n",
    "    return (km * 0.621371)\n",
    "\n",
    "convert_to_miles(km=18000)"
   ]
  },
  {
   "cell_type": "markdown",
   "id": "e5594e36",
   "metadata": {},
   "source": [
    "#### 2. Write a Python program to convert Celsius to Fahrenheit."
   ]
  },
  {
   "cell_type": "code",
   "execution_count": 12,
   "id": "875a0862",
   "metadata": {},
   "outputs": [
    {
     "data": {
      "text/plain": [
       "194.0"
      ]
     },
     "execution_count": 12,
     "metadata": {},
     "output_type": "execute_result"
    }
   ],
   "source": [
    "def to_fahrenheit(celsius):\n",
    "    fahrenheit = (celsius*9/5)+32\n",
    "    return fahrenheit\n",
    "\n",
    "to_fahrenheit(90)"
   ]
  },
  {
   "cell_type": "markdown",
   "id": "20395177",
   "metadata": {},
   "source": [
    "#### 3. Write a Python program to display calender."
   ]
  },
  {
   "cell_type": "code",
   "execution_count": 17,
   "id": "ab114d59",
   "metadata": {},
   "outputs": [
    {
     "name": "stdout",
     "output_type": "stream",
     "text": [
      "Enter a month(0-12):05\n",
      "Enter a year:2023\n",
      "      May 2023\n",
      "Mo Tu We Th Fr Sa Su\n",
      " 1  2  3  4  5  6  7\n",
      " 8  9 10 11 12 13 14\n",
      "15 16 17 18 19 20 21\n",
      "22 23 24 25 26 27 28\n",
      "29 30 31\n",
      "\n"
     ]
    }
   ],
   "source": [
    "import calendar\n",
    "\n",
    "def display_calender():\n",
    "    month = int(input(\"Enter a month(0-12):\"))\n",
    "    year = int(input(\"Enter a year:\"))\n",
    "    print(calendar.month(year,month))\n",
    "    \n",
    "display_calender()"
   ]
  },
  {
   "cell_type": "markdown",
   "id": "5c31c34b",
   "metadata": {},
   "source": [
    "#### 4. Write a Python program to solve a quadratic equation"
   ]
  },
  {
   "cell_type": "code",
   "execution_count": 24,
   "id": "e46b08c6",
   "metadata": {},
   "outputs": [
    {
     "name": "stdout",
     "output_type": "stream",
     "text": [
      "The two roots of the qudratic equation are: -0.5166852264521173 and -15.483314773547882\n"
     ]
    }
   ],
   "source": [
    "def quadratic_sovler(a,b,c):\n",
    "    \"\"\"\n",
    "    a=constant of the x2 term\n",
    "    b=constant of x term\n",
    "    c=constant\n",
    "    \"\"\"\n",
    "    d = (b ** 2 - 4 * a * c) ** 0.5\n",
    "    root_1 = (-b + d)/ (2 * a)\n",
    "    root_2 = (-b - d) / (2 * a)\n",
    "    print(f\"The two roots of the qudratic equation are: {root_1} and {root_2}\")\n",
    "    \n",
    "quadratic_sovler(1,16,8)"
   ]
  },
  {
   "cell_type": "markdown",
   "id": "e960b309",
   "metadata": {},
   "source": [
    "#### 5. Write a Python program to swap two variables without temp variable"
   ]
  },
  {
   "cell_type": "code",
   "execution_count": 27,
   "id": "7a8f452a",
   "metadata": {},
   "outputs": [
    {
     "name": "stdout",
     "output_type": "stream",
     "text": [
      "Before swapping a:5, b: 10\n",
      "After swapping a: 10, b: 5\n"
     ]
    }
   ],
   "source": [
    "def swap(a,b):\n",
    "    print(f\"Before swapping a:{a}, b: {b}\")\n",
    "    a ^= b \n",
    "    b ^= a \n",
    "    a ^= b\n",
    "    print(f\"After swapping a: {a}, b: {b}\")\n",
    "          \n",
    "swap(5,10)"
   ]
  }
 ],
 "metadata": {
  "kernelspec": {
   "display_name": "Python 3 (ipykernel)",
   "language": "python",
   "name": "python3"
  },
  "language_info": {
   "codemirror_mode": {
    "name": "ipython",
    "version": 3
   },
   "file_extension": ".py",
   "mimetype": "text/x-python",
   "name": "python",
   "nbconvert_exporter": "python",
   "pygments_lexer": "ipython3",
   "version": "3.9.13"
  }
 },
 "nbformat": 4,
 "nbformat_minor": 5
}
