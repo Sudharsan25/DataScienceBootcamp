{
 "cells": [
  {
   "cell_type": "markdown",
   "id": "66b8ff4d",
   "metadata": {},
   "source": [
    "#### 1. Write a Python program to find words which are greater than given length k?"
   ]
  },
  {
   "cell_type": "code",
   "execution_count": 1,
   "id": "c0bda39f",
   "metadata": {},
   "outputs": [],
   "source": [
    "def check_string(k,string):\n",
    "    words=string.split()\n",
    "    new_words=[]\n",
    "    for word in words:\n",
    "        if len(word)>k:\n",
    "            new_words.append(word)\n",
    "    return new_words"
   ]
  },
  {
   "cell_type": "code",
   "execution_count": 2,
   "id": "0adb23c4",
   "metadata": {},
   "outputs": [
    {
     "data": {
      "text/plain": [
       "['Hello', 'everyone']"
      ]
     },
     "execution_count": 2,
     "metadata": {},
     "output_type": "execute_result"
    }
   ],
   "source": [
    "check_string(4,\"Hello to everyone here\")"
   ]
  },
  {
   "cell_type": "markdown",
   "id": "bd88a768",
   "metadata": {},
   "source": [
    "#### 2. Write a Python program for removing i-th character from a string?"
   ]
  },
  {
   "cell_type": "code",
   "execution_count": 8,
   "id": "766df44a",
   "metadata": {},
   "outputs": [],
   "source": [
    "def remove_char(i,string):\n",
    "    string = string.replace(string[i],\"\")\n",
    "    return string"
   ]
  },
  {
   "cell_type": "code",
   "execution_count": 9,
   "id": "1f7fd639",
   "metadata": {},
   "outputs": [
    {
     "data": {
      "text/plain": [
       "'Hllo'"
      ]
     },
     "execution_count": 9,
     "metadata": {},
     "output_type": "execute_result"
    }
   ],
   "source": [
    "remove_char(1,\"Hello\")"
   ]
  },
  {
   "cell_type": "markdown",
   "id": "139b3b20",
   "metadata": {},
   "source": [
    "#### 3. Write a Python program to split and join a string?"
   ]
  },
  {
   "cell_type": "code",
   "execution_count": 14,
   "id": "e15b76c7",
   "metadata": {},
   "outputs": [],
   "source": [
    "def split_and_join(string):\n",
    "    print(f\"Before split:{string}\")\n",
    "    words=string.split()\n",
    "    print(f\"After split:{words}\")\n",
    "    new_string=\"\"\n",
    "    for word in words:\n",
    "        new_string+= \" \"+word\n",
    "    print(f\"After joining:{new_string}\")"
   ]
  },
  {
   "cell_type": "code",
   "execution_count": 15,
   "id": "24a73642",
   "metadata": {},
   "outputs": [
    {
     "name": "stdout",
     "output_type": "stream",
     "text": [
      "Before split:Good morning Folks!!\n",
      "After split:['Good', 'morning', 'Folks!!']\n",
      "After joining: Good morning Folks!!\n"
     ]
    }
   ],
   "source": [
    "split_and_join(\"Good morning Folks!!\")"
   ]
  },
  {
   "cell_type": "markdown",
   "id": "512db986",
   "metadata": {},
   "source": [
    "#### 4. Write a Python to check if a given string is binary string or not?"
   ]
  },
  {
   "cell_type": "code",
   "execution_count": 16,
   "id": "0348aaf3",
   "metadata": {},
   "outputs": [],
   "source": [
    "def binary_string(string):\n",
    "    binary=\"01\"\n",
    "    flag=True\n",
    "    for i in string:\n",
    "        if i not in binary:\n",
    "            flag=False\n",
    "            break\n",
    "    if(flag):\n",
    "        print(\"It is a binary string\")\n",
    "    else:\n",
    "        print(\"It's a non-binary string\")"
   ]
  },
  {
   "cell_type": "code",
   "execution_count": 17,
   "id": "31b01d27",
   "metadata": {},
   "outputs": [
    {
     "name": "stdout",
     "output_type": "stream",
     "text": [
      "It is a binary string\n"
     ]
    }
   ],
   "source": [
    "binary_string(\"010101\")"
   ]
  },
  {
   "cell_type": "markdown",
   "id": "d4675917",
   "metadata": {},
   "source": [
    "#### 5. Write a Python program to find uncommon words from two Strings?"
   ]
  },
  {
   "cell_type": "code",
   "execution_count": 22,
   "id": "8f115da2",
   "metadata": {},
   "outputs": [],
   "source": [
    "def compare_strings(str1,str2):\n",
    "    words_1 = str1.split()\n",
    "    words_2 = str2.split()\n",
    "    common=[]\n",
    "    for word in words_1:\n",
    "        if word not in words_2:\n",
    "            common.append(word)\n",
    "    for word in words_2:\n",
    "        if word not in words_1:\n",
    "            common.append(word)\n",
    "    return common"
   ]
  },
  {
   "cell_type": "code",
   "execution_count": 23,
   "id": "c6d66700",
   "metadata": {},
   "outputs": [
    {
     "data": {
      "text/plain": [
       "['students!!', 'sir!!']"
      ]
     },
     "execution_count": 23,
     "metadata": {},
     "output_type": "execute_result"
    }
   ],
   "source": [
    "compare_strings(\"Good morning students!!\",\"Good morning sir!!\")"
   ]
  },
  {
   "cell_type": "markdown",
   "id": "7a20dac8",
   "metadata": {},
   "source": [
    "#### 6. Write a Python to find all duplicate characters in string?"
   ]
  },
  {
   "cell_type": "code",
   "execution_count": 30,
   "id": "2abf9661",
   "metadata": {},
   "outputs": [],
   "source": [
    "def duplicate(string):\n",
    "    x = filter(lambda x: string.count(x) >= 2, string)\n",
    "    print(' '.join(set(x)))"
   ]
  },
  {
   "cell_type": "code",
   "execution_count": 31,
   "id": "21cb03ee",
   "metadata": {},
   "outputs": [
    {
     "name": "stdout",
     "output_type": "stream",
     "text": [
      "l\n"
     ]
    }
   ],
   "source": [
    "duplicate(\"Hello\")"
   ]
  },
  {
   "cell_type": "markdown",
   "id": "27cb1473",
   "metadata": {},
   "source": [
    "#### 7. Write a Python Program to check if a string contains any special character?"
   ]
  },
  {
   "cell_type": "code",
   "execution_count": 32,
   "id": "1ac88662",
   "metadata": {},
   "outputs": [],
   "source": [
    "def special_charac(string):\n",
    "    spl=\"~`!@#$%^&*()\"\n",
    "    for i in string:\n",
    "        if i in spl:\n",
    "            return True\n",
    "            break"
   ]
  },
  {
   "cell_type": "code",
   "execution_count": 34,
   "id": "4ccb677f",
   "metadata": {},
   "outputs": [
    {
     "data": {
      "text/plain": [
       "True"
      ]
     },
     "execution_count": 34,
     "metadata": {},
     "output_type": "execute_result"
    }
   ],
   "source": [
    "special_charac(\"Pass: ****\")"
   ]
  }
 ],
 "metadata": {
  "kernelspec": {
   "display_name": "Python 3 (ipykernel)",
   "language": "python",
   "name": "python3"
  },
  "language_info": {
   "codemirror_mode": {
    "name": "ipython",
    "version": 3
   },
   "file_extension": ".py",
   "mimetype": "text/x-python",
   "name": "python",
   "nbconvert_exporter": "python",
   "pygments_lexer": "ipython3",
   "version": "3.9.13"
  }
 },
 "nbformat": 4,
 "nbformat_minor": 5
}
