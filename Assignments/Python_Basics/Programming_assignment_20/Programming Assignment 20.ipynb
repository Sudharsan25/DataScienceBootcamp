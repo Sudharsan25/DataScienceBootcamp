{
 "cells": [
  {
   "cell_type": "markdown",
   "id": "7097bf29",
   "metadata": {},
   "source": [
    "#### Question1\n",
    "* Create a function that takes a list of strings and integers, and filters out the list so that it returns a list of integers only.\n",
    "* Examples\n",
    "1. filter_list([1, 2, 3, &quot;a&quot;, &quot;b&quot;, 4]) ➞ [1, 2, 3, 4]\n",
    "2. filter_list([&quot;A&quot;, 0, &quot;Edabit&quot;, 1729, &quot;Python&quot;, &quot;1729&quot;]) ➞ [0, 1729]\n",
    "3. filter_list([&quot;Nothing&quot;, &quot;here&quot;]) ➞ []"
   ]
  },
  {
   "cell_type": "code",
   "execution_count": 9,
   "id": "96c7e7a4",
   "metadata": {},
   "outputs": [],
   "source": [
    "def filter_list(lst):\n",
    "    new_list=[]\n",
    "    for i in lst:\n",
    "        if type(i)==int:\n",
    "            new_list.append(i)\n",
    "    return new_list"
   ]
  },
  {
   "cell_type": "code",
   "execution_count": 10,
   "id": "c1bf9391",
   "metadata": {},
   "outputs": [
    {
     "data": {
      "text/plain": [
       "[1, 2, 3, 5]"
      ]
     },
     "execution_count": 10,
     "metadata": {},
     "output_type": "execute_result"
    }
   ],
   "source": [
    "filter_list([1,2,3,\"a\",\"b\",5])"
   ]
  },
  {
   "cell_type": "code",
   "execution_count": 11,
   "id": "9194bbff",
   "metadata": {},
   "outputs": [
    {
     "data": {
      "text/plain": [
       "[12, 34]"
      ]
     },
     "execution_count": 11,
     "metadata": {},
     "output_type": "execute_result"
    }
   ],
   "source": [
    "filter_list([\"a\",True,[12.34],12,34])"
   ]
  },
  {
   "cell_type": "markdown",
   "id": "2ea44444",
   "metadata": {},
   "source": [
    "#### Question2\n",
    "1. Given a list of numbers, create a function which returns the list but with each element&#39;s index in the list added to itself. This means you add 0 to the number at index 0, add 1 to the number at index 1, etc...\n",
    "* Examples\n",
    "1. add_indexes([0, 0, 0, 0, 0]) ➞ [0, 1, 2, 3, 4]\n",
    "2. add_indexes([1, 2, 3, 4, 5]) ➞ [1, 3, 5, 7, 9]\n",
    "3. add_indexes([5, 4, 3, 2, 1]) ➞ [5, 5, 5, 5, 5]"
   ]
  },
  {
   "cell_type": "code",
   "execution_count": 12,
   "id": "9285924b",
   "metadata": {},
   "outputs": [],
   "source": [
    "def add_indexes(lst):\n",
    "    new_lst=[]\n",
    "    for i,k in enumerate(lst):\n",
    "        new_lst.append(i+k)\n",
    "    return new_lst"
   ]
  },
  {
   "cell_type": "code",
   "execution_count": 13,
   "id": "54cea391",
   "metadata": {},
   "outputs": [
    {
     "data": {
      "text/plain": [
       "[0, 1, 2, 3]"
      ]
     },
     "execution_count": 13,
     "metadata": {},
     "output_type": "execute_result"
    }
   ],
   "source": [
    "add_indexes([0,0,0,0])"
   ]
  },
  {
   "cell_type": "code",
   "execution_count": 14,
   "id": "fe25f7e2",
   "metadata": {},
   "outputs": [
    {
     "data": {
      "text/plain": [
       "[12, 24, 36, 48, 60]"
      ]
     },
     "execution_count": 14,
     "metadata": {},
     "output_type": "execute_result"
    }
   ],
   "source": [
    "add_indexes([12,23,34,45,56])"
   ]
  },
  {
   "cell_type": "markdown",
   "id": "a736110c",
   "metadata": {},
   "source": [
    "#### Question3\n",
    "1. Create a function that takes the height and radius of a cone as arguments and returns the volume of the cone rounded to the nearest hundredth. See the resources tab for the formula.\n",
    "* Examples\n",
    "1. cone_volume(3, 2) ➞ 12.57\n",
    "2. cone_volume(15, 6) ➞ 565.49\n",
    "3. cone_volume(18, 0) ➞ 0"
   ]
  },
  {
   "cell_type": "code",
   "execution_count": 15,
   "id": "0f6f9835",
   "metadata": {},
   "outputs": [],
   "source": [
    "import math\n",
    "def cone_volume(h,r):\n",
    "    return round(math.pi*(r**2)*(h/3),2)"
   ]
  },
  {
   "cell_type": "code",
   "execution_count": 16,
   "id": "22b826cc",
   "metadata": {},
   "outputs": [
    {
     "data": {
      "text/plain": [
       "12.57"
      ]
     },
     "execution_count": 16,
     "metadata": {},
     "output_type": "execute_result"
    }
   ],
   "source": [
    "cone_volume(3,2)"
   ]
  },
  {
   "cell_type": "code",
   "execution_count": 17,
   "id": "9d3e7816",
   "metadata": {},
   "outputs": [
    {
     "data": {
      "text/plain": [
       "565.49"
      ]
     },
     "execution_count": 17,
     "metadata": {},
     "output_type": "execute_result"
    }
   ],
   "source": [
    "cone_volume(15,6)"
   ]
  },
  {
   "cell_type": "code",
   "execution_count": 18,
   "id": "710e4cde",
   "metadata": {},
   "outputs": [
    {
     "data": {
      "text/plain": [
       "0.0"
      ]
     },
     "execution_count": 18,
     "metadata": {},
     "output_type": "execute_result"
    }
   ],
   "source": [
    "cone_volume(18,0)"
   ]
  },
  {
   "cell_type": "markdown",
   "id": "02374a61",
   "metadata": {},
   "source": [
    "#### Question4\n",
    "1. This Triangular Number Sequence is generated from a pattern of dots that form a triangle. The first 5 numbers of the sequence, or dots, are:\n",
    "1. 1, 3, 6, 10, 15\n",
    "* This means that the first triangle has just one dot, the second one has three dots, the third one has 6 dots and so on.\n",
    "* Write a function that gives the number of dots with its corresponding triangle number of the sequence.\n",
    "* Examples\n",
    "1. triangle(1) ➞ 1\n",
    "2. triangle(6) ➞ 21\n",
    "3. triangle(215) ➞ 23220"
   ]
  },
  {
   "cell_type": "code",
   "execution_count": 19,
   "id": "5b6a35e2",
   "metadata": {},
   "outputs": [],
   "source": [
    "def triangle(pos):\n",
    "    if pos==1:\n",
    "        return 1\n",
    "    else:\n",
    "        return triangle(pos-1)+pos"
   ]
  },
  {
   "cell_type": "code",
   "execution_count": 20,
   "id": "0e64363d",
   "metadata": {},
   "outputs": [
    {
     "data": {
      "text/plain": [
       "1"
      ]
     },
     "execution_count": 20,
     "metadata": {},
     "output_type": "execute_result"
    }
   ],
   "source": [
    "triangle(1)"
   ]
  },
  {
   "cell_type": "code",
   "execution_count": 21,
   "id": "4c6f6100",
   "metadata": {},
   "outputs": [
    {
     "data": {
      "text/plain": [
       "21"
      ]
     },
     "execution_count": 21,
     "metadata": {},
     "output_type": "execute_result"
    }
   ],
   "source": [
    "triangle(6)"
   ]
  },
  {
   "cell_type": "code",
   "execution_count": 22,
   "id": "6643385b",
   "metadata": {},
   "outputs": [
    {
     "data": {
      "text/plain": [
       "23220"
      ]
     },
     "execution_count": 22,
     "metadata": {},
     "output_type": "execute_result"
    }
   ],
   "source": [
    "triangle(215)"
   ]
  },
  {
   "cell_type": "markdown",
   "id": "6e9a5e58",
   "metadata": {},
   "source": [
    "#### Question5\n",
    "* Create a function that takes a list of numbers between 1 and 10 (excluding one number) and returns the missing number.\n",
    "* Examples\n",
    "1. missing_num([1, 2, 3, 4, 6, 7, 8, 9, 10]) ➞ 5\n",
    "2. missing_num([7, 2, 3, 6, 5, 9, 1, 4, 8]) ➞ 10\n",
    "3. missing_num([10, 5, 1, 2, 4, 6, 8, 3, 9]) ➞ 7"
   ]
  },
  {
   "cell_type": "code",
   "execution_count": 25,
   "id": "901c296e",
   "metadata": {},
   "outputs": [],
   "source": [
    "def missing_num(lst):\n",
    "    for i in range(1,11):\n",
    "        if i not in lst:\n",
    "            return i\n",
    "            break"
   ]
  },
  {
   "cell_type": "code",
   "execution_count": 26,
   "id": "3d7d44fd",
   "metadata": {},
   "outputs": [
    {
     "data": {
      "text/plain": [
       "4"
      ]
     },
     "execution_count": 26,
     "metadata": {},
     "output_type": "execute_result"
    }
   ],
   "source": [
    "missing_num([1,2,3,5,6,7,8,9,10])"
   ]
  },
  {
   "cell_type": "code",
   "execution_count": 28,
   "id": "87e0fa19",
   "metadata": {},
   "outputs": [
    {
     "data": {
      "text/plain": [
       "3"
      ]
     },
     "execution_count": 28,
     "metadata": {},
     "output_type": "execute_result"
    }
   ],
   "source": [
    "missing_num([1,2,4,5,6,7,8,9,10])"
   ]
  },
  {
   "cell_type": "code",
   "execution_count": 29,
   "id": "fbad3fd6",
   "metadata": {},
   "outputs": [
    {
     "data": {
      "text/plain": [
       "9"
      ]
     },
     "execution_count": 29,
     "metadata": {},
     "output_type": "execute_result"
    }
   ],
   "source": [
    "missing_num([10,2,3,5,4,1,8,7,6])"
   ]
  }
 ],
 "metadata": {
  "kernelspec": {
   "display_name": "Python 3 (ipykernel)",
   "language": "python",
   "name": "python3"
  },
  "language_info": {
   "codemirror_mode": {
    "name": "ipython",
    "version": 3
   },
   "file_extension": ".py",
   "mimetype": "text/x-python",
   "name": "python",
   "nbconvert_exporter": "python",
   "pygments_lexer": "ipython3",
   "version": "3.9.13"
  }
 },
 "nbformat": 4,
 "nbformat_minor": 5
}
