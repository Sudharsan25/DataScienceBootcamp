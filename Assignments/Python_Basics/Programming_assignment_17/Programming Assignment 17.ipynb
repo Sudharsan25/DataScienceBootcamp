{
 "cells": [
  {
   "cell_type": "markdown",
   "id": "bd7f4f3c",
   "metadata": {},
   "source": [
    "#### Question1.\n",
    "* Create a function that takes three arguments a, b, c and returns the sum of the numbers that are evenly divided by c from the range a, b inclusive.\n",
    "* Examples\n",
    "* evenly_divisible(1, 10, 20) ➞ 0\n",
    "* No number between 1 and 10 can be evenly divided by 20.\n",
    "* evenly_divisible(1, 10, 2) ➞ 30\n",
    "* 2 + 4 + 6 + 8 + 10 = 30\n",
    "* evenly_divisible(1, 10, 3) ➞ 18\n",
    "* 3 + 6 + 9 = 18"
   ]
  },
  {
   "cell_type": "code",
   "execution_count": 1,
   "id": "7dc24098",
   "metadata": {},
   "outputs": [],
   "source": [
    "def evenly_divisbile(start,end,num):\n",
    "    divisible=[]\n",
    "    for i in range(start,end+1):\n",
    "        if i%num==0:\n",
    "            divisible.append(i)\n",
    "    return sum(divisible)"
   ]
  },
  {
   "cell_type": "code",
   "execution_count": 2,
   "id": "314cdcf0",
   "metadata": {},
   "outputs": [
    {
     "data": {
      "text/plain": [
       "0"
      ]
     },
     "execution_count": 2,
     "metadata": {},
     "output_type": "execute_result"
    }
   ],
   "source": [
    "evenly_divisbile(1,10,20)"
   ]
  },
  {
   "cell_type": "code",
   "execution_count": 3,
   "id": "5bf4ef0f",
   "metadata": {},
   "outputs": [
    {
     "data": {
      "text/plain": [
       "30"
      ]
     },
     "execution_count": 3,
     "metadata": {},
     "output_type": "execute_result"
    }
   ],
   "source": [
    "evenly_divisbile(1,10,2)"
   ]
  },
  {
   "cell_type": "code",
   "execution_count": 4,
   "id": "6a3ec990",
   "metadata": {},
   "outputs": [
    {
     "data": {
      "text/plain": [
       "18"
      ]
     },
     "execution_count": 4,
     "metadata": {},
     "output_type": "execute_result"
    }
   ],
   "source": [
    "evenly_divisbile(1,10,3)"
   ]
  },
  {
   "cell_type": "markdown",
   "id": "9e03c946",
   "metadata": {},
   "source": [
    "#### Question2. \n",
    "* Create a function that returns True if a given inequality expression is correct and False otherwise.\n",
    "* Examples\n",
    "1. correct_signs(&quot;3 &lt; 7 &lt; 11&quot;) ➞ True\n",
    "2. correct_signs(&quot;13 &gt; 44 &gt; 33 &gt; 1&quot;) ➞ False\n",
    "3. correct_signs(&quot;1 &lt; 2 &lt; 6 &lt; 9 &gt; 3&quot;) ➞ True"
   ]
  },
  {
   "cell_type": "code",
   "execution_count": 5,
   "id": "3fd206f2",
   "metadata": {},
   "outputs": [],
   "source": [
    "def correct_signs(exp):\n",
    "    return exp"
   ]
  },
  {
   "cell_type": "code",
   "execution_count": 6,
   "id": "372f0ad6",
   "metadata": {},
   "outputs": [
    {
     "data": {
      "text/plain": [
       "True"
      ]
     },
     "execution_count": 6,
     "metadata": {},
     "output_type": "execute_result"
    }
   ],
   "source": [
    "correct_signs(3<7<11)"
   ]
  },
  {
   "cell_type": "code",
   "execution_count": 7,
   "id": "7a5f7dbf",
   "metadata": {},
   "outputs": [
    {
     "data": {
      "text/plain": [
       "False"
      ]
     },
     "execution_count": 7,
     "metadata": {},
     "output_type": "execute_result"
    }
   ],
   "source": [
    "correct_signs(13>44>33>1)"
   ]
  },
  {
   "cell_type": "code",
   "execution_count": 8,
   "id": "301ab46b",
   "metadata": {},
   "outputs": [
    {
     "data": {
      "text/plain": [
       "True"
      ]
     },
     "execution_count": 8,
     "metadata": {},
     "output_type": "execute_result"
    }
   ],
   "source": [
    "correct_signs(1<2<6<9>3)"
   ]
  },
  {
   "cell_type": "markdown",
   "id": "49b60a00",
   "metadata": {},
   "source": [
    "#### Question3. \n",
    "* Create a function that replaces all the vowels in a string with a specified character.\n",
    "* Examples\n",
    "1. replace_vowels(&quot;the aardvark&quot;, &quot;#&quot;) ➞ &quot;th# ##rdv#rk&quot;\n",
    "2. replace_vowels(&quot;minnie mouse&quot;, &quot;?&quot;) ➞ &quot;m?nn?? m??s?&quot;\n",
    "3. replace_vowels(&quot;shakespeare&quot;, &quot;*&quot;) ➞ &quot;sh*k*sp**r*&quot;"
   ]
  },
  {
   "cell_type": "code",
   "execution_count": 13,
   "id": "9d2c29d8",
   "metadata": {},
   "outputs": [],
   "source": [
    "def replace_vowels(string,modifier):\n",
    "    vowels=\"aeiou\"\n",
    "    for i in string:\n",
    "        if i in vowels:\n",
    "            string = string.replace(i,modifier)\n",
    "    return string"
   ]
  },
  {
   "cell_type": "code",
   "execution_count": 14,
   "id": "fdef4cdf",
   "metadata": {},
   "outputs": [
    {
     "data": {
      "text/plain": [
       "'th# ##rdv#rk'"
      ]
     },
     "execution_count": 14,
     "metadata": {},
     "output_type": "execute_result"
    }
   ],
   "source": [
    "replace_vowels(\"the aardvark\",\"#\")"
   ]
  },
  {
   "cell_type": "code",
   "execution_count": 15,
   "id": "7686618f",
   "metadata": {},
   "outputs": [
    {
     "data": {
      "text/plain": [
       "'m?nn?? m??s?'"
      ]
     },
     "execution_count": 15,
     "metadata": {},
     "output_type": "execute_result"
    }
   ],
   "source": [
    "replace_vowels(\"minnie mouse\",\"?\")"
   ]
  },
  {
   "cell_type": "markdown",
   "id": "acdd0e9d",
   "metadata": {},
   "source": [
    "#### Question4. \n",
    "* Write a function that calculates the factorial of a number recursively.\n",
    "* Examples\n",
    "1. factorial(5) ➞ 120\n",
    "2. factorial(3) ➞ 6\n",
    "3. factorial(1) ➞ 1\n",
    "4. factorial(0) ➞ 1"
   ]
  },
  {
   "cell_type": "code",
   "execution_count": 18,
   "id": "d8358e95",
   "metadata": {},
   "outputs": [],
   "source": [
    "def factorial(num):\n",
    "    if num==1:\n",
    "        return 1\n",
    "    else:\n",
    "        return num*factorial(num-1)"
   ]
  },
  {
   "cell_type": "code",
   "execution_count": 20,
   "id": "894bd441",
   "metadata": {},
   "outputs": [
    {
     "data": {
      "text/plain": [
       "120"
      ]
     },
     "execution_count": 20,
     "metadata": {},
     "output_type": "execute_result"
    }
   ],
   "source": [
    "factorial(5)"
   ]
  },
  {
   "cell_type": "code",
   "execution_count": 21,
   "id": "16269623",
   "metadata": {},
   "outputs": [
    {
     "data": {
      "text/plain": [
       "6"
      ]
     },
     "execution_count": 21,
     "metadata": {},
     "output_type": "execute_result"
    }
   ],
   "source": [
    "factorial(3)"
   ]
  },
  {
   "cell_type": "markdown",
   "id": "3416364a",
   "metadata": {},
   "source": [
    "#### Question 5\n",
    "* Hamming distance is the number of characters that differ between two strings.\n",
    "* To illustrate:\n",
    "1. String1: &quot;abcbba&quot;\n",
    "1. String2: &quot;abcbda&quot;\n",
    "* Hamming Distance: 1 - &quot;b&quot; vs. &quot;d&quot; is the only difference. Create a function that computes the hamming distance between two strings.\n",
    "* Examples\n",
    "1. hamming_distance(&quot;abcde&quot;, &quot;bcdef&quot;) ➞ 5\n",
    "2. hamming_distance(&quot;abcde&quot;, &quot;abcde&quot;) ➞ 0\n",
    "3. hamming_distance(&quot;strong&quot;, &quot;strung&quot;) ➞ 1"
   ]
  },
  {
   "cell_type": "code",
   "execution_count": 24,
   "id": "8906d62d",
   "metadata": {},
   "outputs": [],
   "source": [
    "def hamming_distance(str1,str2):\n",
    "    dist=0\n",
    "    for i in range(len(str1)):\n",
    "        if str1[i]!=str2[i]:\n",
    "            dist+=1\n",
    "    return dist"
   ]
  },
  {
   "cell_type": "code",
   "execution_count": 25,
   "id": "05472f89",
   "metadata": {},
   "outputs": [
    {
     "data": {
      "text/plain": [
       "5"
      ]
     },
     "execution_count": 25,
     "metadata": {},
     "output_type": "execute_result"
    }
   ],
   "source": [
    "hamming_distance(\"abcde\",\"bcdef\")"
   ]
  },
  {
   "cell_type": "code",
   "execution_count": 26,
   "id": "6a4f582a",
   "metadata": {},
   "outputs": [
    {
     "data": {
      "text/plain": [
       "0"
      ]
     },
     "execution_count": 26,
     "metadata": {},
     "output_type": "execute_result"
    }
   ],
   "source": [
    "hamming_distance(\"abcde\",\"abcde\")"
   ]
  },
  {
   "cell_type": "code",
   "execution_count": 28,
   "id": "4f4dc838",
   "metadata": {},
   "outputs": [
    {
     "data": {
      "text/plain": [
       "1"
      ]
     },
     "execution_count": 28,
     "metadata": {},
     "output_type": "execute_result"
    }
   ],
   "source": [
    "hamming_distance(\"strong\",\"strung\")"
   ]
  }
 ],
 "metadata": {
  "kernelspec": {
   "display_name": "Python 3 (ipykernel)",
   "language": "python",
   "name": "python3"
  },
  "language_info": {
   "codemirror_mode": {
    "name": "ipython",
    "version": 3
   },
   "file_extension": ".py",
   "mimetype": "text/x-python",
   "name": "python",
   "nbconvert_exporter": "python",
   "pygments_lexer": "ipython3",
   "version": "3.9.13"
  }
 },
 "nbformat": 4,
 "nbformat_minor": 5
}
