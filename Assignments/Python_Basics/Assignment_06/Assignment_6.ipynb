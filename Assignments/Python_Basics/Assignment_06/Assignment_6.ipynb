{
 "cells": [
  {
   "cell_type": "markdown",
   "id": "877cc626",
   "metadata": {},
   "source": [
    "#  Python Basics Assingment - 6"
   ]
  },
  {
   "cell_type": "markdown",
   "id": "722a67bc",
   "metadata": {},
   "source": [
    "### 1. What are escape characters, and how do you use them?"
   ]
  },
  {
   "cell_type": "markdown",
   "id": "7c6cee21",
   "metadata": {},
   "source": [
    "#### Answer: Escape characters are used so that illegal characters can be allowed in a python string. In python you can use escape characters can be used with a blackslash  \n",
    "(**\\**)"
   ]
  },
  {
   "cell_type": "markdown",
   "id": "340ebcd6",
   "metadata": {},
   "source": [
    "### 2. What do the escape characters n and t stand for?"
   ]
  },
  {
   "cell_type": "markdown",
   "id": "d660549a",
   "metadata": {},
   "source": [
    "#### Answer:\n",
    "* \\n - newline\n",
    "* \\t - tab space"
   ]
  },
  {
   "cell_type": "markdown",
   "id": "62878316",
   "metadata": {},
   "source": [
    "### 3. What is the way to include backslash characters in a string?"
   ]
  },
  {
   "cell_type": "markdown",
   "id": "185e075a",
   "metadata": {},
   "source": [
    "#### Answer: We can include a backslash in a string by using backslash two times. "
   ]
  },
  {
   "cell_type": "code",
   "execution_count": 1,
   "id": "996cf992",
   "metadata": {},
   "outputs": [
    {
     "data": {
      "text/plain": [
       "'My name \\\\ is \"Sudharsan\"'"
      ]
     },
     "execution_count": 1,
     "metadata": {},
     "output_type": "execute_result"
    }
   ],
   "source": [
    "# Example\n",
    "\"My name \\\\ is \\\"Sudharsan\\\"\""
   ]
  },
  {
   "cell_type": "markdown",
   "id": "e7278ab4",
   "metadata": {},
   "source": [
    "### 4.The string \"Howl's moving castle\" is a correct value. Why isn't the single quote character in the word Howl's not escaped a problem?"
   ]
  },
  {
   "cell_type": "markdown",
   "id": "a12a87a5",
   "metadata": {},
   "source": [
    "#### Answer: This is because single quotes and doubt quotes are treated as seperate in python. Python only reconize the opening and closing double quotes and everything inside those quotes are nothing but a string, so the single quote doesn't matter. This is why we do not need to escape the single quote."
   ]
  },
  {
   "cell_type": "markdown",
   "id": "953b384a",
   "metadata": {},
   "source": [
    "### 5. How do you write a string of new lines if you don't want to use the n character?"
   ]
  },
  {
   "cell_type": "markdown",
   "id": "69b29970",
   "metadata": {},
   "source": [
    "#### Answer: You can use tripe (\"\"\" Hello \"\"\") quotes to write multiple lines of a string in python without having to use the \\n character."
   ]
  },
  {
   "cell_type": "code",
   "execution_count": 9,
   "id": "9f1215f5",
   "metadata": {},
   "outputs": [
    {
     "name": "stdout",
     "output_type": "stream",
     "text": [
      "\n",
      "Hello\n",
      "This is a multi line string\n",
      "Thank you\n",
      "\n"
     ]
    }
   ],
   "source": [
    "print(\"\"\"\n",
    "Hello\n",
    "This is a multi line string\n",
    "Thank you\n",
    "\"\"\")"
   ]
  },
  {
   "cell_type": "markdown",
   "id": "f00e5fe2",
   "metadata": {},
   "source": [
    "### 6. What are the values of the given expressions?"
   ]
  },
  {
   "cell_type": "markdown",
   "id": "c1eb8ce1",
   "metadata": {},
   "source": [
    "* 'Hello, world!'[1] -> e\n",
    "* 'Hello, world!'[0:5] -> 'Hello'\n",
    "* 'Hello, world!'[:5] -> 'Hello'\n",
    "* \"Hello, world!\"[3:] -> 'lo, world!'"
   ]
  },
  {
   "cell_type": "markdown",
   "id": "65e51557",
   "metadata": {},
   "source": [
    "### 7. What are the values of the following expressions"
   ]
  },
  {
   "cell_type": "markdown",
   "id": "e233a061",
   "metadata": {},
   "source": [
    "* \"Hello\".upper() -> 'HELLO'\n",
    "* \"Hello\".upper().isupper() -> True\n",
    "* \"Hello\".upper().lower() -> 'hello'"
   ]
  },
  {
   "cell_type": "markdown",
   "id": "da9f0a99",
   "metadata": {},
   "source": [
    "### 8. What are the values of the following expressions?"
   ]
  },
  {
   "cell_type": "markdown",
   "id": "a0b0d13a",
   "metadata": {},
   "source": [
    "* 'Remember, remember, the fifth of July'.split() -> ['Remember,', 'remember,', 'the', 'fifth', 'of', 'July']\n",
    "* \"-\".join(\"There can only one\".split()) -> 'There-can-only-one'"
   ]
  },
  {
   "cell_type": "markdown",
   "id": "9ce618c7",
   "metadata": {},
   "source": [
    "### 9. What are the methods for right justifying, left-justifying, and centering a string?"
   ]
  },
  {
   "cell_type": "markdown",
   "id": "a54445c7",
   "metadata": {},
   "source": [
    "#### Answer:\n",
    "* centering a string = str.center(length, fill)\n",
    "* right justifying =  str.rjust(length, fill)\n",
    "* left justifying = str.ljust(length, fill)"
   ]
  },
  {
   "cell_type": "code",
   "execution_count": 2,
   "id": "cdc868e1",
   "metadata": {},
   "outputs": [],
   "source": [
    "string = \"MyName\""
   ]
  },
  {
   "cell_type": "code",
   "execution_count": 3,
   "id": "abe71682",
   "metadata": {},
   "outputs": [
    {
     "data": {
      "text/plain": [
       "'**MyName**'"
      ]
     },
     "execution_count": 3,
     "metadata": {},
     "output_type": "execute_result"
    }
   ],
   "source": [
    "string.center(10,\"*\")"
   ]
  },
  {
   "cell_type": "code",
   "execution_count": 4,
   "id": "4205d5fe",
   "metadata": {},
   "outputs": [
    {
     "data": {
      "text/plain": [
       "'MyName****'"
      ]
     },
     "execution_count": 4,
     "metadata": {},
     "output_type": "execute_result"
    }
   ],
   "source": [
    "string.ljust(10,\"*\")"
   ]
  },
  {
   "cell_type": "code",
   "execution_count": 5,
   "id": "45197f04",
   "metadata": {},
   "outputs": [
    {
     "data": {
      "text/plain": [
       "'****MyName'"
      ]
     },
     "execution_count": 5,
     "metadata": {},
     "output_type": "execute_result"
    }
   ],
   "source": [
    "string.rjust(10,\"*\")"
   ]
  },
  {
   "cell_type": "markdown",
   "id": "b97400ee",
   "metadata": {},
   "source": [
    "### 10. What is the best way to remove whitespace characters from the start or end?"
   ]
  },
  {
   "cell_type": "markdown",
   "id": "3ffd6164",
   "metadata": {},
   "source": [
    "#### Answer: str.strip() is the best way to remove leading and trailing white spaces in a string"
   ]
  },
  {
   "cell_type": "code",
   "execution_count": 6,
   "id": "489b07a4",
   "metadata": {},
   "outputs": [
    {
     "data": {
      "text/plain": [
       "' My Name    '"
      ]
     },
     "execution_count": 6,
     "metadata": {},
     "output_type": "execute_result"
    }
   ],
   "source": [
    "string_2 = \" My Name    \"\n",
    "string_2"
   ]
  },
  {
   "cell_type": "code",
   "execution_count": 7,
   "id": "2e195ee7",
   "metadata": {},
   "outputs": [
    {
     "data": {
      "text/plain": [
       "'My Name'"
      ]
     },
     "execution_count": 7,
     "metadata": {},
     "output_type": "execute_result"
    }
   ],
   "source": [
    "string_2 = string_2.strip()\n",
    "string_2"
   ]
  }
 ],
 "metadata": {
  "kernelspec": {
   "display_name": "Python 3 (ipykernel)",
   "language": "python",
   "name": "python3"
  },
  "language_info": {
   "codemirror_mode": {
    "name": "ipython",
    "version": 3
   },
   "file_extension": ".py",
   "mimetype": "text/x-python",
   "name": "python",
   "nbconvert_exporter": "python",
   "pygments_lexer": "ipython3",
   "version": "3.9.13"
  }
 },
 "nbformat": 4,
 "nbformat_minor": 5
}
