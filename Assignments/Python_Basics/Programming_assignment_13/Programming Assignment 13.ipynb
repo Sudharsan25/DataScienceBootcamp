{
 "cells": [
  {
   "cell_type": "markdown",
   "id": "59aed025",
   "metadata": {},
   "source": [
    "#### 1.Question 1:\n",
    "* Write a program that calculates and prints the value according to the given formula:\n",
    "Q = Square root of [(2 * C * D)/H]\n",
    "Following are the fixed values of C and H:\n",
    "C is 50. H is 30.\n",
    "D is the variable whose values should be input to your program in a comma- separated sequence.\n",
    "* Example\n",
    "Let us assume the following comma separated input sequence is given to the program:\n",
    "100,150,180\n",
    "The output of the program should be:\n",
    "18,22,24"
   ]
  },
  {
   "cell_type": "code",
   "execution_count": 4,
   "id": "d9fce3df",
   "metadata": {},
   "outputs": [
    {
     "name": "stdout",
     "output_type": "stream",
     "text": [
      "Enter the numbers seperated by comma: 100,150,180\n",
      "18\n",
      "22\n",
      "24\n"
     ]
    }
   ],
   "source": [
    "import math\n",
    "def calculate_Q(n):\n",
    "    return int(math.sqrt((2*50*n)/30))\n",
    "\n",
    "if __name__ == \"__main__\":\n",
    "    Input = input(\"Enter the numbers seperated by comma: \")\n",
    "    numbers=Input.split(\",\")\n",
    "    for number in numbers:\n",
    "        print(calculate_Q(int(number)))"
   ]
  },
  {
   "cell_type": "markdown",
   "id": "ac821e0b",
   "metadata": {},
   "source": [
    "#### Question 2:\n",
    "* Write a program which takes 2 digits, X,Y as input and generates a 2-dimensional array. The\n",
    "element value in the i-th row and j-th column of the array should be i*j.\n",
    "Note: i=0,1.., X-1; j=0,1,¡Y-1.\n",
    "* Example\n",
    "Suppose the following inputs are given to the program:\n",
    "3,5\n",
    "Then, the output of the program should be:\n",
    "[[0, 0, 0, 0, 0], [0, 1, 2, 3, 4], [0, 2, 4, 6, 8]]"
   ]
  },
  {
   "cell_type": "code",
   "execution_count": 7,
   "id": "180c65f1",
   "metadata": {},
   "outputs": [],
   "source": [
    "def matrix():\n",
    "    rows=int(input(\"Enter the number of rows:\"))\n",
    "    column=int(input(\"Enter the number of columns: \"))\n",
    "    matrix=[]\n",
    "    for i in range(rows):          \n",
    "        row =[]\n",
    "        for j in range(column):      \n",
    "            row.append(i*j)\n",
    "        matrix.append(row)\n",
    "    return matrix"
   ]
  },
  {
   "cell_type": "code",
   "execution_count": 8,
   "id": "9773f172",
   "metadata": {},
   "outputs": [
    {
     "name": "stdout",
     "output_type": "stream",
     "text": [
      "Enter the number of rows:3\n",
      "Enter the number of columns: 5\n"
     ]
    },
    {
     "data": {
      "text/plain": [
       "[[0, 0, 0, 0, 0], [0, 1, 2, 3, 4], [0, 2, 4, 6, 8]]"
      ]
     },
     "execution_count": 8,
     "metadata": {},
     "output_type": "execute_result"
    }
   ],
   "source": [
    "matrix()"
   ]
  },
  {
   "cell_type": "markdown",
   "id": "acc6e581",
   "metadata": {},
   "source": [
    "####  Question 3:\n",
    "* Write a program that accepts a comma separated sequence of words as input and prints the\n",
    "words in a comma-separated sequence after sorting them alphabetically.\n",
    "* Suppose the following input is supplied to the program:\n",
    "without,hello,bag,world\n",
    "Then, the output should be:\n",
    "bag,hello,without,world"
   ]
  },
  {
   "cell_type": "code",
   "execution_count": 22,
   "id": "5a1b2571",
   "metadata": {},
   "outputs": [],
   "source": [
    "def sort_words():\n",
    "    Input=input(\"Enter a comma seperated sequence of words: \")\n",
    "    words = Input.split(\",\")\n",
    "    return \",\".join(sorted(words))"
   ]
  },
  {
   "cell_type": "code",
   "execution_count": 23,
   "id": "a1b4b29a",
   "metadata": {
    "scrolled": true
   },
   "outputs": [
    {
     "name": "stdout",
     "output_type": "stream",
     "text": [
      "Enter a comma seperated sequence of words: without,hello,bag,world\n"
     ]
    },
    {
     "data": {
      "text/plain": [
       "'bag,hello,without,world'"
      ]
     },
     "execution_count": 23,
     "metadata": {},
     "output_type": "execute_result"
    }
   ],
   "source": [
    "sort_words()"
   ]
  },
  {
   "cell_type": "markdown",
   "id": "e2aae2a8",
   "metadata": {},
   "source": [
    "#### Question 4:\n",
    "* Write a program that accepts a sequence of whitespace separated words as input and prints the words after removing all duplicate words and sorting them alphanumerically.\n",
    "* Suppose the following input is supplied to the program:\n",
    "    hello world and practice makes perfect and hello world again\n",
    "\n",
    "* Then, the output should be:\n",
    "    again and hello makes perfect practice world"
   ]
  },
  {
   "cell_type": "code",
   "execution_count": 24,
   "id": "3e15cc23",
   "metadata": {},
   "outputs": [],
   "source": [
    "def sort_words_2():\n",
    "    Input=input(\"Enter the whitespace seperated sequence of words: \")\n",
    "    words = Input.split(\" \")\n",
    "    unique=list(set(words))\n",
    "    return \" \".join(sorted(unique))\n",
    "    "
   ]
  },
  {
   "cell_type": "code",
   "execution_count": 25,
   "id": "d9c3eacd",
   "metadata": {},
   "outputs": [
    {
     "name": "stdout",
     "output_type": "stream",
     "text": [
      "Enter the whitespace seperated sequence of words: hello world and practice makes perfect and hello world again\n"
     ]
    },
    {
     "data": {
      "text/plain": [
       "'again and hello makes perfect practice world'"
      ]
     },
     "execution_count": 25,
     "metadata": {},
     "output_type": "execute_result"
    }
   ],
   "source": [
    "sort_words_2()"
   ]
  },
  {
   "cell_type": "markdown",
   "id": "23d1e124",
   "metadata": {},
   "source": [
    "#### Question 5:\n",
    "* Write a program that accepts a sentence and calculate the number of letters and digits.\n",
    "* Suppose the following input is supplied to the program:\n",
    "hello world! 123\n",
    "* Then, the output should be:\n",
    " LETTERS 10\n",
    " DIGITS 3"
   ]
  },
  {
   "cell_type": "code",
   "execution_count": 26,
   "id": "1517ab66",
   "metadata": {},
   "outputs": [],
   "source": [
    "def count_alpha_num():\n",
    "    Input = input(\"Enter the sentence: \")\n",
    "    LETTERS = 0\n",
    "    DIGITS = 0\n",
    "    for i in Input:\n",
    "        if i.isalpha():\n",
    "            LETTERS+=1\n",
    "        elif i.isnumeric():\n",
    "            DIGITS+=1\n",
    "    print(f'LETTERS {LETTERS}')\n",
    "    print(f'DIGITS {DIGITS}')"
   ]
  },
  {
   "cell_type": "code",
   "execution_count": 28,
   "id": "f1bcd9fb",
   "metadata": {},
   "outputs": [
    {
     "name": "stdout",
     "output_type": "stream",
     "text": [
      "Enter the sentence: hello world! 123\n",
      "LETTERS 10\n",
      "DIGITS 3\n"
     ]
    }
   ],
   "source": [
    "count_alpha_num()"
   ]
  },
  {
   "cell_type": "markdown",
   "id": "3ca65628",
   "metadata": {},
   "source": [
    "#### Question 6:\n",
    "A website requires the users to input username and password to register. Write a program to\n",
    "check the validity of password input by users.\n",
    "Following are the criteria for checking the password:\n",
    "1. At least 1 letter between [a-z]\n",
    "2. At least 1 number between [0-9]\n",
    "1. At least 1 letter between [A-Z]\n",
    "3. At least 1 character from [$#@]\n",
    "4. Minimum length of transaction password: 6\n",
    "5. Maximum length of transaction password: 12\n",
    "Your program should accept a sequence of comma separated passwords and will check them\n",
    "according to the above criteria. Passwords that match the criteria are to be printed, each\n",
    "separated by a comma.\n",
    "\n",
    "Example\n",
    "* If the following passwords are given as input to the program:\n",
    "* ABd1234@1,a F1#,2w3E*,2We3345\n",
    "* Then, the output of the program should be:\n",
    "* ABd1234@1"
   ]
  },
  {
   "cell_type": "code",
   "execution_count": 45,
   "id": "2f3b2426",
   "metadata": {},
   "outputs": [],
   "source": [
    "def valid_passwords():\n",
    "    Input=input(\"Enter a comma seperated sequence of passwords: \")\n",
    "    passwords=Input.split(\",\")\n",
    "    spl=\"$#@\"\n",
    "    valid=[]\n",
    "    for password in passwords:\n",
    "        flag=True\n",
    "        if ((5<len(password) and len(password)<13)):\n",
    "            if any(i.isupper() for i in password):\n",
    "                if any(i.islower() for i in password):\n",
    "                    if any(i for i in password if i in spl):\n",
    "                        if any(i.isdigit() for i in password):\n",
    "                            valid.append(password)\n",
    "                        \n",
    "    print(\",\".join(valid))"
   ]
  },
  {
   "cell_type": "code",
   "execution_count": 46,
   "id": "688b5501",
   "metadata": {},
   "outputs": [
    {
     "name": "stdout",
     "output_type": "stream",
     "text": [
      "Enter a comma seperated sequence of passwords: ABd1234@1,a F1#,2w3E*,2We3345\n",
      "ABd1234@1\n"
     ]
    }
   ],
   "source": [
    "valid_passwords()"
   ]
  }
 ],
 "metadata": {
  "kernelspec": {
   "display_name": "Python 3 (ipykernel)",
   "language": "python",
   "name": "python3"
  },
  "language_info": {
   "codemirror_mode": {
    "name": "ipython",
    "version": 3
   },
   "file_extension": ".py",
   "mimetype": "text/x-python",
   "name": "python",
   "nbconvert_exporter": "python",
   "pygments_lexer": "ipython3",
   "version": "3.9.13"
  }
 },
 "nbformat": 4,
 "nbformat_minor": 5
}
