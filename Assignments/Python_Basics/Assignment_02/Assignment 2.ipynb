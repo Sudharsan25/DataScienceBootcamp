{
 "cells": [
  {
   "cell_type": "markdown",
   "id": "f363404c",
   "metadata": {},
   "source": [
    "## Python Assignment 2"
   ]
  },
  {
   "cell_type": "markdown",
   "id": "6da789bc",
   "metadata": {},
   "source": [
    "## 1.What are the two values of the Boolean data type? How do you write them?"
   ]
  },
  {
   "cell_type": "markdown",
   "id": "44a5c952",
   "metadata": {},
   "source": [
    "#### Answer: The two values for Boolean data type are true and false. You write them in title case: True and False"
   ]
  },
  {
   "cell_type": "markdown",
   "id": "50a89ad1",
   "metadata": {},
   "source": [
    "### 2. What are the three different types of Boolean operators?"
   ]
  },
  {
   "cell_type": "markdown",
   "id": "830b588a",
   "metadata": {},
   "source": [
    "#### Answer: Three types of Boolean operators are\n",
    "####    a. AND\n",
    "####    b. OR\n",
    "####    c. NOT"
   ]
  },
  {
   "cell_type": "markdown",
   "id": "f2268c9c",
   "metadata": {},
   "source": [
    "### 3. Make a list of each Boolean operator&#39;s truth tables (i.e. every possible combination of Boolean values for the operator and what it evaluate )."
   ]
  },
  {
   "cell_type": "markdown",
   "id": "5c3dd44c",
   "metadata": {},
   "source": [
    "#### AND Table\n",
    "| Input 1 | Input 2 | Output |\n",
    "| ------- | ------- | ------ |\n",
    "| True | True | True |\n",
    "| True | False | False |\n",
    "| False | True | False |\n",
    "| False | False | False |"
   ]
  },
  {
   "cell_type": "markdown",
   "id": "f590d598",
   "metadata": {},
   "source": [
    "#### OR Table\n",
    "| Input 1 | Input 2 | Output |\n",
    "| ------- | ------- | ------ |\n",
    "| True | True | True |\n",
    "| True | False | True |\n",
    "| False | True | True |\n",
    "| False | False | False |"
   ]
  },
  {
   "cell_type": "markdown",
   "id": "5bc0b5e6",
   "metadata": {},
   "source": [
    "#### NOT Table\n",
    "| Input 1 | Output |\n",
    "| ------- | ------- |\n",
    "| True | False |\n",
    "| False | True |"
   ]
  },
  {
   "cell_type": "markdown",
   "id": "21178d86",
   "metadata": {},
   "source": [
    "### 4. What are the values of the following expressions?"
   ]
  },
  {
   "cell_type": "markdown",
   "id": "7523945b",
   "metadata": {},
   "source": [
    "#### \n",
    "* (5>4) and (3==5)\n",
    "**False*\n",
    "* not(5>4)\n",
    "**False*\n",
    "* (5>4) or (3==5)\n",
    "**True*\n",
    "* not((5>4) or (3==5))\n",
    "**False*\n",
    "* (True and True) and (True == False)\n",
    "**False*\n",
    "* (not False) or (not True)\n",
    "**True*"
   ]
  },
  {
   "cell_type": "markdown",
   "id": "a53fb201",
   "metadata": {},
   "source": [
    "### 5. What are the six comparison operators?"
   ]
  },
  {
   "cell_type": "markdown",
   "id": "aac4fe10",
   "metadata": {},
   "source": [
    "* \"==\" - equal to\n",
    "* \"!=\" - not equal to\n",
    "* \"<\" - less than\n",
    "* \">\" - greater than\n",
    "* \"<=\" - less than or equal to\n",
    "* \">=\" - greater than or equal to"
   ]
  },
  {
   "cell_type": "markdown",
   "id": "7a13f96b",
   "metadata": {},
   "source": [
    "### 6. How do you tell the difference between the equal to and assignment operators?Describe a condition and when you would use one."
   ]
  },
  {
   "cell_type": "markdown",
   "id": "185c6c77",
   "metadata": {},
   "source": [
    "#### Answer: Equal to (Equality) operators are used to check the values of the variables are equal to each other or not. It returns a true or false based on the values of operands. Whereas, Assignment operators are used to assign a new value to a variable. "
   ]
  },
  {
   "cell_type": "code",
   "execution_count": 7,
   "id": "33340295",
   "metadata": {},
   "outputs": [
    {
     "name": "stdout",
     "output_type": "stream",
     "text": [
      "Sum and budget are equal!!\n"
     ]
    }
   ],
   "source": [
    "#### Example. SUM and Budget in an company.\n",
    "sum_of_expenditure = 1000 # Assignment operator to assign value to the sum variable\n",
    "budget = 1200 # Assignment operator\n",
    "\n",
    "if sum_of_expenditure == budget: # Equal to operator to check if sum is equal to budget\n",
    "    print(\"Sum is not equal to budget\")\n",
    "else:\n",
    "    print(\"Sum and budget are equal!!\")"
   ]
  },
  {
   "cell_type": "markdown",
   "id": "a60dece6",
   "metadata": {},
   "source": [
    "### 7. Identify the three blocks in this code:"
   ]
  },
  {
   "cell_type": "code",
   "execution_count": 6,
   "id": "8e9d641d",
   "metadata": {},
   "outputs": [
    {
     "name": "stdout",
     "output_type": "stream",
     "text": [
      "Ham\n",
      "Spam\n",
      "Spam\n"
     ]
    }
   ],
   "source": [
    "spam = 0 \n",
    "\n",
    "# Block one\n",
    "if spam == 10:\n",
    "    print(\"Eggs\")\n",
    "    \n",
    "# Block two\n",
    "if spam >5:\n",
    "    print(\"Bacon\")\n",
    "    \n",
    "# Block three    \n",
    "else:\n",
    "    print(\"Ham\")\n",
    "    print(\"Spam\")\n",
    "    print(\"Spam\")"
   ]
  },
  {
   "cell_type": "markdown",
   "id": "24a82c59",
   "metadata": {},
   "source": [
    "### 8. Write code that prints Hello if 1 is stored in spam, prints Howdy if 2 is stored in spam, and prints Greetings! if anything else is stored in spam."
   ]
  },
  {
   "cell_type": "code",
   "execution_count": 9,
   "id": "a76026a1",
   "metadata": {},
   "outputs": [
    {
     "name": "stdout",
     "output_type": "stream",
     "text": [
      "Enter a number: 1\n",
      "Hello\n"
     ]
    }
   ],
   "source": [
    "spam = int(input(\"Enter a number: \"))\n",
    "\n",
    "if spam == 1:\n",
    "    print(\"Hello\")\n",
    "elif spam == 2:\n",
    "    print(\"Howdy\")\n",
    "else:\n",
    "    print(\"Greetings!\")"
   ]
  },
  {
   "cell_type": "code",
   "execution_count": 10,
   "id": "c9972a83",
   "metadata": {},
   "outputs": [
    {
     "name": "stdout",
     "output_type": "stream",
     "text": [
      "Enter a number: 2\n",
      "Howdy\n"
     ]
    }
   ],
   "source": [
    "spam = int(input(\"Enter a number: \"))\n",
    "\n",
    "if spam == 1:\n",
    "    print(\"Hello\")\n",
    "elif spam == 2:\n",
    "    print(\"Howdy\")\n",
    "else:\n",
    "    print(\"Greetings!\")"
   ]
  },
  {
   "cell_type": "code",
   "execution_count": 11,
   "id": "3d2994ea",
   "metadata": {},
   "outputs": [
    {
     "name": "stdout",
     "output_type": "stream",
     "text": [
      "Enter a number: 10\n",
      "Greetings!\n"
     ]
    }
   ],
   "source": [
    "spam = int(input(\"Enter a number: \"))\n",
    "\n",
    "if spam == 1:\n",
    "    print(\"Hello\")\n",
    "elif spam == 2:\n",
    "    print(\"Howdy\")\n",
    "else:\n",
    "    print(\"Greetings!\")"
   ]
  },
  {
   "cell_type": "markdown",
   "id": "718374c9",
   "metadata": {},
   "source": [
    "### 9.If your programme is stuck in an endless loop, what keys you’ll press?"
   ]
  },
  {
   "cell_type": "markdown",
   "id": "11408e10",
   "metadata": {},
   "source": [
    "#### Answer: Ctrl + C"
   ]
  },
  {
   "cell_type": "markdown",
   "id": "43cab9ba",
   "metadata": {},
   "source": [
    "### 10. How can you tell the difference between break and continue?"
   ]
  },
  {
   "cell_type": "markdown",
   "id": "44c405f5",
   "metadata": {},
   "source": [
    "#### Answer: \n",
    "* A **break** statement can be used to stop the execution of the loop. We can use it to stop the execution of the loop if certain condition is satisfied. Then the loop is exited and flow is passed to next code block.\n",
    "\n",
    "* Whereas, a **continue** statement is used to skip the current execution of the loop. When a certain condition satisfies the ongoing execution of the loop is skipped, meaning the rest of the code after the conitnue statement is not executed and the flow goes to the next iteration"
   ]
  },
  {
   "cell_type": "markdown",
   "id": "df955e1b",
   "metadata": {},
   "source": [
    "### 11. In a for loop, what is the difference between range(10), range(0, 10), and range(0, 10, 1)?"
   ]
  },
  {
   "cell_type": "markdown",
   "id": "cfa83538",
   "metadata": {},
   "source": [
    "#### Answer: \n",
    "* *range(10)*: This will run the loop 10 times, because the end of the loop is specificed as 10, and it will start from 0 and go till 9. (10 is exclusive)\n",
    "\n",
    "* *range(0,10)*: This is the exact same as the above code, but here the start of the loop is also specified. But since start is 0 by default, it is not mentioned in the above case, but still runs the same\n",
    "\n",
    "* *range(0,10,1)*: This loop also runs for 10 tips. But the third argument here is called a Step. A step in loop is used to take steps in between the range. For example, in this case, the step is specified as 1, from 0 to 9. So it will run for 10 times. If the step is specified as 2, then the loop will run only 5 times"
   ]
  },
  {
   "cell_type": "markdown",
   "id": "c989474d",
   "metadata": {},
   "source": [
    "### 12. Write a short program that prints the numbers 1 to 10 using a for loop. Then write an equivalent program that prints the numbers 1 to 10 using a while loop."
   ]
  },
  {
   "cell_type": "code",
   "execution_count": 2,
   "id": "e479ae81",
   "metadata": {},
   "outputs": [
    {
     "name": "stdout",
     "output_type": "stream",
     "text": [
      "1\n",
      "2\n",
      "3\n",
      "4\n",
      "5\n",
      "6\n",
      "7\n",
      "8\n",
      "9\n",
      "10\n"
     ]
    }
   ],
   "source": [
    "# Using a for loop\n",
    "for i in range(1,11):\n",
    "    print(i)"
   ]
  },
  {
   "cell_type": "code",
   "execution_count": 5,
   "id": "8142e84c",
   "metadata": {
    "scrolled": true
   },
   "outputs": [
    {
     "name": "stdout",
     "output_type": "stream",
     "text": [
      "1\n",
      "2\n",
      "3\n",
      "4\n",
      "5\n",
      "6\n",
      "7\n",
      "8\n",
      "9\n",
      "10\n"
     ]
    }
   ],
   "source": [
    "# using while loop\n",
    "i = 1\n",
    "while i<=10:\n",
    "    print(i)\n",
    "    i += 1"
   ]
  },
  {
   "cell_type": "markdown",
   "id": "ebc4d59e",
   "metadata": {},
   "source": [
    "### 13. If you had a function named bacon() inside a module named spam, how would you call it after importing spam?"
   ]
  },
  {
   "cell_type": "markdown",
   "id": "1409609f",
   "metadata": {},
   "source": [
    "#### Answer: Since you have imported the module spam, you can directly call the function by spam.bacon(). If you wish to make it easier, you can import bacon from spam module seperately, you each time you can just call bacon() instead of spam.bacon()"
   ]
  }
 ],
 "metadata": {
  "kernelspec": {
   "display_name": "Python 3 (ipykernel)",
   "language": "python",
   "name": "python3"
  },
  "language_info": {
   "codemirror_mode": {
    "name": "ipython",
    "version": 3
   },
   "file_extension": ".py",
   "mimetype": "text/x-python",
   "name": "python",
   "nbconvert_exporter": "python",
   "pygments_lexer": "ipython3",
   "version": "3.9.13"
  }
 },
 "nbformat": 4,
 "nbformat_minor": 5
}
