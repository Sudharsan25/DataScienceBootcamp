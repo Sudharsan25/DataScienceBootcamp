{
 "cells": [
  {
   "cell_type": "markdown",
   "id": "9b79b853",
   "metadata": {},
   "source": [
    "### Python Basic Assignment 7"
   ]
  },
  {
   "cell_type": "code",
   "execution_count": 1,
   "id": "e110587f",
   "metadata": {},
   "outputs": [],
   "source": [
    "import re"
   ]
  },
  {
   "cell_type": "markdown",
   "id": "f56a1601",
   "metadata": {},
   "source": [
    "#### 1. What is the name of the feature responsible for generating Regex objects?\n",
    "\n",
    "* The re.compile() function from the re module (Regular experssion) can generate REGEX objects"
   ]
  },
  {
   "cell_type": "markdown",
   "id": "0efc6ba9",
   "metadata": {},
   "source": [
    "#### 2. Why do raw strings often appear in Regex objects?\n",
    "\n",
    "* Using a raw string in regex objects, can help escape the backslash characters in python. As regex usually contains lots of backslahes, raw strings prove useful in this case"
   ]
  },
  {
   "cell_type": "markdown",
   "id": "43d0ddee",
   "metadata": {},
   "source": [
    "#### 3. What is the return value of the search() method?\n",
    "\n",
    "* The search() method from re module, returns a match object if there is match for the regex pattern in the given string"
   ]
  },
  {
   "cell_type": "markdown",
   "id": "f37605f1",
   "metadata": {},
   "source": [
    "#### 4. From a Match item, how do you get the actual strings that match the pattern?\n",
    "\n",
    "* Match objects have a grou() method, which returns the actual string that match the pattern of regex"
   ]
  },
  {
   "cell_type": "code",
   "execution_count": 2,
   "id": "2d81755b",
   "metadata": {},
   "outputs": [
    {
     "name": "stdout",
     "output_type": "stream",
     "text": [
      "Phone number found: 415-555-4242\n"
     ]
    }
   ],
   "source": [
    "phoneNumRegex = re.compile(r'\\d\\d\\d-\\d\\d\\d-\\d\\d\\d\\d')\n",
    "match = phoneNumRegex.search('My number is 415-555-4242.')\n",
    "print('Phone number found: ' + match.group())"
   ]
  },
  {
   "cell_type": "markdown",
   "id": "c8c44d85",
   "metadata": {},
   "source": [
    "#### 5. In the regex which created from the r'(\\d\\d\\d)-(\\d\\d\\d-\\d\\d\\d\\d)', what does group zero cover? Group 2? Group 1?\n",
    "\n",
    "* In regex objects, Group 0 covers the complete pattern match on the string (\\d\\d\\d)-(\\d\\d\\d-\\d\\d\\d\\d)\n",
    "* Group 1 covers the first group match (\\d\\d\\d)\n",
    "* Group 2 covers the second group match (\\d\\d\\d-\\d\\d\\d\\d)"
   ]
  },
  {
   "cell_type": "markdown",
   "id": "7b20c43f",
   "metadata": {},
   "source": [
    "#### 6. In standard expression syntax, parentheses and intervals have distinct meanings. How can you tell a regex that you want it to fit real parentheses and periods?\n",
    "\n",
    "* When we want to use a real parentheses or period in our regex pattern, we can make use of backslashes to escape the characters from being read as a syntax"
   ]
  },
  {
   "cell_type": "markdown",
   "id": "d1f22409",
   "metadata": {},
   "source": [
    "#### 7. The findall() method returns a string list or a list of string tuples. What causes it to return one of the two options? \n",
    "\n",
    "* If a pattern contains a group then, the findall method returns a list of string tuples that match the regex\n",
    "* If the pattern doesn't contain any group, in this case, findall returns a list of strings that match the regex."
   ]
  },
  {
   "cell_type": "markdown",
   "id": "f6fa3af1",
   "metadata": {},
   "source": [
    "#### 8. In standard expressions, what does the | character mean?\n",
    "* | stands for either or in a regex pattern"
   ]
  },
  {
   "cell_type": "markdown",
   "id": "03bba192",
   "metadata": {},
   "source": [
    "#### 10.In regular expressions, what is the difference between the + and * characters?\n",
    "\n",
    "* '+' character checks for zero or more occurances of the same character, whereas '*'character checks for one or more occurances of the same character."
   ]
  },
  {
   "cell_type": "markdown",
   "id": "e3a7cd92",
   "metadata": {},
   "source": [
    "#### 11. What is the difference between {4} and {4,5} in regular expression?\n",
    "* {} in regex checks for a repeatation of a character a specific number times. For example, l{4} checks for occurance of four continous l in the string. When you use two numbers in {}, it returns the list of strings that have either the first number of occurances, or the second number."
   ]
  },
  {
   "cell_type": "code",
   "execution_count": 3,
   "id": "f97e1427",
   "metadata": {
    "scrolled": true
   },
   "outputs": [
    {
     "name": "stdout",
     "output_type": "stream",
     "text": [
      "['hello', 'helllo']\n"
     ]
    }
   ],
   "source": [
    "txt = \"hello planet helllo\"\n",
    "x = re.findall(\"he.{2,3}o\", txt)\n",
    "print(x)"
   ]
  },
  {
   "cell_type": "markdown",
   "id": "0623bb53",
   "metadata": {},
   "source": [
    "####  12. What do you mean by the \\d, \\w, and \\s shorthand character classes signify in regular expressions?\n",
    "* \\d - returns match when string contains any digit from 0-9\n",
    "* \\w - returns match when string contains any word characters from a-z (All uppercase and lowercase alphabets), 0-9 digits and underscore (_) character\n",
    "* \\s - returns a match when string contains white space character"
   ]
  },
  {
   "cell_type": "markdown",
   "id": "732e4893",
   "metadata": {},
   "source": [
    "#### 13. What do means by \\D, \\W, and \\S shorthand character classes signify in regular expressions?\n",
    "\n",
    "* \\D - returns match when string does not contain any digit from 0-9\n",
    "* \\W - returns match when string does not contain any word characters from a-Z, 0-9, or _\n",
    "* \\S - returns match when a string does not contain a white space "
   ]
  },
  {
   "cell_type": "markdown",
   "id": "74563830",
   "metadata": {},
   "source": [
    "#### 14. What is the difference between '.\\*?' and '.\\*' ?\n",
    "\n",
    "* The \".*?\" returns the shortest string that matches the condition, while \".*\" returns the longest string that contains the match"
   ]
  },
  {
   "cell_type": "markdown",
   "id": "e4314898",
   "metadata": {},
   "source": [
    "#### 15. What is the syntax for matching both numbers and lowercase letters with a character class?\n",
    "\n",
    "* We can use the [] to specify the range of characters to be a-z0-9, i.e., [a-z0-9] or [0-9a-z]"
   ]
  },
  {
   "cell_type": "markdown",
   "id": "69140c57",
   "metadata": {},
   "source": [
    "#### 16. What is the procedure for making a normal expression in regax case insensitive?\n",
    "* The re.IGNORECASE method to make the pattern case insensitive"
   ]
  },
  {
   "cell_type": "markdown",
   "id": "efbbb75d",
   "metadata": {},
   "source": [
    "#### 17. What does the . character normally match? What does it match if re.DOTALL is passed as 2nd argument in re.compile()?\n",
    "\n",
    "* \".\" in regex is used to match any character apart from a newline\n",
    "* But if we we pass re.DOTALL to the re.compile() then it also matchs the newline"
   ]
  },
  {
   "cell_type": "markdown",
   "id": "b91af22c",
   "metadata": {},
   "source": [
    "#### 18. If numReg = re.compile(r'\\d+'), what will numRegex.sub('X', '11 drummers, 10 pipers, five rings, 4 hen') return?"
   ]
  },
  {
   "cell_type": "code",
   "execution_count": 4,
   "id": "a24b4733",
   "metadata": {},
   "outputs": [
    {
     "data": {
      "text/plain": [
       "'X drummers, X pipers, five rings, X hen'"
      ]
     },
     "execution_count": 4,
     "metadata": {},
     "output_type": "execute_result"
    }
   ],
   "source": [
    "numReg = re.compile(r'\\d+')\n",
    "numReg.sub('X', '11 drummers, 10 pipers, five rings, 4 hen')"
   ]
  },
  {
   "cell_type": "markdown",
   "id": "78e4f5ee",
   "metadata": {},
   "source": [
    "#### 19. What does passing re.VERBOSE as the 2nd argument to re.compile() allow to do?\n",
    "\n",
    "* VERBOSE enables us to pass comments and whitespaces in the input passed to re.compile"
   ]
  },
  {
   "cell_type": "markdown",
   "id": "3c6387ed",
   "metadata": {},
   "source": [
    "#### 20. How would you write a regex that match a number with comma for every three digits? It must match the given following:\n",
    "\n",
    "* \"42\"\n",
    "* \"1,234\"\n",
    "* \"6,368,745\"\n",
    "#### But not the following:\n",
    "* \"12,34,567\"\n",
    "* \"1234\""
   ]
  },
  {
   "cell_type": "code",
   "execution_count": 6,
   "id": "404f2253",
   "metadata": {},
   "outputs": [],
   "source": [
    "def regex_check(regex, string):\n",
    "    if regex.search(string):\n",
    "        print(f'The String {string} matches the regex')\n",
    "    else:\n",
    "        print(f'The String {string} does not match the regex')"
   ]
  },
  {
   "cell_type": "code",
   "execution_count": 7,
   "id": "83bc5933",
   "metadata": {
    "scrolled": true
   },
   "outputs": [
    {
     "name": "stdout",
     "output_type": "stream",
     "text": [
      "The String 42 matches the regex\n",
      "The String 1,234 matches the regex\n",
      "The String 6,368,745 matches the regex\n",
      "The String 12,34,567 does not match the regex\n",
      "The String 1234 does not match the regex\n",
      "The String 123,456 matches the regex\n",
      "The String 653,23,234 does not match the regex\n"
     ]
    }
   ],
   "source": [
    "pattern = r'^\\d{1,3}(,\\d{3})*$'\n",
    "regex_1 = re.compile(pattern)\n",
    "for string in ['42','1,234', '6,368,745','12,34,567','1234', '123,456','653,23,234']:\n",
    "    regex_check(regex_1,string)"
   ]
  },
  {
   "cell_type": "markdown",
   "id": "e24f8d3f",
   "metadata": {},
   "source": [
    "#### 21. How would you write a regex that matches the full name of someone whose last name is Watanabe? You can assume that the first name that comes before it will always be one word that begins with a capital letter. The regex must match the following:\n",
    "\n",
    "* 'Haruto Watanabe'\n",
    "* 'Alice Watanabe'\n",
    "* 'RoboCop Watanabe'\n",
    "\n",
    "#### But not the following:\n",
    "\n",
    "* 'haruto Watanabe'\n",
    "* 'Mr. Watanabe'\n",
    "* 'Watanabe'\n",
    "* 'Haruto watanabe'"
   ]
  },
  {
   "cell_type": "code",
   "execution_count": 8,
   "id": "5bb838f9",
   "metadata": {},
   "outputs": [
    {
     "name": "stdout",
     "output_type": "stream",
     "text": [
      "The String Haruto Watanabe matches the regex\n",
      "The String Alice Watanabe matches the regex\n",
      "The String haruto Watanabe does not match the regex\n",
      "The String Mr. Watanabe does not match the regex\n"
     ]
    }
   ],
   "source": [
    "regex_2 = re.compile(r'^[A-Z]{1}[a-z]*\\sWatanabe$')\n",
    "\n",
    "list = ['Haruto Watanabe','Alice Watanabe','haruto Watanabe','Mr. Watanabe']\n",
    "\n",
    "for string in list:\n",
    "    regex_check(regex_2,string)"
   ]
  },
  {
   "cell_type": "markdown",
   "id": "e38637e1",
   "metadata": {},
   "source": [
    "#### 22. How would you write a regex that matches a sentence where the first word is either Alice, Bob, or Carol; the second word is either eats, pets, or throws; the third word is apples, cats, or baseballs; and the sentence ends with a period? This regex should be case-insensitive. It must match the following:\n",
    "\n",
    "* 'Alice eats apples'\n",
    "* 'Bob pets cats'\n",
    "* 'Carol throws baseballs'\n",
    "* 'Alice throws apples'\n",
    "* 'BOB EATS CATS'\n",
    "\n",
    "#### but should not match the following:\n",
    "\n",
    "* 'RoboCop eats apples'\n",
    "* 'ALICE THROWS FOOTBALLS'\n",
    "* 'Carol eats 7 cats'"
   ]
  },
  {
   "cell_type": "code",
   "execution_count": 9,
   "id": "d764fb9b",
   "metadata": {},
   "outputs": [
    {
     "name": "stdout",
     "output_type": "stream",
     "text": [
      "The String Alice eats apples. matches the regex\n",
      "The String Bob pets cats. matches the regex\n",
      "The String BOB EATS CATS. matches the regex\n",
      "The String RoboCop eats apples. does not match the regex\n",
      "The String ALICE THROWS FOOTBALLS. does not match the regex\n",
      "The String Alice eats apples does not match the regex\n"
     ]
    }
   ],
   "source": [
    "regex_3 = re.compile(r'(Alice|Bob|Carol)\\s(eats|pets|throws)\\s(apples|cats|baseballs)\\.$',re.IGNORECASE)\n",
    "\n",
    "list = ['Alice eats apples.','Bob pets cats.','BOB EATS CATS.', 'RoboCop eats apples.','ALICE THROWS FOOTBALLS.','Alice eats apples']\n",
    "\n",
    "for string in list:\n",
    "    regex_check(regex_3,string)"
   ]
  }
 ],
 "metadata": {
  "kernelspec": {
   "display_name": "Python 3 (ipykernel)",
   "language": "python",
   "name": "python3"
  },
  "language_info": {
   "codemirror_mode": {
    "name": "ipython",
    "version": 3
   },
   "file_extension": ".py",
   "mimetype": "text/x-python",
   "name": "python",
   "nbconvert_exporter": "python",
   "pygments_lexer": "ipython3",
   "version": "3.9.13"
  }
 },
 "nbformat": 4,
 "nbformat_minor": 5
}
