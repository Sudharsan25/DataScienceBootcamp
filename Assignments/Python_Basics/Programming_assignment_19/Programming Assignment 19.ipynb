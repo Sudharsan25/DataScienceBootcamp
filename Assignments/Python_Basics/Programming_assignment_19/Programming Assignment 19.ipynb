{
 "cells": [
  {
   "cell_type": "markdown",
   "id": "da995272",
   "metadata": {},
   "source": [
    "#### Question1\n",
    "* Create a function that takes a string and returns a string in which each character is repeated once.\n",
    "* Examples\n",
    "1. double_char(&quot;String&quot;) ➞ &quot;SSttrriinngg&quot;\n",
    "2. double_char(&quot;Hello World!&quot;) ➞ &quot;HHeelllloo WWoorrlldd!!&quot;\n",
    "3. double_char(&quot;1234!_ &quot;) ➞ &quot;11223344!!__ &quot;"
   ]
  },
  {
   "cell_type": "code",
   "execution_count": 1,
   "id": "185be6d8",
   "metadata": {},
   "outputs": [],
   "source": [
    "def double_char(string):\n",
    "    new=\"\"\n",
    "    for i in string:\n",
    "        new+=i*2\n",
    "    return new"
   ]
  },
  {
   "cell_type": "code",
   "execution_count": 2,
   "id": "0d868066",
   "metadata": {},
   "outputs": [
    {
     "data": {
      "text/plain": [
       "'SSttrriinngg'"
      ]
     },
     "execution_count": 2,
     "metadata": {},
     "output_type": "execute_result"
    }
   ],
   "source": [
    "double_char(\"String\")"
   ]
  },
  {
   "cell_type": "code",
   "execution_count": 3,
   "id": "2905154a",
   "metadata": {},
   "outputs": [
    {
     "data": {
      "text/plain": [
       "'HHeelllloo  WWoorrlldd!!'"
      ]
     },
     "execution_count": 3,
     "metadata": {},
     "output_type": "execute_result"
    }
   ],
   "source": [
    "double_char(\"Hello World!\")"
   ]
  },
  {
   "cell_type": "markdown",
   "id": "e84e8200",
   "metadata": {},
   "source": [
    "#### Question2\n",
    "* Create a function that reverses a boolean value and returns the string &quot;boolean expected&quot; if another variable type is given.\n",
    "* Examples\n",
    "1. reverse(True) ➞ False\n",
    "2. reverse(False) ➞ True\n",
    "3. reverse(0) ➞ &quot;boolean expected&quot;\n",
    "4. reverse(None) ➞ &quot;boolean expected&quot;"
   ]
  },
  {
   "cell_type": "code",
   "execution_count": 4,
   "id": "38d19fc6",
   "metadata": {},
   "outputs": [],
   "source": [
    "def reverse(args):\n",
    "    if type(args)!=bool:\n",
    "        print(\"boolean expected\")\n",
    "    else:\n",
    "        return (not args)"
   ]
  },
  {
   "cell_type": "code",
   "execution_count": 5,
   "id": "854851a2",
   "metadata": {},
   "outputs": [
    {
     "data": {
      "text/plain": [
       "False"
      ]
     },
     "execution_count": 5,
     "metadata": {},
     "output_type": "execute_result"
    }
   ],
   "source": [
    "reverse(True)"
   ]
  },
  {
   "cell_type": "code",
   "execution_count": 6,
   "id": "3accffeb",
   "metadata": {},
   "outputs": [
    {
     "data": {
      "text/plain": [
       "True"
      ]
     },
     "execution_count": 6,
     "metadata": {},
     "output_type": "execute_result"
    }
   ],
   "source": [
    "reverse(False)"
   ]
  },
  {
   "cell_type": "code",
   "execution_count": 7,
   "id": "076e0e94",
   "metadata": {},
   "outputs": [
    {
     "name": "stdout",
     "output_type": "stream",
     "text": [
      "boolean expected\n"
     ]
    }
   ],
   "source": [
    "reverse(\"N\")"
   ]
  },
  {
   "cell_type": "markdown",
   "id": "2ab0c500",
   "metadata": {},
   "source": [
    "#### Question3\n",
    "* Create a function that returns the thickness (in meters) of a piece of paper after folding it n number of times. The paper starts off with a thickness of 0.5mm.\n",
    "* Examples\n",
    "1. num_layers(1) ➞ &quot;0.001m&quot;\n",
    "* Paper folded once is 1mm (equal to 0.001m)\n",
    "2. num_layers(4) ➞ &quot;0.008m&quot;\n",
    "* Paper folded 4 times is 8mm (equal to 0.008m)\n",
    "3. num_layers(21) ➞ &quot;1048.576m&quot;\n",
    "* Paper folded 21 times is 1048576mm (equal to 1048.576m)"
   ]
  },
  {
   "cell_type": "code",
   "execution_count": 8,
   "id": "ac464f65",
   "metadata": {},
   "outputs": [],
   "source": [
    "def num_layers(fold):\n",
    "    thick=0.0005\n",
    "    for i in range(1,fold+1):\n",
    "        thick*=2\n",
    "    return f\"{thick}m\""
   ]
  },
  {
   "cell_type": "code",
   "execution_count": 9,
   "id": "98673ef6",
   "metadata": {},
   "outputs": [
    {
     "data": {
      "text/plain": [
       "'0.001m'"
      ]
     },
     "execution_count": 9,
     "metadata": {},
     "output_type": "execute_result"
    }
   ],
   "source": [
    "num_layers(1)"
   ]
  },
  {
   "cell_type": "code",
   "execution_count": 10,
   "id": "1c06461e",
   "metadata": {},
   "outputs": [
    {
     "data": {
      "text/plain": [
       "'0.008m'"
      ]
     },
     "execution_count": 10,
     "metadata": {},
     "output_type": "execute_result"
    }
   ],
   "source": [
    "num_layers(4)"
   ]
  },
  {
   "cell_type": "code",
   "execution_count": 11,
   "id": "773c83d1",
   "metadata": {},
   "outputs": [
    {
     "data": {
      "text/plain": [
       "'1048.576m'"
      ]
     },
     "execution_count": 11,
     "metadata": {},
     "output_type": "execute_result"
    }
   ],
   "source": [
    "num_layers(21)"
   ]
  },
  {
   "cell_type": "markdown",
   "id": "317b3de0",
   "metadata": {},
   "source": [
    "#### Question4\n",
    "\n",
    "* Create a function that takes a single string as argument and returns an ordered list containing the indices of all capital letters in the string.\n",
    "* Examples\n",
    "1. index_of_caps(&quot;eDaBiT&quot;) ➞ [1, 3, 5]\n",
    "2. index_of_caps(&quot;eQuINoX&quot;) ➞ [1, 3, 4, 6]\n",
    "3. index_of_caps(&quot;determine&quot;) ➞ []\n",
    "4. index_of_caps(&quot;STRIKE&quot;) ➞ [0, 1, 2, 3, 4, 5]\n",
    "5. index_of_caps(&quot;sUn&quot;) ➞ [1]"
   ]
  },
  {
   "cell_type": "code",
   "execution_count": 12,
   "id": "1ba935c6",
   "metadata": {},
   "outputs": [],
   "source": [
    "def index_of_caps(string):\n",
    "    index=[]\n",
    "    for i,k in enumerate(string):\n",
    "        if k.isupper():\n",
    "            index.append(i)\n",
    "    return index"
   ]
  },
  {
   "cell_type": "code",
   "execution_count": 13,
   "id": "08329320",
   "metadata": {},
   "outputs": [
    {
     "data": {
      "text/plain": [
       "[1, 3, 5]"
      ]
     },
     "execution_count": 13,
     "metadata": {},
     "output_type": "execute_result"
    }
   ],
   "source": [
    "index_of_caps(\"eDaBiT\")"
   ]
  },
  {
   "cell_type": "code",
   "execution_count": 14,
   "id": "4ef32d83",
   "metadata": {},
   "outputs": [
    {
     "data": {
      "text/plain": [
       "[1, 3, 4, 6]"
      ]
     },
     "execution_count": 14,
     "metadata": {},
     "output_type": "execute_result"
    }
   ],
   "source": [
    "index_of_caps(\"eQuINoX\")"
   ]
  },
  {
   "cell_type": "code",
   "execution_count": 15,
   "id": "756c8b72",
   "metadata": {},
   "outputs": [
    {
     "data": {
      "text/plain": [
       "[]"
      ]
     },
     "execution_count": 15,
     "metadata": {},
     "output_type": "execute_result"
    }
   ],
   "source": [
    "index_of_caps(\"determine\")"
   ]
  },
  {
   "cell_type": "markdown",
   "id": "f1d68fe8",
   "metadata": {},
   "source": [
    "#### Question5\n",
    "* Using list comprehensions, create a function that finds all even numbers from 1 to the given number.\n",
    "* Examples\n",
    "1. find_even_nums(8) ➞ [2, 4, 6, 8]\n",
    "2. find_even_nums(4) ➞ [2, 4]\n",
    "3. find_even_nums(2) ➞ [2] "
   ]
  },
  {
   "cell_type": "code",
   "execution_count": 16,
   "id": "9b1b6085",
   "metadata": {},
   "outputs": [],
   "source": [
    "def find_even_nums(end):\n",
    "    even=[]\n",
    "    for i in range(1,end+1):\n",
    "        if i%2==0:\n",
    "            even.append(i)\n",
    "    return even"
   ]
  },
  {
   "cell_type": "code",
   "execution_count": 17,
   "id": "72ed27b7",
   "metadata": {},
   "outputs": [
    {
     "data": {
      "text/plain": [
       "[2, 4, 6, 8]"
      ]
     },
     "execution_count": 17,
     "metadata": {},
     "output_type": "execute_result"
    }
   ],
   "source": [
    "find_even_nums(8)"
   ]
  },
  {
   "cell_type": "code",
   "execution_count": 18,
   "id": "9172005c",
   "metadata": {},
   "outputs": [
    {
     "data": {
      "text/plain": [
       "[2, 4, 6, 8, 10]"
      ]
     },
     "execution_count": 18,
     "metadata": {},
     "output_type": "execute_result"
    }
   ],
   "source": [
    "find_even_nums(10)"
   ]
  }
 ],
 "metadata": {
  "kernelspec": {
   "display_name": "Python 3 (ipykernel)",
   "language": "python",
   "name": "python3"
  },
  "language_info": {
   "codemirror_mode": {
    "name": "ipython",
    "version": 3
   },
   "file_extension": ".py",
   "mimetype": "text/x-python",
   "name": "python",
   "nbconvert_exporter": "python",
   "pygments_lexer": "ipython3",
   "version": "3.9.13"
  }
 },
 "nbformat": 4,
 "nbformat_minor": 5
}
