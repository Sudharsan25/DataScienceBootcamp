{
 "cells": [
  {
   "cell_type": "markdown",
   "id": "bd7f4f3c",
   "metadata": {},
   "source": [
    "#### Question1.\n",
    "* Create a function that takes three arguments a, b, c and returns the sum of the numbers that are evenly divided by c from the range a, b inclusive.\n",
    "* Examples\n",
    "* evenly_divisible(1, 10, 20) ➞ 0\n",
    "* No number between 1 and 10 can be evenly divided by 20.\n",
    "* evenly_divisible(1, 10, 2) ➞ 30\n",
    "* 2 + 4 + 6 + 8 + 10 = 30\n",
    "* evenly_divisible(1, 10, 3) ➞ 18\n",
    "* 3 + 6 + 9 = 18"
   ]
  },
  {
   "cell_type": "markdown",
   "id": "9e03c946",
   "metadata": {},
   "source": [
    "#### Question2. \n",
    "* Create a function that returns True if a given inequality expression is correct and False otherwise.\n",
    "* Examples\n",
    "1. correct_signs(&quot;3 &lt; 7 &lt; 11&quot;) ➞ True\n",
    "2. correct_signs(&quot;13 &gt; 44 &gt; 33 &gt; 1&quot;) ➞ False\n",
    "3. correct_signs(&quot;1 &lt; 2 &lt; 6 &lt; 9 &gt; 3&quot;) ➞ True"
   ]
  },
  {
   "cell_type": "markdown",
   "id": "49b60a00",
   "metadata": {},
   "source": [
    "#### Question3. \n",
    "* Create a function that replaces all the vowels in a string with a specified character.\n",
    "* Examples\n",
    "1. replace_vowels(&quot;the aardvark&quot;, &quot;#&quot;) ➞ &quot;th# ##rdv#rk&quot;\n",
    "2. replace_vowels(&quot;minnie mouse&quot;, &quot;?&quot;) ➞ &quot;m?nn?? m??s?&quot;\n",
    "3. replace_vowels(&quot;shakespeare&quot;, &quot;*&quot;) ➞ &quot;sh*k*sp**r*&quot;"
   ]
  },
  {
   "cell_type": "markdown",
   "id": "acdd0e9d",
   "metadata": {},
   "source": [
    "#### Question4. \n",
    "* Write a function that calculates the factorial of a number recursively.\n",
    "* Examples\n",
    "1. factorial(5) ➞ 120\n",
    "2. factorial(3) ➞ 6\n",
    "3. factorial(1) ➞ 1\n",
    "4. factorial(0) ➞ 1"
   ]
  },
  {
   "cell_type": "markdown",
   "id": "3416364a",
   "metadata": {},
   "source": [
    "#### Question 5\n",
    "* Hamming distance is the number of characters that differ between two strings.\n",
    "* To illustrate:\n",
    "1. String1: &quot;abcbba&quot;\n",
    "1. String2: &quot;abcbda&quot;\n",
    "* Hamming Distance: 1 - &quot;b&quot; vs. &quot;d&quot; is the only difference. Create a function that computes the hamming distance between two strings.\n",
    "* Examples\n",
    "1. hamming_distance(&quot;abcde&quot;, &quot;bcdef&quot;) ➞ 5\n",
    "2. hamming_distance(&quot;abcde&quot;, &quot;abcde&quot;) ➞ 0\n",
    "3. hamming_distance(&quot;strong&quot;, &quot;strung&quot;) ➞ 1"
   ]
  }
 ],
 "metadata": {
  "kernelspec": {
   "display_name": "Python 3 (ipykernel)",
   "language": "python",
   "name": "python3"
  },
  "language_info": {
   "codemirror_mode": {
    "name": "ipython",
    "version": 3
   },
   "file_extension": ".py",
   "mimetype": "text/x-python",
   "name": "python",
   "nbconvert_exporter": "python",
   "pygments_lexer": "ipython3",
   "version": "3.9.13"
  }
 },
 "nbformat": 4,
 "nbformat_minor": 5
}
