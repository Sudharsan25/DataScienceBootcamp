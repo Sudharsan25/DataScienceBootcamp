{
 "cells": [
  {
   "cell_type": "markdown",
   "id": "88dda253",
   "metadata": {},
   "source": [
    "### Python Basic assignment 11"
   ]
  },
  {
   "cell_type": "markdown",
   "id": "202cd0e9",
   "metadata": {},
   "source": [
    "#### 1. Create an assert statement that throws an AssertionError if the variable spam is a negative integer."
   ]
  },
  {
   "cell_type": "code",
   "execution_count": 1,
   "id": "4243bb9c",
   "metadata": {
    "scrolled": false
   },
   "outputs": [
    {
     "name": "stdout",
     "output_type": "stream",
     "text": [
      "Enter an integer:-5\n"
     ]
    },
    {
     "ename": "AssertionError",
     "evalue": "It is a negative integer",
     "output_type": "error",
     "traceback": [
      "\u001b[1;31m---------------------------------------------------------------------------\u001b[0m",
      "\u001b[1;31mAssertionError\u001b[0m                            Traceback (most recent call last)",
      "\u001b[1;32m~\\AppData\\Local\\Temp\\ipykernel_12744\\2620423795.py\u001b[0m in \u001b[0;36m<module>\u001b[1;34m\u001b[0m\n\u001b[0;32m      1\u001b[0m \u001b[0mspam\u001b[0m \u001b[1;33m=\u001b[0m \u001b[0mint\u001b[0m\u001b[1;33m(\u001b[0m\u001b[0minput\u001b[0m\u001b[1;33m(\u001b[0m\u001b[1;34m\"Enter an integer:\"\u001b[0m\u001b[1;33m)\u001b[0m\u001b[1;33m)\u001b[0m\u001b[1;33m\u001b[0m\u001b[1;33m\u001b[0m\u001b[0m\n\u001b[1;32m----> 2\u001b[1;33m \u001b[1;32massert\u001b[0m \u001b[0mspam\u001b[0m \u001b[1;33m>=\u001b[0m \u001b[1;36m0\u001b[0m \u001b[1;33m,\u001b[0m \u001b[1;34m\"It is a negative integer\"\u001b[0m\u001b[1;33m\u001b[0m\u001b[1;33m\u001b[0m\u001b[0m\n\u001b[0m",
      "\u001b[1;31mAssertionError\u001b[0m: It is a negative integer"
     ]
    }
   ],
   "source": [
    "spam = int(input(\"Enter an integer:\"))\n",
    "assert spam >= 0 , \"It is a negative integer\""
   ]
  },
  {
   "cell_type": "markdown",
   "id": "55120f1e",
   "metadata": {},
   "source": [
    "####  2. Write an assert statement that triggers an AssertionError if the variables eggs and bacon contain strings that are the same as each other, even if their cases are different (that is, &#39;hello&#39; and &#39;hello&#39; are considered the same, and &#39;goodbye&#39; and &#39;GOODbye&#39; are also considered the same)."
   ]
  },
  {
   "cell_type": "code",
   "execution_count": 2,
   "id": "b7b3cbc6",
   "metadata": {
    "scrolled": false
   },
   "outputs": [
    {
     "ename": "AssertionError",
     "evalue": "Variable contain same string",
     "output_type": "error",
     "traceback": [
      "\u001b[1;31m---------------------------------------------------------------------------\u001b[0m",
      "\u001b[1;31mAssertionError\u001b[0m                            Traceback (most recent call last)",
      "\u001b[1;32m~\\AppData\\Local\\Temp\\ipykernel_12744\\3628564735.py\u001b[0m in \u001b[0;36m<module>\u001b[1;34m\u001b[0m\n\u001b[0;32m      2\u001b[0m \u001b[0mbacon\u001b[0m \u001b[1;33m=\u001b[0m \u001b[1;34m\"ineuron\"\u001b[0m\u001b[1;33m\u001b[0m\u001b[1;33m\u001b[0m\u001b[0m\n\u001b[0;32m      3\u001b[0m \u001b[1;33m\u001b[0m\u001b[0m\n\u001b[1;32m----> 4\u001b[1;33m \u001b[1;32massert\u001b[0m \u001b[0meggs\u001b[0m\u001b[1;33m.\u001b[0m\u001b[0mupper\u001b[0m\u001b[1;33m(\u001b[0m\u001b[1;33m)\u001b[0m \u001b[1;33m!=\u001b[0m \u001b[0mbacon\u001b[0m\u001b[1;33m.\u001b[0m\u001b[0mupper\u001b[0m\u001b[1;33m(\u001b[0m\u001b[1;33m)\u001b[0m\u001b[1;33m,\u001b[0m \u001b[1;34m\"Variable contain same string\"\u001b[0m\u001b[1;33m\u001b[0m\u001b[1;33m\u001b[0m\u001b[0m\n\u001b[0m",
      "\u001b[1;31mAssertionError\u001b[0m: Variable contain same string"
     ]
    }
   ],
   "source": [
    "eggs = \"Ineuron\"\n",
    "bacon = \"ineuron\"\n",
    "\n",
    "assert eggs.upper() != bacon.upper(), \"Variable contain same string\""
   ]
  },
  {
   "cell_type": "markdown",
   "id": "510af652",
   "metadata": {},
   "source": [
    "#### 3. Create an assert statement that throws an AssertionError every time."
   ]
  },
  {
   "cell_type": "code",
   "execution_count": 3,
   "id": "2716d51c",
   "metadata": {
    "scrolled": true
   },
   "outputs": [
    {
     "ename": "AssertionError",
     "evalue": "This statement always raises an Assertion error",
     "output_type": "error",
     "traceback": [
      "\u001b[1;31m---------------------------------------------------------------------------\u001b[0m",
      "\u001b[1;31mAssertionError\u001b[0m                            Traceback (most recent call last)",
      "\u001b[1;32m~\\AppData\\Local\\Temp\\ipykernel_12744\\1866948454.py\u001b[0m in \u001b[0;36m<module>\u001b[1;34m\u001b[0m\n\u001b[1;32m----> 1\u001b[1;33m \u001b[1;32massert\u001b[0m \u001b[1;32mFalse\u001b[0m\u001b[1;33m,\u001b[0m \u001b[1;34m\"This statement always raises an Assertion error\"\u001b[0m\u001b[1;33m\u001b[0m\u001b[1;33m\u001b[0m\u001b[0m\n\u001b[0m",
      "\u001b[1;31mAssertionError\u001b[0m: This statement always raises an Assertion error"
     ]
    }
   ],
   "source": [
    "assert False, \"This statement always raises an Assertion error\""
   ]
  },
  {
   "cell_type": "markdown",
   "id": "97cc3d5e",
   "metadata": {},
   "source": [
    "#### 4. What are the two lines that must be present in your software in order to call logging.debug()?"
   ]
  },
  {
   "cell_type": "code",
   "execution_count": 8,
   "id": "186609ea",
   "metadata": {},
   "outputs": [
    {
     "name": "stderr",
     "output_type": "stream",
     "text": [
      "DEBUG:root:This is a comment\n"
     ]
    }
   ],
   "source": [
    "### Import logging module\n",
    "\n",
    "import logging\n",
    "\n",
    "### Basic Configuration of logging\n",
    "\n",
    "logging.basicConfig(filename=\"programLog.txt\",level=logging.DEBUG)\n",
    "\n",
    "### Call logging.debug\n",
    "\n",
    "logging.debug(\"This is a comment\")"
   ]
  },
  {
   "cell_type": "markdown",
   "id": "a0dbbb30",
   "metadata": {},
   "source": [
    "####  5. What are the two lines that your program must have in order to have logging.debug() send a logging message to a file named programLog.txt?"
   ]
  },
  {
   "cell_type": "code",
   "execution_count": 9,
   "id": "6ed5237a",
   "metadata": {},
   "outputs": [
    {
     "name": "stderr",
     "output_type": "stream",
     "text": [
      "DEBUG:root:This is a comment\n"
     ]
    }
   ],
   "source": [
    "### Import logging module\n",
    "\n",
    "import logging\n",
    "\n",
    "### Basic Configuration of logging\n",
    "\n",
    "logging.basicConfig(filename=\"programLog.txt\",level=logging.DEBUG)\n",
    "\n",
    "### Call logging.debug\n",
    "\n",
    "logging.debug(\"This is a comment\")"
   ]
  },
  {
   "cell_type": "markdown",
   "id": "bd049d32",
   "metadata": {},
   "source": [
    "#### 6. What are the five levels of logging?\n",
    "\n",
    "* DEBUG(1)\n",
    "* INFO(2)\n",
    "* WARNING(3)\n",
    "* ERROR(4)\n",
    "* CRITICAL(5)"
   ]
  },
  {
   "cell_type": "markdown",
   "id": "af81fdef",
   "metadata": {},
   "source": [
    "#### 7. What line of code would you add to your software to disable all logging messages?"
   ]
  },
  {
   "cell_type": "code",
   "execution_count": 10,
   "id": "a2888fdf",
   "metadata": {},
   "outputs": [],
   "source": [
    "logging.disable = True"
   ]
  },
  {
   "cell_type": "markdown",
   "id": "7663136d",
   "metadata": {},
   "source": [
    "#### 8.Why is using logging messages better than using print() to display the same message?\n",
    "\n",
    "* Print statement only displays texts or statements one time, whereas logging can be stored in seperate files during a program runtime. This can help us review the problems in the program seperately. \n",
    "* Also logging has different levels that enables us to filter certain messages, while print has no such feature"
   ]
  },
  {
   "cell_type": "markdown",
   "id": "46486bf5",
   "metadata": {},
   "source": [
    "#### 10.After you click Continue, when will the debugger stop ?\n",
    "\n",
    "* When continue button is pressed, the debugger will run until it encounters a breakpoint, at which point it will stop execution"
   ]
  },
  {
   "cell_type": "markdown",
   "id": "869dc6e5",
   "metadata": {},
   "source": [
    "#### 11. What is the concept of a breakpoint?\n",
    "\n",
    "* A breakpoint in a code, is like a checkpoint to signal the debugger should stop execution when it reaches this point"
   ]
  }
 ],
 "metadata": {
  "kernelspec": {
   "display_name": "Python 3 (ipykernel)",
   "language": "python",
   "name": "python3"
  },
  "language_info": {
   "codemirror_mode": {
    "name": "ipython",
    "version": 3
   },
   "file_extension": ".py",
   "mimetype": "text/x-python",
   "name": "python",
   "nbconvert_exporter": "python",
   "pygments_lexer": "ipython3",
   "version": "3.9.13"
  }
 },
 "nbformat": 4,
 "nbformat_minor": 5
}
