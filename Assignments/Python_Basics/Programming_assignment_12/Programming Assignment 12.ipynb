{
 "cells": [
  {
   "cell_type": "markdown",
   "id": "43e7d717",
   "metadata": {},
   "source": [
    "#### 1. Write a Python program to Extract Unique values dictionary values?"
   ]
  },
  {
   "cell_type": "code",
   "execution_count": 13,
   "id": "4f089b7b",
   "metadata": {},
   "outputs": [],
   "source": [
    "def unique_dict(dictionary):\n",
    "    items=list(dictionary.values())\n",
    "    unique=set(items)\n",
    "    return unique"
   ]
  },
  {
   "cell_type": "code",
   "execution_count": 46,
   "id": "a0c91bb8",
   "metadata": {},
   "outputs": [
    {
     "data": {
      "text/plain": [
       "{87, 89, 90, 95}"
      ]
     },
     "execution_count": 46,
     "metadata": {},
     "output_type": "execute_result"
    }
   ],
   "source": [
    "dictionary={\"1\":90,\"2\":89,\"3\":95,\"4\":90,\"5\":87}\n",
    "unique_dict(dictionary)"
   ]
  },
  {
   "cell_type": "markdown",
   "id": "034088f2",
   "metadata": {},
   "source": [
    "#### 2. Write a Python program to find the sum of all items in a dictionary?"
   ]
  },
  {
   "cell_type": "code",
   "execution_count": 15,
   "id": "c9a15def",
   "metadata": {},
   "outputs": [],
   "source": [
    "def sum_dict(dictionary):\n",
    "    return sum(list(dictionary.values()))"
   ]
  },
  {
   "cell_type": "code",
   "execution_count": 16,
   "id": "1efeb954",
   "metadata": {},
   "outputs": [
    {
     "data": {
      "text/plain": [
       "451"
      ]
     },
     "execution_count": 16,
     "metadata": {},
     "output_type": "execute_result"
    }
   ],
   "source": [
    "sum_dict(dictionary)"
   ]
  },
  {
   "cell_type": "markdown",
   "id": "6246fa62",
   "metadata": {},
   "source": [
    "#### 3. Write a Python program to Merging two Dictionaries?"
   ]
  },
  {
   "cell_type": "code",
   "execution_count": 25,
   "id": "9e0e86fd",
   "metadata": {},
   "outputs": [],
   "source": [
    "def merge_dicts(dict1,dict2):\n",
    "    dict1.update(dict2)\n",
    "    return dict1"
   ]
  },
  {
   "cell_type": "code",
   "execution_count": 26,
   "id": "4aabc605",
   "metadata": {},
   "outputs": [],
   "source": [
    "dictionary_2={\"Name\":\"Sudharsan\"}"
   ]
  },
  {
   "cell_type": "code",
   "execution_count": 27,
   "id": "ce5d49e8",
   "metadata": {},
   "outputs": [
    {
     "name": "stdout",
     "output_type": "stream",
     "text": [
      "{'1': 90, '2': 89, '3': 95, '4': 90, '5': 87, 'Name': 'Sudharsan'}\n"
     ]
    }
   ],
   "source": [
    "print(merge_dicts(dictionary,dictionary_2))"
   ]
  },
  {
   "cell_type": "markdown",
   "id": "2210bd79",
   "metadata": {},
   "source": [
    "#### 4. Write a Python program to convert key-values list to flat dictionary?"
   ]
  },
  {
   "cell_type": "code",
   "execution_count": 28,
   "id": "e3d22f4a",
   "metadata": {},
   "outputs": [],
   "source": [
    "def convert_list_to_Dict(lst):\n",
    "    return dict(lst)"
   ]
  },
  {
   "cell_type": "code",
   "execution_count": 30,
   "id": "f4afbc18",
   "metadata": {},
   "outputs": [
    {
     "data": {
      "text/plain": [
       "{'A': 0, 'b': 2}"
      ]
     },
     "execution_count": 30,
     "metadata": {},
     "output_type": "execute_result"
    }
   ],
   "source": [
    "convert_list_to_Dict([(\"A\",0),(\"b\",2)])"
   ]
  },
  {
   "cell_type": "markdown",
   "id": "b97517df",
   "metadata": {},
   "source": [
    "#### 5. Write a Python program to insertion at the beginning in OrderedDict?"
   ]
  },
  {
   "cell_type": "code",
   "execution_count": 33,
   "id": "7bb81509",
   "metadata": {},
   "outputs": [],
   "source": [
    "from collections import OrderedDict\n",
    "def insert(dictionary,dictionary_2):\n",
    "    dict1 = OrderedDict(dictionary)\n",
    "    dict1.update(dictionary_2)\n",
    "    dict1.move_to_end(\"Name\",last=False)\n",
    "    return dict1"
   ]
  },
  {
   "cell_type": "code",
   "execution_count": 34,
   "id": "ac84afc4",
   "metadata": {},
   "outputs": [
    {
     "data": {
      "text/plain": [
       "OrderedDict([('Name', 'Not me'),\n",
       "             ('1', 90),\n",
       "             ('2', 89),\n",
       "             ('3', 95),\n",
       "             ('4', 90),\n",
       "             ('5', 87)])"
      ]
     },
     "execution_count": 34,
     "metadata": {},
     "output_type": "execute_result"
    }
   ],
   "source": [
    "insert(dictionary,{\"Name\":\"Not me\"})"
   ]
  },
  {
   "cell_type": "markdown",
   "id": "e99e3067",
   "metadata": {},
   "source": [
    "#### 6. Write a Python program to check order of character in string using OrderedDict()?"
   ]
  },
  {
   "cell_type": "code",
   "execution_count": 38,
   "id": "ec9f5fd3",
   "metadata": {},
   "outputs": [],
   "source": [
    "from collections import OrderedDict\n",
    "def order_Char(dictionary):\n",
    "    new = OrderedDict(dict(sorted(dictionary.items())))\n",
    "    return new"
   ]
  },
  {
   "cell_type": "code",
   "execution_count": 40,
   "id": "51e758af",
   "metadata": {},
   "outputs": [
    {
     "data": {
      "text/plain": [
       "OrderedDict([('A', 1), ('B', 20), ('C', 300), ('D', 4000)])"
      ]
     },
     "execution_count": 40,
     "metadata": {},
     "output_type": "execute_result"
    }
   ],
   "source": [
    "order_Char({'D': 4000, 'A': 1, 'C': 300,  'B': 20,})"
   ]
  },
  {
   "cell_type": "markdown",
   "id": "e72f7db5",
   "metadata": {},
   "source": [
    "#### 7. Write a Python program to sort Python Dictionaries by Key or Value?"
   ]
  },
  {
   "cell_type": "code",
   "execution_count": 43,
   "id": "32469b7c",
   "metadata": {},
   "outputs": [],
   "source": [
    "def sort_dict(dictionary):\n",
    "        sort = input(\"Enter the basis for sorting: Key or Value: \")\n",
    "        if sort == \"Key\":\n",
    "            return dict(sorted(dictionary.items(), key=lambda x:x[0], reverse=False))\n",
    "        else:\n",
    "            return dict(sorted(dictionary.items(), key=lambda x:x[1], reverse=False))"
   ]
  },
  {
   "cell_type": "code",
   "execution_count": 47,
   "id": "abca7685",
   "metadata": {},
   "outputs": [
    {
     "name": "stdout",
     "output_type": "stream",
     "text": [
      "Enter the basis for sorting: Key or Value: Value\n"
     ]
    },
    {
     "data": {
      "text/plain": [
       "{'5': 87, '2': 89, '1': 90, '4': 90, '3': 95}"
      ]
     },
     "execution_count": 47,
     "metadata": {},
     "output_type": "execute_result"
    }
   ],
   "source": [
    "sort_dict(dictionary)"
   ]
  }
 ],
 "metadata": {
  "kernelspec": {
   "display_name": "Python 3 (ipykernel)",
   "language": "python",
   "name": "python3"
  },
  "language_info": {
   "codemirror_mode": {
    "name": "ipython",
    "version": 3
   },
   "file_extension": ".py",
   "mimetype": "text/x-python",
   "name": "python",
   "nbconvert_exporter": "python",
   "pygments_lexer": "ipython3",
   "version": "3.9.13"
  }
 },
 "nbformat": 4,
 "nbformat_minor": 5
}
