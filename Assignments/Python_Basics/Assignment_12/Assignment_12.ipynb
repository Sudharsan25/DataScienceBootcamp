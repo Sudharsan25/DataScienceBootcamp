{
 "cells": [
  {
   "cell_type": "markdown",
   "id": "295cda79",
   "metadata": {},
   "source": [
    "# Python Assignment 12 "
   ]
  },
  {
   "cell_type": "markdown",
   "id": "13d89f11",
   "metadata": {},
   "source": [
    "### 1. In what modes should the PdfFileReader() and PdfFileWriter() File objects will be opened?\n",
    "\n",
    "* PdfFileReader() - Should be opend with read-binary mode 'rb' when opening the file.\n",
    "* PdfFileWriter() - Should be opened with write-binray mode 'wb' when opening the file."
   ]
  },
  {
   "cell_type": "markdown",
   "id": "50ed8750",
   "metadata": {},
   "source": [
    "### 2. From a PdfFileReader object, how do you get a Page object for page 5?\n",
    "\n",
    "* getPage() method in the PyPDF module can be used to get specific pages by passing the page number as argument for getPage()"
   ]
  },
  {
   "cell_type": "markdown",
   "id": "d40771d1",
   "metadata": {},
   "source": [
    "### 3. What PdfFileReader variable stores the number of pages in the PDF document?\n",
    "* PdfFileReader object contains a numPages variable which is used to store the number of pages in the pdf document."
   ]
  },
  {
   "cell_type": "markdown",
   "id": "04a9eb2c",
   "metadata": {},
   "source": [
    "### 4. If a PdfFileReader object’s PDF is encrypted with the password swordfish, what must you do before you can obtain Page objects from it?\n",
    "\n",
    "* PyPDF provides a decrpyt method which takes in the password as argument and decrpyts the entire file. We should do this before obtaining page objects from the file"
   ]
  },
  {
   "cell_type": "markdown",
   "id": "b1753942",
   "metadata": {},
   "source": [
    "### 5. What methods do you use to rotate a page?\n",
    "\n",
    "* We can use the rotate() method to rotate the page,  which takes in the angle as the argument.\n",
    "* There are also the rotateClockwise method to rotate the page in clockwise direction."
   ]
  },
  {
   "cell_type": "markdown",
   "id": "c62c76ff",
   "metadata": {},
   "source": [
    "### 6. What is the difference between a Run object and a Paragraph object?\n",
    "\n",
    "* Run objects are usually added at the end of any paragrapgh object.\n",
    "* Paragraph objects can be added only at the end of the document"
   ]
  },
  {
   "cell_type": "markdown",
   "id": "1ccde63b",
   "metadata": {},
   "source": [
    "### 7. How do you obtain a list of Paragraph objects for a Document object that’s stored in a variable named doc?\n",
    "\n",
    "* doc.paragraphs method returns the list of paragraph objects present in a Document."
   ]
  },
  {
   "cell_type": "markdown",
   "id": "175e5c93",
   "metadata": {},
   "source": [
    "### 8. What type of object has bold, underline, italic, strike, and outline variables?\n",
    "\n",
    "* The run object contains arritbutes bold underline italic strike and outline. That are used to style the fonts."
   ]
  },
  {
   "cell_type": "markdown",
   "id": "75efc199",
   "metadata": {},
   "source": [
    "### 9. What is the difference between False, True, and None for the bold variable?\n",
    "\n",
    "* True - The run objects is always on bold\n",
    "* False - Bold is alwayas off on the run object\n",
    "* None - Bold takes the default style on the run object"
   ]
  },
  {
   "cell_type": "markdown",
   "id": "74c9a002",
   "metadata": {},
   "source": [
    "### 10. How do you create a Document object for a new Word document?\n",
    "\n",
    "* The docx module contains the Document() method that can be used to create the variable. "
   ]
  },
  {
   "cell_type": "markdown",
   "id": "6d83eb8c",
   "metadata": {},
   "source": [
    "### 11. How do you add a paragraph with the text 'Hello, there!'' to a Document object stored in a variable named doc?\n",
    "\n",
    "* A Document contains doc.add_paragraph() method that can be used to add a paragraph into document objects."
   ]
  },
  {
   "cell_type": "markdown",
   "id": "65652eb1",
   "metadata": {},
   "source": [
    "### 12. What integers represent the levels of headings available in Word documents?\n",
    "\n",
    "* add_heading() method takes in arguments from 0 to 4, where 0 is for title heading, and 1 to 4 takes order from the main heading to the smallest subheading"
   ]
  }
 ],
 "metadata": {
  "kernelspec": {
   "display_name": "Python 3 (ipykernel)",
   "language": "python",
   "name": "python3"
  },
  "language_info": {
   "codemirror_mode": {
    "name": "ipython",
    "version": 3
   },
   "file_extension": ".py",
   "mimetype": "text/x-python",
   "name": "python",
   "nbconvert_exporter": "python",
   "pygments_lexer": "ipython3",
   "version": "3.9.13"
  }
 },
 "nbformat": 4,
 "nbformat_minor": 5
}
