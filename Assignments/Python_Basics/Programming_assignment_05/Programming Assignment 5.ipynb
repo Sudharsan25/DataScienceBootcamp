{
 "cells": [
  {
   "cell_type": "markdown",
   "id": "a1c63cad",
   "metadata": {},
   "source": [
    "#### 1. Write a Python Program to Find LCM?"
   ]
  },
  {
   "cell_type": "code",
   "execution_count": 15,
   "id": "6e23dfda",
   "metadata": {},
   "outputs": [],
   "source": [
    "def LCM(x,y):\n",
    "    if x>y:\n",
    "        greater=x\n",
    "        smaller=y\n",
    "    else:\n",
    "        greater=y\n",
    "        smaller=x\n",
    "    \n",
    "    for i in range(greater,x*y+1,greater):\n",
    "        if i%smaller==0:\n",
    "            return i"
   ]
  },
  {
   "cell_type": "code",
   "execution_count": 20,
   "id": "1cd6963b",
   "metadata": {},
   "outputs": [
    {
     "data": {
      "text/plain": [
       "600"
      ]
     },
     "execution_count": 20,
     "metadata": {},
     "output_type": "execute_result"
    }
   ],
   "source": [
    "LCM(100,120)"
   ]
  },
  {
   "cell_type": "markdown",
   "id": "560850c3",
   "metadata": {},
   "source": [
    "####  2. Write a Python Program to Find HCF?"
   ]
  },
  {
   "cell_type": "code",
   "execution_count": 38,
   "id": "f5c12872",
   "metadata": {},
   "outputs": [],
   "source": [
    "def HCF(x,y):\n",
    "    if x<y:\n",
    "        smaller=x\n",
    "    else:\n",
    "        smaller=y\n",
    "    factor=1\n",
    "    for i in range(1,smaller):\n",
    "        if (x%i==0) and (y%i==0):\n",
    "            factor=i\n",
    "    print(f\"HCF is {factor}\")"
   ]
  },
  {
   "cell_type": "code",
   "execution_count": 40,
   "id": "d61c3353",
   "metadata": {},
   "outputs": [
    {
     "name": "stdout",
     "output_type": "stream",
     "text": [
      "HCF is 50\n"
     ]
    }
   ],
   "source": [
    "HCF(1550,1200)"
   ]
  },
  {
   "cell_type": "markdown",
   "id": "6df5b2bd",
   "metadata": {},
   "source": [
    "#### 3. Write a Python Program to Convert Decimal to Binary, Octal and Hexadecimal?"
   ]
  },
  {
   "cell_type": "code",
   "execution_count": 93,
   "id": "5e18808b",
   "metadata": {},
   "outputs": [],
   "source": [
    "def convert_BOX(n):\n",
    "    def convertion(base,number):\n",
    "        remainders=[]\n",
    "        dividend=n\n",
    "        while dividend>=1:\n",
    "            ### print(f'{dividend}/{base}={dividend%base}')\n",
    "            remainders.append(str(dividend%base))\n",
    "            dividend = dividend//base\n",
    "        result=\"\"    \n",
    "        result=int(result.join(remainders)[::-1])\n",
    "        return result\n",
    "    binary=convertion(2,n)\n",
    "    octal=convertion(8,n)\n",
    "    hexa=convertion(16,n)\n",
    "    print(f'The Binary equvivalent of {n} is: {binary}')\n",
    "    print(f'The Octal equvivalent of {n} is: {octal}')\n",
    "    print(f'The Hexadecimal equvivalent of {n} is: {hexa}')"
   ]
  },
  {
   "cell_type": "code",
   "execution_count": 94,
   "id": "fae13a08",
   "metadata": {
    "scrolled": false
   },
   "outputs": [
    {
     "name": "stdout",
     "output_type": "stream",
     "text": [
      "The Binary equvivalent of 116 is: 1110100\n",
      "The Octal equvivalent of 116 is: 164\n",
      "The Hexadecimal equvivalent of 116 is: 74\n"
     ]
    }
   ],
   "source": [
    "convert_BOX(116)"
   ]
  },
  {
   "cell_type": "markdown",
   "id": "2aa8f6f8",
   "metadata": {},
   "source": [
    "#### 4. Write a Python Program To Find ASCII value of a character?"
   ]
  },
  {
   "cell_type": "code",
   "execution_count": 95,
   "id": "88a78fe5",
   "metadata": {},
   "outputs": [
    {
     "data": {
      "text/plain": [
       "66"
      ]
     },
     "execution_count": 95,
     "metadata": {},
     "output_type": "execute_result"
    }
   ],
   "source": [
    "def ASCII(a):\n",
    "    return ord(a)\n",
    "\n",
    "ASCII(\"B\")"
   ]
  },
  {
   "cell_type": "markdown",
   "id": "7d9f05da",
   "metadata": {},
   "source": [
    "#### 5. Write a Python Program to Make a Simple Calculator with 4 basic mathematical operations?"
   ]
  },
  {
   "cell_type": "code",
   "execution_count": 6,
   "id": "0aa396b9",
   "metadata": {},
   "outputs": [],
   "source": [
    "def calculator():\n",
    "    print(\"=================\")\n",
    "    print(\"SIMPLE CALCULATOR\")\n",
    "    print(\"=================\")\n",
    "    print(\"1.Add\")\n",
    "    print(\"2.Subtract\")\n",
    "    print(\"3.Multiply\")\n",
    "    print(\"4.Division\")\n",
    "    \n",
    "    while True:\n",
    "        choice = int(input(\"Enter which operation you would like to perform(1 or 2 or 3 or 4): \"))\n",
    "        x=int(input(\"Enter the first number: \"))\n",
    "        y=int(input(\"Enter the second number: \"))\n",
    "        if choice==1:\n",
    "            print(f\"{x}+{y}={x+y}\")\n",
    "        elif choice==2:\n",
    "            print(f\"{x}-{y}={x-y}\")\n",
    "        elif choice==3:\n",
    "            print(f\"{x}*{y}={x*y}\")\n",
    "        else:\n",
    "            print(f\"{x}/{y}={x/y}\")\n",
    "\n",
    "        cont = input(\"Next operation? Yes or No: \")\n",
    "        if cont==\"No\":\n",
    "            break\n",
    "    \n",
    "    print(\"=========\")\n",
    "    print(\"END\")\n",
    "    print(\"=========\")"
   ]
  },
  {
   "cell_type": "code",
   "execution_count": 7,
   "id": "a2740bd4",
   "metadata": {},
   "outputs": [
    {
     "name": "stdout",
     "output_type": "stream",
     "text": [
      "=================\n",
      "SIMPLE CALCULATOR\n",
      "=================\n",
      "1.Add\n",
      "2.Subtract\n",
      "3.Multiply\n",
      "4.Division\n",
      "Enter which operation you would like to perform(1 or 2 or 3 or 4): 2\n",
      "Enter the first number: 10\n",
      "Enter the second number: 5\n",
      "10-5=5\n",
      "Next operation? Yes or No: No\n",
      "=========\n",
      "END\n",
      "=========\n"
     ]
    }
   ],
   "source": [
    "calculator()"
   ]
  }
 ],
 "metadata": {
  "kernelspec": {
   "display_name": "Python 3 (ipykernel)",
   "language": "python",
   "name": "python3"
  },
  "language_info": {
   "codemirror_mode": {
    "name": "ipython",
    "version": 3
   },
   "file_extension": ".py",
   "mimetype": "text/x-python",
   "name": "python",
   "nbconvert_exporter": "python",
   "pygments_lexer": "ipython3",
   "version": "3.9.13"
  }
 },
 "nbformat": 4,
 "nbformat_minor": 5
}
