{
 "cells": [
  {
   "cell_type": "markdown",
   "metadata": {},
   "source": [
    "1. write a function which will try to find out len of a string without using an inbuilt len function \n",
    "2. write a function which  will be able to print an index of list element without using an index function\n",
    "3. write a function which will be able to print an ip address of your system\n",
    "4. write a function which will shutdown your system\n",
    "5. write a function which will take input as a list with any kind of numeric value and give an out as a multiplication of \n",
    "all the numeric data l = [3.5, 6.56, 4,5,\"sudh\" , \"ineuron\" , 'fsda bootcamp 2.0']\n",
    "6. write a function which will be able to read all the mails \n",
    "7 . write a function which will be able to send a mail to anyone \n",
    "8. write a function which will be able to read a doc/word file from your system \n",
    "\n",
    "you are suppose to complete this by oct 30th before your \n",
    "live class and you have to send a solution at mail id - query@ineuron.ai\n",
    "submit your git link to mail "
   ]
  },
  {
   "cell_type": "code",
   "execution_count": null,
   "metadata": {},
   "outputs": [],
   "source": []
  },
  {
   "cell_type": "code",
   "execution_count": 1,
   "metadata": {},
   "outputs": [
    {
     "name": "stdout",
     "output_type": "stream",
     "text": [
      "11\n"
     ]
    }
   ],
   "source": [
    "### Task 1\n",
    "### Write a function to find len of string without using len function\n",
    "\n",
    "def find_length(string):\n",
    "    count = 0\n",
    "    for i in string:\n",
    "        count += 1\n",
    "    return count\n",
    "\n",
    "print(find_length(\"Hello World\"))"
   ]
  },
  {
   "cell_type": "code",
   "execution_count": 2,
   "metadata": {},
   "outputs": [
    {
     "name": "stdout",
     "output_type": "stream",
     "text": [
      "2\n"
     ]
    }
   ],
   "source": [
    "### Task 2\n",
    "### Write a function to print index of a list element without using buit in function\n",
    "\n",
    "def find_index(list, element):\n",
    "    for i in range(len(list)):\n",
    "        if list[i] == element:\n",
    "            return i\n",
    "    return -1\n",
    "\n",
    "print(find_index([1,2,3,4,5], 3))"
   ]
  },
  {
   "cell_type": "code",
   "execution_count": 3,
   "metadata": {},
   "outputs": [
    {
     "name": "stdout",
     "output_type": "stream",
     "text": [
      "192.168.29.246\n"
     ]
    }
   ],
   "source": [
    "### Task 3\n",
    "### write a function which will be able to print an ip address of your system\n",
    "\n",
    "import socket\n",
    "def get_ip():\n",
    "    return socket.gethostbyname(socket.gethostname())\n",
    "\n",
    "print(get_ip())"
   ]
  },
  {
   "cell_type": "code",
   "execution_count": 4,
   "metadata": {},
   "outputs": [],
   "source": [
    "### Task 4\n",
    "### write a function which will shutdown your system\n",
    "\n",
    "import os\n",
    "def shutdown():\n",
    "    os.system(\"shutdown /s /t 1\")"
   ]
  },
  {
   "cell_type": "code",
   "execution_count": 5,
   "metadata": {},
   "outputs": [
    {
     "name": "stdout",
     "output_type": "stream",
     "text": [
      "459.19999999999993\n"
     ]
    }
   ],
   "source": [
    "### Task 5 \n",
    "\n",
    "### write a function which will take input as a list with any kind of numeric value and give an out as a multiplication of all the numeric data \n",
    "l = [3.5, 6.56, 4,5,\"sudh\" , \"ineuron\" , 'fsda bootcamp 2.0']\n",
    "\n",
    "def multiply_list(list):\n",
    "    result = 1\n",
    "    for i in list:\n",
    "        if type(i) == int or type(i) == float:\n",
    "            result *= i\n",
    "    return result\n",
    "\n",
    "print(multiply_list(l))"
   ]
  },
  {
   "cell_type": "code",
   "execution_count": 13,
   "metadata": {},
   "outputs": [],
   "source": [
    "### Task 6\n",
    "\n",
    "### write a function which will be able to read all the mails \n",
    "\n",
    "import imaplib\n",
    "import email\n",
    "\n",
    "def read_mail():\n",
    "    mail = imaplib.IMAP4_SSL(\"imap.gmail.com\")\n",
    "    mail.login(\"sudharsan.0125@gmail.com\",\"gmail@pass\")\n",
    "    mail.select(\"inbox\")\n",
    "    _, search_data = mail.search(None, \"ALL\")\n",
    "    for num in search_data[0].split():\n",
    "        _, data = mail.fetch(num, \"(RFC822)\")\n",
    "        _, b = data[0]\n",
    "        email_message = email.message_from_bytes(b)\n",
    "        print(\"Subject:\", email_message[\"Subject\"])\n",
    "        print(\"From:\", email_message[\"From\"])\n",
    "        print(\"To:\", email_message[\"To\"])\n",
    "        print(\"Date:\", email_message[\"Date\"])\n",
    "        print(\"Message:\", email_message.get_payload())"
   ]
  },
  {
   "cell_type": "code",
   "execution_count": 15,
   "metadata": {},
   "outputs": [
    {
     "ename": "ModuleNotFoundError",
     "evalue": "No module named 'exceptions'",
     "output_type": "error",
     "traceback": [
      "\u001b[1;31m---------------------------------------------------------------------------\u001b[0m",
      "\u001b[1;31mModuleNotFoundError\u001b[0m                       Traceback (most recent call last)",
      "Cell \u001b[1;32mIn[15], line 5\u001b[0m\n\u001b[0;32m      1\u001b[0m \u001b[39m### Task 8\u001b[39;00m\n\u001b[0;32m      2\u001b[0m \n\u001b[0;32m      3\u001b[0m \u001b[39m### Write a function which will be able to read a doc/word file from your system\u001b[39;00m\n\u001b[1;32m----> 5\u001b[0m \u001b[39mimport\u001b[39;00m \u001b[39mdocx\u001b[39;00m\n\u001b[0;32m      6\u001b[0m \u001b[39mdef\u001b[39;00m \u001b[39mread_docx\u001b[39m():\n\u001b[0;32m      7\u001b[0m     doc \u001b[39m=\u001b[39m docx\u001b[39m.\u001b[39mDocument(\u001b[39m\"\u001b[39m\u001b[39m../../../Final Year project/Project Proposal.docx\u001b[39m\u001b[39m\"\u001b[39m)\n",
      "File \u001b[1;32md:\\anaconda\\envs\\dsboot\\lib\\site-packages\\docx.py:30\u001b[0m\n\u001b[0;32m     27\u001b[0m \u001b[39mexcept\u001b[39;00m \u001b[39mImportError\u001b[39;00m:\n\u001b[0;32m     28\u001b[0m     TAGS \u001b[39m=\u001b[39m {}\n\u001b[1;32m---> 30\u001b[0m \u001b[39mfrom\u001b[39;00m \u001b[39mexceptions\u001b[39;00m \u001b[39mimport\u001b[39;00m \u001b[39mPendingDeprecationWarning\u001b[39;00m\n\u001b[0;32m     31\u001b[0m \u001b[39mfrom\u001b[39;00m \u001b[39mwarnings\u001b[39;00m \u001b[39mimport\u001b[39;00m warn\n\u001b[0;32m     33\u001b[0m \u001b[39mimport\u001b[39;00m \u001b[39mlogging\u001b[39;00m\n",
      "\u001b[1;31mModuleNotFoundError\u001b[0m: No module named 'exceptions'"
     ]
    }
   ],
   "source": [
    "### Task 8\n",
    "\n",
    "### Write a function which will be able to read a doc/word file from your system\n",
    "\n",
    "import docx\n",
    "def read_docx():\n",
    "    doc = docx.Document(\"../../../Final Year project/Project Proposal.docx\")\n",
    "    for para in doc.paragraphs:\n",
    "        print(para.text)"
   ]
  }
 ],
 "metadata": {
  "kernelspec": {
   "display_name": "dsboot",
   "language": "python",
   "name": "python3"
  },
  "language_info": {
   "codemirror_mode": {
    "name": "ipython",
    "version": 3
   },
   "file_extension": ".py",
   "mimetype": "text/x-python",
   "name": "python",
   "nbconvert_exporter": "python",
   "pygments_lexer": "ipython3",
   "version": "3.10.9"
  },
  "orig_nbformat": 4
 },
 "nbformat": 4,
 "nbformat_minor": 2
}
