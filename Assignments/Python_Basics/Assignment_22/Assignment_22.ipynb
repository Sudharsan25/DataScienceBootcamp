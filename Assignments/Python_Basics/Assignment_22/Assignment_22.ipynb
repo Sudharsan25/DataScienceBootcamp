{
 "cells": [
  {
   "cell_type": "markdown",
   "id": "dc15c220",
   "metadata": {},
   "source": [
    "# Python Assignment 22 "
   ]
  },
  {
   "cell_type": "markdown",
   "id": "ef2edc4b",
   "metadata": {},
   "source": [
    "### 1. What is the result of the code, and explain?"
   ]
  },
  {
   "cell_type": "code",
   "execution_count": 1,
   "id": "62a2a029",
   "metadata": {},
   "outputs": [],
   "source": [
    "X = \"iNeuron\"\n",
    "def func():\n",
    "    print(X)"
   ]
  },
  {
   "cell_type": "code",
   "execution_count": 2,
   "id": "0e92d7e1",
   "metadata": {},
   "outputs": [
    {
     "name": "stdout",
     "output_type": "stream",
     "text": [
      "iNeuron\n"
     ]
    }
   ],
   "source": [
    "func()"
   ]
  },
  {
   "cell_type": "markdown",
   "id": "fd472914",
   "metadata": {},
   "source": [
    "* X is defined as a global variable outside the function, and it is referenced inside the function directly so it prints the value of X "
   ]
  },
  {
   "cell_type": "markdown",
   "id": "e88bd876",
   "metadata": {},
   "source": [
    "### 2. What is the result of the code, and explain?"
   ]
  },
  {
   "cell_type": "code",
   "execution_count": 3,
   "id": "b3e55f5b",
   "metadata": {},
   "outputs": [],
   "source": [
    "X = \"iNeuron\"\n",
    "def func():\n",
    "    X=\"N1!\""
   ]
  },
  {
   "cell_type": "code",
   "execution_count": 4,
   "id": "9dded6ad",
   "metadata": {},
   "outputs": [],
   "source": [
    "func()"
   ]
  },
  {
   "cell_type": "code",
   "execution_count": 6,
   "id": "4125ace3",
   "metadata": {},
   "outputs": [
    {
     "name": "stdout",
     "output_type": "stream",
     "text": [
      "iNeuron\n"
     ]
    }
   ],
   "source": [
    "print(X)"
   ]
  },
  {
   "cell_type": "markdown",
   "id": "f79fb430",
   "metadata": {},
   "source": [
    "* X is a global variable defined with value of \"iNeuron\"\n",
    "* In the func(), the value of X reassigned to \"N1!\"\n",
    "* When func() is executed, It assigns the new value to X, but it will only in the local scope of the function. The original value of X, which is global variable, will not change.\n",
    "* This is why even after executing func(), if we print value of X, it is still iNeuron"
   ]
  },
  {
   "cell_type": "markdown",
   "id": "f7b779b2",
   "metadata": {},
   "source": [
    "### 3. What does this code print, and why?"
   ]
  },
  {
   "cell_type": "code",
   "execution_count": 7,
   "id": "f8c37120",
   "metadata": {},
   "outputs": [],
   "source": [
    "X = \"iNeuron\"\n",
    "def func():\n",
    "    X=\"N1!\"\n",
    "    print(X)"
   ]
  },
  {
   "cell_type": "code",
   "execution_count": 8,
   "id": "43c9d656",
   "metadata": {},
   "outputs": [
    {
     "name": "stdout",
     "output_type": "stream",
     "text": [
      "N1!\n"
     ]
    }
   ],
   "source": [
    "func()"
   ]
  },
  {
   "cell_type": "code",
   "execution_count": 9,
   "id": "ce9531eb",
   "metadata": {},
   "outputs": [
    {
     "name": "stdout",
     "output_type": "stream",
     "text": [
      "iNeuron\n"
     ]
    }
   ],
   "source": [
    "print(X)"
   ]
  },
  {
   "cell_type": "markdown",
   "id": "95c1d87e",
   "metadata": {},
   "source": [
    "* Inside the function func(), the value \"N1!\" is assigned to X, but it is only saved on the local scope. So inside the function, value of X is \"N1!\". SO it prints that value when func() as \"N1!\"\n",
    "* But the value of global variable X does not change, so when you print X directly it will give the value \"iNeuron\""
   ]
  },
  {
   "cell_type": "markdown",
   "id": "54351180",
   "metadata": {},
   "source": [
    "###  4. What output does this code produce? Why?"
   ]
  },
  {
   "cell_type": "code",
   "execution_count": 10,
   "id": "f9de1e31",
   "metadata": {},
   "outputs": [],
   "source": [
    "X = \"iNeuron\"\n",
    "def func():\n",
    "    global X\n",
    "    X=\"N1!\"\n",
    "    print(X)"
   ]
  },
  {
   "cell_type": "code",
   "execution_count": 11,
   "id": "e6177e14",
   "metadata": {},
   "outputs": [
    {
     "name": "stdout",
     "output_type": "stream",
     "text": [
      "N1!\n"
     ]
    }
   ],
   "source": [
    "func()"
   ]
  },
  {
   "cell_type": "code",
   "execution_count": 12,
   "id": "3eee90c2",
   "metadata": {},
   "outputs": [
    {
     "name": "stdout",
     "output_type": "stream",
     "text": [
      "N1!\n"
     ]
    }
   ],
   "source": [
    "print(X)"
   ]
  },
  {
   "cell_type": "markdown",
   "id": "7d088486",
   "metadata": {},
   "source": [
    "* This time we can see the value of global variable value also changes to \"N1!\". This is because of the global keyword\n",
    "* The global keyword can be used to overide the value of any global variable inside a function."
   ]
  },
  {
   "cell_type": "markdown",
   "id": "af85d0f3",
   "metadata": {},
   "source": [
    "### 5. What about this code—what’s the output, and why?"
   ]
  },
  {
   "cell_type": "code",
   "execution_count": 13,
   "id": "71fb3545",
   "metadata": {},
   "outputs": [],
   "source": [
    "X = \"iNeuron\"\n",
    "def func():\n",
    "    X=\"N1!\"\n",
    "    def nested():\n",
    "        print(X)\n",
    "    nested()"
   ]
  },
  {
   "cell_type": "code",
   "execution_count": 14,
   "id": "7b55fef7",
   "metadata": {},
   "outputs": [
    {
     "name": "stdout",
     "output_type": "stream",
     "text": [
      "N1!\n"
     ]
    }
   ],
   "source": [
    "func()"
   ]
  },
  {
   "cell_type": "code",
   "execution_count": 15,
   "id": "b3005145",
   "metadata": {},
   "outputs": [
    {
     "data": {
      "text/plain": [
       "'iNeuron'"
      ]
     },
     "execution_count": 15,
     "metadata": {},
     "output_type": "execute_result"
    }
   ],
   "source": [
    "X"
   ]
  },
  {
   "cell_type": "markdown",
   "id": "13bbd670",
   "metadata": {},
   "source": [
    "* The function nested() is nested inside the func() function, so it will have the scope of the func() function. That is why it prints the value of X as \"N1!\" as it was assigned inside the func() function"
   ]
  },
  {
   "cell_type": "markdown",
   "id": "c83f63ed",
   "metadata": {},
   "source": [
    "###  6. How about this code: what is its output in Python 3, and explain?"
   ]
  },
  {
   "cell_type": "code",
   "execution_count": 16,
   "id": "009203ed",
   "metadata": {},
   "outputs": [],
   "source": [
    "X = \"iNeuron\"\n",
    "def func():\n",
    "    X=\"N1!\"\n",
    "    def nested():\n",
    "        nonlocal X\n",
    "        X = \"Spam\"\n",
    "    nested()\n",
    "    print(X)"
   ]
  },
  {
   "cell_type": "markdown",
   "id": "0a6141ea",
   "metadata": {},
   "source": [
    "* When you do not use the nonlocal keyword, the value of X will only change in the nested() function, so the original value will just be the value in func() scope.\n",
    "* nonlocal keyword is used to reference parent variables inside nested functions, so that we can ensure that the variable is not local. So now the value of X does not just change in the nested() function, but also in the func() scope."
   ]
  }
 ],
 "metadata": {
  "kernelspec": {
   "display_name": "Python 3 (ipykernel)",
   "language": "python",
   "name": "python3"
  },
  "language_info": {
   "codemirror_mode": {
    "name": "ipython",
    "version": 3
   },
   "file_extension": ".py",
   "mimetype": "text/x-python",
   "name": "python",
   "nbconvert_exporter": "python",
   "pygments_lexer": "ipython3",
   "version": "3.9.13"
  }
 },
 "nbformat": 4,
 "nbformat_minor": 5
}
