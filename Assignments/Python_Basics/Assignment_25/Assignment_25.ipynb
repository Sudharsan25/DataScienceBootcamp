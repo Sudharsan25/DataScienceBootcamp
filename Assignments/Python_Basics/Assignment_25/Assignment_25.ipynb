{
 "cells": [
  {
   "attachments": {},
   "cell_type": "markdown",
   "metadata": {},
   "source": [
    "### Python Basics Assignment 25"
   ]
  },
  {
   "attachments": {},
   "cell_type": "markdown",
   "metadata": {},
   "source": [
    "#### 1. What is the difference between enclosing a list comprehension in Square brackets and parentheses.\n",
    "\n",
    "* A list comprehension in parentheses will result in a generator object, whereas enclosing a list comprehension in square brackets will return a normal python list."
   ]
  },
  {
   "attachments": {},
   "cell_type": "markdown",
   "metadata": {},
   "source": [
    "#### 2. What is the relationship between iterators and generators?\n",
    "\n",
    "* Iterators are immutable objects which contain a sequence of values or collections and can be used to iterate over them. These sequences can be a list, or a string, or a tuple, etc,. The iterator only stores the first element of the sequence in memory. To iterate over the sequence, we can use the next() method. The next method will return the next element of the sequence and will return an exception if there is no next element.\n",
    "\n",
    "* On the other hand, generators are functions which are used to create iterators. In a generator function, we simply use the yield statement instead of the return statement, so the function acts like an iterator."
   ]
  },
  {
   "attachments": {},
   "cell_type": "markdown",
   "metadata": {},
   "source": [
    "#### 3. What are the signs that a function is a generator function?\n",
    "\n",
    "* If the function contains a yield statement, in place of a return statement, then the  function is a generator function"
   ]
  },
  {
   "attachments": {},
   "cell_type": "markdown",
   "metadata": {},
   "source": [
    "#### 4. What is the purpose of the yield statement?\n",
    "\n",
    "* When you are creating a function that should return a sequence of values, a normal python function will only return the first value of the sequence.\n",
    "* To counter this, we can make use of the yield statement instead of the return statement. The yield statement will return the execution to the caller, but it will also retain the state of the iteratable in memory, so the function can be called multiple times using the next() function to iterate through the sequence."
   ]
  },
  {
   "cell_type": "code",
   "execution_count": 1,
   "metadata": {},
   "outputs": [],
   "source": [
    "def list():\n",
    "    for i in range(5):\n",
    "        return i**2"
   ]
  },
  {
   "cell_type": "code",
   "execution_count": 2,
   "metadata": {},
   "outputs": [
    {
     "data": {
      "text/plain": [
       "0"
      ]
     },
     "execution_count": 2,
     "metadata": {},
     "output_type": "execute_result"
    }
   ],
   "source": [
    "list()"
   ]
  },
  {
   "cell_type": "code",
   "execution_count": 3,
   "metadata": {},
   "outputs": [],
   "source": [
    "def list_gen():\n",
    "    for i in range(5):\n",
    "        yield i**2\n",
    "\n",
    "list_out = list_gen()"
   ]
  },
  {
   "cell_type": "code",
   "execution_count": 4,
   "metadata": {},
   "outputs": [
    {
     "name": "stdout",
     "output_type": "stream",
     "text": [
      "0\n",
      "1\n",
      "4\n",
      "9\n"
     ]
    }
   ],
   "source": [
    "print(next(list_out))\n",
    "print(next(list_out))\n",
    "print(next(list_out))\n",
    "print(next(list_out))"
   ]
  },
  {
   "attachments": {},
   "cell_type": "markdown",
   "metadata": {},
   "source": [
    "####  5. What is the relationship between map calls and list comprehensions? Make a comparision and contrast between the two.\n",
    "\n",
    "* A map function is used to execute a single operation or function on a list of items. \n",
    "* A list comprehension can be used to create a list based on a specific operation or function.\n",
    "\n",
    "    * Map functions are more complex, while list comprehensions can be simple to execute and understand.\n",
    "    * Map functions can simply execute a given function on a sequence, but list comprehension can also accept conditions like if-else and filter the items based on that\n",
    "    * Map function returns a map object, while list comprehensions returns a list "
   ]
  }
 ],
 "metadata": {
  "kernelspec": {
   "display_name": "Python 3 (ipykernel)",
   "language": "python",
   "name": "python3"
  },
  "language_info": {
   "codemirror_mode": {
    "name": "ipython",
    "version": 3
   },
   "file_extension": ".py",
   "mimetype": "text/x-python",
   "name": "python",
   "nbconvert_exporter": "python",
   "pygments_lexer": "ipython3",
   "version": "3.9.13"
  }
 },
 "nbformat": 4,
 "nbformat_minor": 2
}
