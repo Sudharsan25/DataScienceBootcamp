{
 "cells": [
  {
   "cell_type": "markdown",
   "id": "7fe6d94d",
   "metadata": {},
   "source": [
    "### Python Basics Assignment_24"
   ]
  },
  {
   "cell_type": "markdown",
   "id": "4f4325ba",
   "metadata": {},
   "source": [
    "### 1. What is the relationship between def statements and lambda statements?\n",
    "\n",
    "* Both def statements and lambda statements are used to create functions in python."
   ]
  },
  {
   "cell_type": "markdown",
   "id": "46b54884",
   "metadata": {},
   "source": [
    "### 2. What is the benefit of an lamba function?\n",
    "\n",
    "* A lambda function enables the user to create an anonymous function. This can be useful when the function is not used many times.\n",
    "* Single line or small functions can easily be written using lamba functions\n",
    "* These lambda functions can be assinged to any variable."
   ]
  },
  {
   "cell_type": "markdown",
   "id": "c8d6f29d",
   "metadata": {},
   "source": [
    "### 3. Compare and  contrast map(), reduce(), and filter().\n",
    "\n",
    "* map function -  This function is used to execute any given operation or function on a list or collection of items. It takes in a function and an iterable as arguments\n",
    "* filter function -  As the name suggests, filter functions are used to filter out the values in a sequence based on a specific condition. This function also takes a function and a iterable as arugments\n",
    "* reduce function -  It reduces an iterable to a single value, by reducing the sequence of values executed on any given operation or function to get a single value output,"
   ]
  },
  {
   "cell_type": "markdown",
   "id": "2c4185f6",
   "metadata": {},
   "source": [
    "### 4. What are function annotations and how are they used?\n",
    " * Function annotations are used to describe the parts of a function like argument type, number of arguements, return type of the function, etc,.\n",
    " * Eg: def function(x:int, y:int):\n",
    " * This describes the type of the arguments to be integer."
   ]
  },
  {
   "cell_type": "markdown",
   "id": "7a5821da",
   "metadata": {},
   "source": [
    "### 5. What are recursive functions and how are they used?\n",
    "\n",
    "* A function that calls itself repeatedly during execution is called a recursive function. The best example of a recursive function is factorial of numbers function."
   ]
  },
  {
   "cell_type": "code",
   "execution_count": 1,
   "id": "ce837489",
   "metadata": {},
   "outputs": [],
   "source": [
    "def factorial(n):\n",
    "    if n==1:\n",
    "        return 1\n",
    "    else: \n",
    "        return n*factorial(n-1)"
   ]
  },
  {
   "cell_type": "code",
   "execution_count": 2,
   "id": "6b503dfd",
   "metadata": {},
   "outputs": [
    {
     "data": {
      "text/plain": [
       "24"
      ]
     },
     "execution_count": 2,
     "metadata": {},
     "output_type": "execute_result"
    }
   ],
   "source": [
    "factorial(4)"
   ]
  },
  {
   "cell_type": "markdown",
   "id": "80b93b14",
   "metadata": {},
   "source": [
    "### 6. What are some general guidelines for coding functions?\n",
    "\n",
    "* Use functions only when the code is to be used multiple times.\n",
    "* Try to make use of local variables in function, and avoid global variables\n",
    "* The name of the function should clearly indicate the operation carried out, not just any random name\n",
    "* Use one specific naming convention throughout the whole function\n",
    "* Make use of function annotations to describe the function parts\n",
    "* Create a docstring for every function"
   ]
  },
  {
   "cell_type": "markdown",
   "id": "bbb47579",
   "metadata": {},
   "source": [
    "### 7. Name three or more ways that functions can communicate results to the caller\n",
    "\n",
    "* print statement\n",
    "* return statement\n",
    "* yield statement"
   ]
  }
 ],
 "metadata": {
  "kernelspec": {
   "display_name": "Python 3 (ipykernel)",
   "language": "python",
   "name": "python3"
  },
  "language_info": {
   "codemirror_mode": {
    "name": "ipython",
    "version": 3
   },
   "file_extension": ".py",
   "mimetype": "text/x-python",
   "name": "python",
   "nbconvert_exporter": "python",
   "pygments_lexer": "ipython3",
   "version": "3.9.13"
  }
 },
 "nbformat": 4,
 "nbformat_minor": 5
}
