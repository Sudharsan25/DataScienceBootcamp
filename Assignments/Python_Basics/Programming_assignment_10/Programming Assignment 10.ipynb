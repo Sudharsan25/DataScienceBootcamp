{
 "cells": [
  {
   "cell_type": "markdown",
   "id": "e6a9e447",
   "metadata": {},
   "source": [
    "#### 1. Write a Python program to find sum of elements in list?"
   ]
  },
  {
   "cell_type": "code",
   "execution_count": 1,
   "id": "5d560737",
   "metadata": {},
   "outputs": [],
   "source": [
    "def sum_list(lst):\n",
    "    sum=0\n",
    "    for i in lst:\n",
    "        sum+=i\n",
    "    return sum"
   ]
  },
  {
   "cell_type": "code",
   "execution_count": 2,
   "id": "8722a8ac",
   "metadata": {},
   "outputs": [
    {
     "data": {
      "text/plain": [
       "10"
      ]
     },
     "execution_count": 2,
     "metadata": {},
     "output_type": "execute_result"
    }
   ],
   "source": [
    "sum_list([1,2,3,4])"
   ]
  },
  {
   "cell_type": "markdown",
   "id": "2e461dc0",
   "metadata": {},
   "source": [
    "#### 2. Write a Python program to Multiply all numbers in the list?"
   ]
  },
  {
   "cell_type": "code",
   "execution_count": 5,
   "id": "3c148dfd",
   "metadata": {},
   "outputs": [],
   "source": [
    "def mul_list(lst):\n",
    "    product=1\n",
    "    for i in lst:\n",
    "        product*=i\n",
    "    return product"
   ]
  },
  {
   "cell_type": "code",
   "execution_count": 6,
   "id": "0d230703",
   "metadata": {},
   "outputs": [
    {
     "data": {
      "text/plain": [
       "120"
      ]
     },
     "execution_count": 6,
     "metadata": {},
     "output_type": "execute_result"
    }
   ],
   "source": [
    "mul_list([1,2,3,4,5])"
   ]
  },
  {
   "cell_type": "markdown",
   "id": "7955a1ce",
   "metadata": {},
   "source": [
    "#### 3. Write a Python program to find smallest number in a list?"
   ]
  },
  {
   "cell_type": "code",
   "execution_count": 45,
   "id": "c36cac0b",
   "metadata": {},
   "outputs": [],
   "source": [
    "def smallest(lst):\n",
    "    smallest=lst[0]\n",
    "    for i in range(1,len(lst)):\n",
    "        if lst[i]<smallest:\n",
    "            smaller=lst[i]\n",
    "    return smaller"
   ]
  },
  {
   "cell_type": "code",
   "execution_count": 46,
   "id": "e4ffc177",
   "metadata": {},
   "outputs": [
    {
     "data": {
      "text/plain": [
       "2"
      ]
     },
     "execution_count": 46,
     "metadata": {},
     "output_type": "execute_result"
    }
   ],
   "source": [
    "smallest([12,44,562,45,12,35,2,29])"
   ]
  },
  {
   "cell_type": "markdown",
   "id": "d8eda35a",
   "metadata": {},
   "source": [
    "#### 4. Write a Python program to find largest number in a list?"
   ]
  },
  {
   "cell_type": "code",
   "execution_count": 49,
   "id": "3fdd909c",
   "metadata": {},
   "outputs": [],
   "source": [
    "def largest(lst):\n",
    "    largest=lst[0]\n",
    "    for i in range(1,len(lst)):\n",
    "        if lst[i]>largest:\n",
    "            largest=lst[i]\n",
    "    return largest"
   ]
  },
  {
   "cell_type": "code",
   "execution_count": 44,
   "id": "7853383a",
   "metadata": {},
   "outputs": [
    {
     "data": {
      "text/plain": [
       "562"
      ]
     },
     "execution_count": 44,
     "metadata": {},
     "output_type": "execute_result"
    }
   ],
   "source": [
    "largest([12,44,562,45,12,35,2,29])"
   ]
  },
  {
   "cell_type": "markdown",
   "id": "52f275eb",
   "metadata": {},
   "source": [
    "#### 5. Write a Python program to find second largest number in a list?"
   ]
  },
  {
   "cell_type": "code",
   "execution_count": 89,
   "id": "ad1b7bfe",
   "metadata": {},
   "outputs": [],
   "source": [
    "def largest_2nd(lst):\n",
    "    sorted_lst = sorted(lst)\n",
    "    return sorted_lst[-2]"
   ]
  },
  {
   "cell_type": "code",
   "execution_count": 90,
   "id": "efc1c123",
   "metadata": {},
   "outputs": [
    {
     "data": {
      "text/plain": [
       "45"
      ]
     },
     "execution_count": 90,
     "metadata": {},
     "output_type": "execute_result"
    }
   ],
   "source": [
    "largest_2nd([12,44,56,45,12,35,2,29])"
   ]
  },
  {
   "cell_type": "markdown",
   "id": "79b7e59a",
   "metadata": {},
   "source": [
    "##### 6. Write a Python program to find N largest elements from a list?"
   ]
  },
  {
   "cell_type": "code",
   "execution_count": 91,
   "id": "739af4f8",
   "metadata": {},
   "outputs": [],
   "source": [
    "def N_largest_num(n,lst):\n",
    "    sorted_lst = sorted(lst,reverse=True)\n",
    "    return sorted_lst[:n]"
   ]
  },
  {
   "cell_type": "code",
   "execution_count": 92,
   "id": "90a79c64",
   "metadata": {},
   "outputs": [
    {
     "data": {
      "text/plain": [
       "[56, 45, 44, 35]"
      ]
     },
     "execution_count": 92,
     "metadata": {},
     "output_type": "execute_result"
    }
   ],
   "source": [
    "N_largest_num(4,[12,44,56,45,12,35,2,29])"
   ]
  },
  {
   "cell_type": "markdown",
   "id": "da089c52",
   "metadata": {},
   "source": [
    "#### 7. Write a Python program to print even numbers in a list?"
   ]
  },
  {
   "cell_type": "code",
   "execution_count": 93,
   "id": "294816b1",
   "metadata": {},
   "outputs": [],
   "source": [
    "def printEven(lst):\n",
    "    for i in lst:\n",
    "        if i%2==0:\n",
    "            print(i)"
   ]
  },
  {
   "cell_type": "code",
   "execution_count": 94,
   "id": "37c54fc6",
   "metadata": {},
   "outputs": [
    {
     "name": "stdout",
     "output_type": "stream",
     "text": [
      "12\n",
      "44\n",
      "56\n",
      "12\n",
      "2\n"
     ]
    }
   ],
   "source": [
    "printEven([12,44,56,45,12,35,2,29])"
   ]
  },
  {
   "cell_type": "markdown",
   "id": "fa3bff40",
   "metadata": {},
   "source": [
    "#### 8. Write a Python program to print odd numbers in a List?"
   ]
  },
  {
   "cell_type": "code",
   "execution_count": 97,
   "id": "ef59af31",
   "metadata": {},
   "outputs": [],
   "source": [
    "def printOdd(lst):\n",
    "    for i in lst:\n",
    "        if i%2!=0:\n",
    "            print(i)"
   ]
  },
  {
   "cell_type": "code",
   "execution_count": 98,
   "id": "863f242f",
   "metadata": {},
   "outputs": [
    {
     "name": "stdout",
     "output_type": "stream",
     "text": [
      "45\n",
      "35\n",
      "29\n"
     ]
    }
   ],
   "source": [
    "printOdd([12,44,56,45,12,35,2,29])"
   ]
  },
  {
   "cell_type": "markdown",
   "id": "e9d907db",
   "metadata": {},
   "source": [
    "#### 9. Write a Python program to Remove empty List from List?"
   ]
  },
  {
   "cell_type": "code",
   "execution_count": 99,
   "id": "78584e5d",
   "metadata": {},
   "outputs": [],
   "source": [
    "def remove_empty(lst):\n",
    "    if [] in lst:\n",
    "        lst.remove([])\n",
    "    return lst"
   ]
  },
  {
   "cell_type": "code",
   "execution_count": 100,
   "id": "7bad1fa9",
   "metadata": {},
   "outputs": [
    {
     "data": {
      "text/plain": [
       "[12, 44, 56, 45, 12, 35, 2, 29]"
      ]
     },
     "execution_count": 100,
     "metadata": {},
     "output_type": "execute_result"
    }
   ],
   "source": [
    "remove_empty([12,44,56,45,12,35,2,29,[]])"
   ]
  },
  {
   "cell_type": "markdown",
   "id": "8b2a8aa3",
   "metadata": {},
   "source": [
    "#### 10. Write a Python program to Cloning or Copying a list?"
   ]
  },
  {
   "cell_type": "code",
   "execution_count": 101,
   "id": "bfccc49a",
   "metadata": {},
   "outputs": [],
   "source": [
    "def copy_list(lst):\n",
    "    lst_2=lst.copy()\n",
    "    print(lst,id(lst))\n",
    "    print(lst_2,id(lst_2))"
   ]
  },
  {
   "cell_type": "code",
   "execution_count": 102,
   "id": "c58a6475",
   "metadata": {},
   "outputs": [
    {
     "name": "stdout",
     "output_type": "stream",
     "text": [
      "[12, 44, 56, 45, 12, 35, 2, 29] 2175519998144\n",
      "[12, 44, 56, 45, 12, 35, 2, 29] 2175519653056\n"
     ]
    }
   ],
   "source": [
    "copy_list([12,44,56,45,12,35,2,29])"
   ]
  },
  {
   "cell_type": "markdown",
   "id": "31d1191d",
   "metadata": {},
   "source": [
    "#### 11. Write a Python program to Count occurrences of an element in a list?"
   ]
  },
  {
   "cell_type": "code",
   "execution_count": 105,
   "id": "b0b75279",
   "metadata": {},
   "outputs": [],
   "source": [
    "def count_num(n,lst):\n",
    "    count=0\n",
    "    for i in lst:\n",
    "        if n==i:\n",
    "            count+=1\n",
    "    return count"
   ]
  },
  {
   "cell_type": "code",
   "execution_count": 106,
   "id": "1b0e813c",
   "metadata": {},
   "outputs": [
    {
     "data": {
      "text/plain": [
       "3"
      ]
     },
     "execution_count": 106,
     "metadata": {},
     "output_type": "execute_result"
    }
   ],
   "source": [
    "count_num(12,[12,44,56,45,12,12,32,35,2,29])"
   ]
  }
 ],
 "metadata": {
  "kernelspec": {
   "display_name": "Python 3 (ipykernel)",
   "language": "python",
   "name": "python3"
  },
  "language_info": {
   "codemirror_mode": {
    "name": "ipython",
    "version": 3
   },
   "file_extension": ".py",
   "mimetype": "text/x-python",
   "name": "python",
   "nbconvert_exporter": "python",
   "pygments_lexer": "ipython3",
   "version": "3.9.13"
  }
 },
 "nbformat": 4,
 "nbformat_minor": 5
}
