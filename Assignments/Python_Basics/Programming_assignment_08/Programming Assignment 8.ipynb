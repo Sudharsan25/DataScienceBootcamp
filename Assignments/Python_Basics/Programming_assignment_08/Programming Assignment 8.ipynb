{
 "cells": [
  {
   "cell_type": "markdown",
   "id": "cb153ebf",
   "metadata": {},
   "source": [
    "#### 1.Write a python program to add two matrices"
   ]
  },
  {
   "cell_type": "code",
   "execution_count": 1,
   "id": "df67f809",
   "metadata": {},
   "outputs": [],
   "source": [
    "def add_matrix(m1,m2):\n",
    "    temp=m1\n",
    "    rows = int(input(\"How many rows does your matrix contain: \"))\n",
    "    columns=int(input(\"How many columns does your matrix contain: \"))\n",
    "    for i in range(rows):\n",
    "        for j in range(columns):\n",
    "            temp[i][j]=m1[i][j]+m2[i][j]\n",
    "    \n",
    "    return temp"
   ]
  },
  {
   "cell_type": "code",
   "execution_count": 2,
   "id": "9fe5b244",
   "metadata": {},
   "outputs": [],
   "source": [
    "m1=[[1,2],[3,4]]\n",
    "m2=[[5,6],[7,8]]"
   ]
  },
  {
   "cell_type": "code",
   "execution_count": 3,
   "id": "12b5b6fa",
   "metadata": {
    "scrolled": true
   },
   "outputs": [
    {
     "name": "stdout",
     "output_type": "stream",
     "text": [
      "How many rows does your matrix contain: 2\n",
      "How many columns does your matrix contain: 2\n"
     ]
    },
    {
     "data": {
      "text/plain": [
       "[[6, 8], [10, 12]]"
      ]
     },
     "execution_count": 3,
     "metadata": {},
     "output_type": "execute_result"
    }
   ],
   "source": [
    "add_matrix(m1,m2)"
   ]
  },
  {
   "cell_type": "markdown",
   "id": "58e2bcfa",
   "metadata": {},
   "source": [
    "#### 2. Write a python program to multiply two matrices"
   ]
  },
  {
   "cell_type": "code",
   "execution_count": 4,
   "id": "36ba1d88",
   "metadata": {},
   "outputs": [],
   "source": [
    "def multiply_matrix(A,B):\n",
    "   \n",
    "    result = [[0, 0, 0, 0],\n",
    "        [0, 0, 0, 0],\n",
    "        [0, 0, 0, 0]]\n",
    " \n",
    "    for i in range(len(A)):\n",
    "        for j in range(len(B[0])):\n",
    "            for k in range(len(B)):\n",
    "                result[i][j] += A[i][k] * B[k][j]\n",
    "    return result"
   ]
  },
  {
   "cell_type": "code",
   "execution_count": 5,
   "id": "465cccfc",
   "metadata": {},
   "outputs": [],
   "source": [
    "A = [[1, 2, 3],\n",
    "    [4, 5, 6],\n",
    "    [7, 8, 9]]\n",
    " \n",
    "B = [[10, 11, 12, 13],\n",
    "    [14, 15, 16, 17],\n",
    "    [18, 19, 20, 21]]\n",
    "        "
   ]
  },
  {
   "cell_type": "code",
   "execution_count": 6,
   "id": "9a37fc52",
   "metadata": {},
   "outputs": [
    {
     "data": {
      "text/plain": [
       "[[92, 98, 104, 110], [218, 233, 248, 263], [344, 368, 392, 416]]"
      ]
     },
     "execution_count": 6,
     "metadata": {},
     "output_type": "execute_result"
    }
   ],
   "source": [
    "multiply_matrix(A,B)"
   ]
  },
  {
   "cell_type": "markdown",
   "id": "cb453745",
   "metadata": {},
   "source": [
    "#### 3. Write a python program to transpose a Matrix"
   ]
  },
  {
   "cell_type": "code",
   "execution_count": 7,
   "id": "f41ca823",
   "metadata": {},
   "outputs": [],
   "source": [
    "def transpose(matrix):\n",
    "    temp=matrix\n",
    "    for i in range(len(matrix)):\n",
    "        for j in range(len(matrix[0])):\n",
    "            temp[j][i] = matrix[i][j]\n",
    "    \n",
    "    return temp"
   ]
  },
  {
   "cell_type": "code",
   "execution_count": 8,
   "id": "f20fd461",
   "metadata": {},
   "outputs": [
    {
     "data": {
      "text/plain": [
       "[[12, 7, 3], [7, 5, 6], [3, 6, 9]]"
      ]
     },
     "execution_count": 8,
     "metadata": {},
     "output_type": "execute_result"
    }
   ],
   "source": [
    "A = [[12, 7, 3],\n",
    "    [4, 5, 6],\n",
    "    [7, 8, 9]]\n",
    "\n",
    "transpose(A)"
   ]
  },
  {
   "cell_type": "markdown",
   "id": "e5bf6fb8",
   "metadata": {},
   "source": [
    "#### 4. Write a python program to sort words in Alphabetic order"
   ]
  },
  {
   "cell_type": "code",
   "execution_count": 9,
   "id": "76ed035f",
   "metadata": {},
   "outputs": [],
   "source": [
    "def alpha_sort(string):\n",
    "    words = [word for word in string.split()]\n",
    "    words.sort()\n",
    "    for word in words:\n",
    "        print(word)"
   ]
  },
  {
   "cell_type": "code",
   "execution_count": 10,
   "id": "48b40e90",
   "metadata": {},
   "outputs": [
    {
     "name": "stdout",
     "output_type": "stream",
     "text": [
      "all\n",
      "hi\n",
      "my\n",
      "students\n",
      "to\n"
     ]
    }
   ],
   "source": [
    "alpha_sort(\"hi to all my students\")"
   ]
  },
  {
   "cell_type": "markdown",
   "id": "18bddde5",
   "metadata": {},
   "source": [
    "#### 5. Write a python program to remove punctuation from a string"
   ]
  },
  {
   "cell_type": "code",
   "execution_count": 11,
   "id": "69d01dd1",
   "metadata": {},
   "outputs": [],
   "source": [
    "def remove_punctuation(string):\n",
    "    punctuations=\"~`!@#$%^&*|\\?/.,;:<>'{}[]()\"\n",
    "    clean=\"\"\n",
    "    for character in string:\n",
    "        if character not in punctuations:\n",
    "            clean = clean + character\n",
    "            \n",
    "    return clean"
   ]
  },
  {
   "cell_type": "code",
   "execution_count": 12,
   "id": "1f150d72",
   "metadata": {},
   "outputs": [
    {
     "data": {
      "text/plain": [
       "'He said It was a very exciting interaction'"
      ]
     },
     "execution_count": 12,
     "metadata": {},
     "output_type": "execute_result"
    }
   ],
   "source": [
    "remove_punctuation(\"He said..... It was a very exciting interaction!!!\")"
   ]
  }
 ],
 "metadata": {
  "kernelspec": {
   "display_name": "Python 3 (ipykernel)",
   "language": "python",
   "name": "python3"
  },
  "language_info": {
   "codemirror_mode": {
    "name": "ipython",
    "version": 3
   },
   "file_extension": ".py",
   "mimetype": "text/x-python",
   "name": "python",
   "nbconvert_exporter": "python",
   "pygments_lexer": "ipython3",
   "version": "3.9.13"
  }
 },
 "nbformat": 4,
 "nbformat_minor": 5
}
