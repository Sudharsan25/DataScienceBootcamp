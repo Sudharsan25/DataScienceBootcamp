{
 "cells": [
  {
   "cell_type": "markdown",
   "id": "4796de46",
   "metadata": {},
   "source": [
    "#### Question1\n",
    "* Create a function that takes three integer arguments (a, b, c) and returns the amount of integers which are of equal value.\n",
    "* Examples\n",
    "1. equal(3, 4, 3) ➞ 2\n",
    "2. equal(1, 1, 1) ➞ 3\n",
    "3. equal(3, 4, 1) ➞ 0"
   ]
  },
  {
   "cell_type": "code",
   "execution_count": 5,
   "id": "007f80e2",
   "metadata": {},
   "outputs": [],
   "source": [
    "def equal(n1,n2,n3):\n",
    "    unique=set([n1,n2,n3])\n",
    "    if len(unique)==2:\n",
    "        return 2\n",
    "    elif len(unique)==1:\n",
    "        return 3\n",
    "    else:\n",
    "        return 0"
   ]
  },
  {
   "cell_type": "code",
   "execution_count": 6,
   "id": "a3b2e428",
   "metadata": {},
   "outputs": [
    {
     "data": {
      "text/plain": [
       "0"
      ]
     },
     "execution_count": 6,
     "metadata": {},
     "output_type": "execute_result"
    }
   ],
   "source": [
    "equal(3,4,2)"
   ]
  },
  {
   "cell_type": "code",
   "execution_count": 7,
   "id": "b5f018f9",
   "metadata": {},
   "outputs": [
    {
     "data": {
      "text/plain": [
       "3"
      ]
     },
     "execution_count": 7,
     "metadata": {},
     "output_type": "execute_result"
    }
   ],
   "source": [
    "equal(0,0,0)"
   ]
  },
  {
   "cell_type": "markdown",
   "id": "0eb1a18e",
   "metadata": {},
   "source": [
    "#### Question2\n",
    "* Write a function that converts a dictionary into a list of keys-values tuples.\n",
    "* Examples\n",
    "1. dict_to_list({\n",
    "&quot;D&quot;: 1,\n",
    "&quot;B&quot;: 2,\n",
    "&quot;C&quot;: 3\n",
    "}) ➞ [(&quot;B&quot;, 2), (&quot;C&quot;, 3), (&quot;D&quot;, 1)]\n",
    "2. dict_to_list({\n",
    "&quot;likes&quot;: 2,\n",
    "&quot;dislikes&quot;: 3,\n",
    "&quot;followers&quot;: 10\n",
    "}) ➞ [(&quot;dislikes&quot;, 3), (&quot;followers&quot;, 10), (&quot;likes&quot;, 2)]"
   ]
  },
  {
   "cell_type": "code",
   "execution_count": 14,
   "id": "26f59f31",
   "metadata": {},
   "outputs": [],
   "source": [
    "def dict_to_list(dictionary):\n",
    "    return sorted(list(dictionary.items()))"
   ]
  },
  {
   "cell_type": "code",
   "execution_count": 15,
   "id": "5258f12f",
   "metadata": {},
   "outputs": [
    {
     "data": {
      "text/plain": [
       "[('B', 2), ('C', 3), ('D', 1)]"
      ]
     },
     "execution_count": 15,
     "metadata": {},
     "output_type": "execute_result"
    }
   ],
   "source": [
    "dict_to_list({ \"D\": 1, \"B\": 2, \"C\": 3 })"
   ]
  },
  {
   "cell_type": "code",
   "execution_count": 16,
   "id": "9d263242",
   "metadata": {},
   "outputs": [
    {
     "data": {
      "text/plain": [
       "[('dislikes', 3), ('followers', 10), ('likes', 2)]"
      ]
     },
     "execution_count": 16,
     "metadata": {},
     "output_type": "execute_result"
    }
   ],
   "source": [
    "dict_to_list({ \"likes\": 2, \"dislikes\": 3, \"followers\": 10 })"
   ]
  },
  {
   "cell_type": "markdown",
   "id": "d0e5c8ce",
   "metadata": {},
   "source": [
    "#### Question3\n",
    "* Write a function that creates a dictionary with each (key, value) pair being the (lower case, upper case) versions of a letter, respectively.\n",
    "* Examples\n",
    "1. mapping([&quot;p&quot;, &quot;s&quot;]) ➞ { &quot;p&quot;: &quot;P&quot;, &quot;s&quot;: &quot;S&quot; }\n",
    "\n",
    "2. mapping([&quot;a&quot;, &quot;b&quot;, &quot;c&quot;]) ➞ { &quot;a&quot;: &quot;A&quot;, &quot;b&quot;: &quot;B&quot;, &quot;c&quot;: &quot;C&quot; }\n",
    "3.mapping([&quot;a&quot;, &quot;v&quot;, &quot;y&quot;, &quot;z&quot;]) ➞ { &quot;a&quot;: &quot;A&quot;, &quot;v&quot;: &quot;V&quot;, &quot;y&quot;: &quot;Y&quot;, &quot;z&quot;: &quot;Z&quot; }"
   ]
  },
  {
   "cell_type": "code",
   "execution_count": 17,
   "id": "da804753",
   "metadata": {},
   "outputs": [],
   "source": [
    "def mapping(lst):\n",
    "    mapped=dict()\n",
    "    for i in lst:\n",
    "        mapped[i] = i.upper()\n",
    "    return mapped"
   ]
  },
  {
   "cell_type": "code",
   "execution_count": 18,
   "id": "4a5673b5",
   "metadata": {},
   "outputs": [
    {
     "data": {
      "text/plain": [
       "{'p': 'P', 's': 'S'}"
      ]
     },
     "execution_count": 18,
     "metadata": {},
     "output_type": "execute_result"
    }
   ],
   "source": [
    "mapping([\"p\",\"s\"])"
   ]
  },
  {
   "cell_type": "code",
   "execution_count": 19,
   "id": "672b4ff2",
   "metadata": {
    "scrolled": true
   },
   "outputs": [
    {
     "data": {
      "text/plain": [
       "{'e': 'E', 'f': 'F', 'q': 'Q', 'r': 'R'}"
      ]
     },
     "execution_count": 19,
     "metadata": {},
     "output_type": "execute_result"
    }
   ],
   "source": [
    "mapping([\"e\",\"f\",\"q\",\"r\"])"
   ]
  },
  {
   "cell_type": "markdown",
   "id": "5d0ac958",
   "metadata": {},
   "source": [
    "#### Question4\n",
    "* Write a function, that replaces all vowels in a string with a specified vowel.\n",
    "* Examples\n",
    "1. vow_replace(&quot;apples and bananas&quot;, &quot;u&quot;) ➞ &quot;upplus und bununus&quot;\n",
    "2. vow_replace(&quot;cheese casserole&quot;, &quot;o&quot;) ➞ &quot;chooso cossorolo&quot;\n",
    "3. vow_replace(&quot;stuffed jalapeno poppers&quot;, &quot;e&quot;) ➞ &quot;steffed jelepene peppers&quot;"
   ]
  },
  {
   "cell_type": "code",
   "execution_count": 20,
   "id": "5e6c30de",
   "metadata": {},
   "outputs": [],
   "source": [
    "def vow_replace(string,vowel):\n",
    "    vowels=\"aeiuo\"\n",
    "    for i in string:\n",
    "        if i in vowels:\n",
    "            string=string.replace(i,vowel)\n",
    "    return string"
   ]
  },
  {
   "cell_type": "code",
   "execution_count": 21,
   "id": "83fee948",
   "metadata": {},
   "outputs": [
    {
     "data": {
      "text/plain": [
       "'upplus und bununus'"
      ]
     },
     "execution_count": 21,
     "metadata": {},
     "output_type": "execute_result"
    }
   ],
   "source": [
    "vow_replace(\"apples and bananas\",\"u\")"
   ]
  },
  {
   "cell_type": "code",
   "execution_count": 22,
   "id": "abe23a4d",
   "metadata": {},
   "outputs": [
    {
     "data": {
      "text/plain": [
       "'Elaa mata'"
      ]
     },
     "execution_count": 22,
     "metadata": {},
     "output_type": "execute_result"
    }
   ],
   "source": [
    "vow_replace(\"Eloo mate\",\"a\")"
   ]
  },
  {
   "cell_type": "markdown",
   "id": "a51aa1b9",
   "metadata": {},
   "source": [
    "#### Question5\n",
    "* Create a function that takes a string as input and capitalizes a letter if its ASCII code is even and returns its lower case version if its ASCII code is odd.\n",
    "* Examples\n",
    "1. ascii_capitalize(&quot;to be or not to be!&quot;) ➞ &quot;To Be oR NoT To Be!&quot;\n",
    "2. ascii_capitalize(&quot;THE LITTLE MERMAID&quot;) ➞ &quot;THe LiTTLe meRmaiD&quot;\n",
    "3. ascii_capitalize(&quot;Oh what a beautiful morning.&quot;) ➞ &quot;oH wHaT a BeauTiFuL\n",
    "moRNiNg.&quot;"
   ]
  },
  {
   "cell_type": "code",
   "execution_count": 25,
   "id": "88a36eb1",
   "metadata": {},
   "outputs": [],
   "source": [
    "def ascii_capitalize(string):\n",
    "    new_str=\"\"\n",
    "    for i in string:\n",
    "        if ord(i)%2==0:\n",
    "            new_str+=i.upper()\n",
    "        else:\n",
    "            new_str+=i.lower()\n",
    "    return new_str"
   ]
  },
  {
   "cell_type": "code",
   "execution_count": 26,
   "id": "16266395",
   "metadata": {},
   "outputs": [
    {
     "data": {
      "text/plain": [
       "'oH wHaT a BeauTiFuL moRNiNg.'"
      ]
     },
     "execution_count": 26,
     "metadata": {},
     "output_type": "execute_result"
    }
   ],
   "source": [
    "ascii_capitalize(\"Oh what a beautiful morning.\") "
   ]
  },
  {
   "cell_type": "code",
   "execution_count": 27,
   "id": "c3e91b99",
   "metadata": {},
   "outputs": [
    {
     "data": {
      "text/plain": [
       "'PRogRammiNg assigNmeNT 25'"
      ]
     },
     "execution_count": 27,
     "metadata": {},
     "output_type": "execute_result"
    }
   ],
   "source": [
    "ascii_capitalize(\"Programming Assignment 25\") "
   ]
  }
 ],
 "metadata": {
  "kernelspec": {
   "display_name": "Python 3 (ipykernel)",
   "language": "python",
   "name": "python3"
  },
  "language_info": {
   "codemirror_mode": {
    "name": "ipython",
    "version": 3
   },
   "file_extension": ".py",
   "mimetype": "text/x-python",
   "name": "python",
   "nbconvert_exporter": "python",
   "pygments_lexer": "ipython3",
   "version": "3.9.13"
  }
 },
 "nbformat": 4,
 "nbformat_minor": 5
}
