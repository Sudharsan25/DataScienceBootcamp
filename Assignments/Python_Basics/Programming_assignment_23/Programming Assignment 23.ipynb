{
 "cells": [
  {
   "cell_type": "markdown",
   "id": "12d9272e",
   "metadata": {},
   "source": [
    "#### Question 1\n",
    "* Create a function that takes a number as an argument and returns True or False depending on whether the number is symmetrical or not. A number is symmetrical when it is the same as its reverse.\n",
    "* Examples\n",
    "1. is_symmetrical(7227) ➞ True\n",
    "2. is_symmetrical(12567) ➞ False\n",
    "3. is_symmetrical(44444444) ➞ True\n",
    "4. is_symmetrical(9939) ➞ False\n",
    "5. is_symmetrical(1112111) ➞ True"
   ]
  },
  {
   "cell_type": "code",
   "execution_count": 1,
   "id": "c70962af",
   "metadata": {},
   "outputs": [],
   "source": [
    "def is_symmetrical(n):\n",
    "    num=str(n)\n",
    "    if num==num[::-1]:\n",
    "        return True\n",
    "    else:\n",
    "        return False"
   ]
  },
  {
   "cell_type": "code",
   "execution_count": 2,
   "id": "9a95696f",
   "metadata": {},
   "outputs": [
    {
     "data": {
      "text/plain": [
       "True"
      ]
     },
     "execution_count": 2,
     "metadata": {},
     "output_type": "execute_result"
    }
   ],
   "source": [
    "is_symmetrical(7227)"
   ]
  },
  {
   "cell_type": "code",
   "execution_count": 3,
   "id": "912f20e9",
   "metadata": {},
   "outputs": [
    {
     "data": {
      "text/plain": [
       "False"
      ]
     },
     "execution_count": 3,
     "metadata": {},
     "output_type": "execute_result"
    }
   ],
   "source": [
    "is_symmetrical(12345)"
   ]
  },
  {
   "cell_type": "markdown",
   "id": "9757fe9d",
   "metadata": {},
   "source": [
    "#### Question 2\n",
    "* Given a string of numbers separated by a comma and space, return the product of the numbers.\n",
    "* Examples\n",
    "1. multiply_nums(&quot;2, 3&quot;) ➞ 6\n",
    "2. multiply_nums(&quot;1, 2, 3, 4&quot;) ➞ 24\n",
    "3. multiply_nums(&quot;54, 75, 453, 0&quot;) ➞ 0\n",
    "4. multiply_nums(&quot;10, -2&quot;) ➞ -20"
   ]
  },
  {
   "cell_type": "code",
   "execution_count": 10,
   "id": "955a427d",
   "metadata": {},
   "outputs": [],
   "source": [
    "import re\n",
    "def multiply_nums(string):\n",
    "    lst=re.split(\" |,\",string)\n",
    "    sum_of_n=1\n",
    "    for i in lst:\n",
    "        sum_of_n*=int(i)\n",
    "    return sum_of_n"
   ]
  },
  {
   "cell_type": "code",
   "execution_count": 11,
   "id": "1020fa32",
   "metadata": {},
   "outputs": [
    {
     "data": {
      "text/plain": [
       "6"
      ]
     },
     "execution_count": 11,
     "metadata": {},
     "output_type": "execute_result"
    }
   ],
   "source": [
    "multiply_nums(\"2,3\")"
   ]
  },
  {
   "cell_type": "code",
   "execution_count": 13,
   "id": "67172294",
   "metadata": {},
   "outputs": [
    {
     "data": {
      "text/plain": [
       "24"
      ]
     },
     "execution_count": 13,
     "metadata": {},
     "output_type": "execute_result"
    }
   ],
   "source": [
    "multiply_nums(\"1,2,3,4\")"
   ]
  },
  {
   "cell_type": "code",
   "execution_count": 14,
   "id": "d9e038fb",
   "metadata": {},
   "outputs": [
    {
     "data": {
      "text/plain": [
       "24"
      ]
     },
     "execution_count": 14,
     "metadata": {},
     "output_type": "execute_result"
    }
   ],
   "source": [
    "multiply_nums(\"1,2 3 4\")"
   ]
  },
  {
   "cell_type": "markdown",
   "id": "0635ce49",
   "metadata": {},
   "source": [
    "#### Question 3\n",
    "* Create a function that squares every digit of a number.\n",
    "* Examples\n",
    "1. square_digits(9119) ➞ 811181\n",
    "2. square_digits(2483) ➞ 416649\n",
    "3. square_digits(3212) ➞ 9414\n",
    "* Notes\n",
    "1. The function receives an integer and must return an integer."
   ]
  },
  {
   "cell_type": "code",
   "execution_count": 15,
   "id": "c5f33fa0",
   "metadata": {},
   "outputs": [],
   "source": [
    "def square_digits(num):\n",
    "    num_s=str(num)\n",
    "    square=\"\"\n",
    "    for i in num_s:\n",
    "        square+= str(int(i)**2)\n",
    "    return int(square)"
   ]
  },
  {
   "cell_type": "code",
   "execution_count": 16,
   "id": "587da1dd",
   "metadata": {},
   "outputs": [
    {
     "data": {
      "text/plain": [
       "811181"
      ]
     },
     "execution_count": 16,
     "metadata": {},
     "output_type": "execute_result"
    }
   ],
   "source": [
    "square_digits(9119)"
   ]
  },
  {
   "cell_type": "code",
   "execution_count": 17,
   "id": "f79573ed",
   "metadata": {},
   "outputs": [
    {
     "data": {
      "text/plain": [
       "425649"
      ]
     },
     "execution_count": 17,
     "metadata": {},
     "output_type": "execute_result"
    }
   ],
   "source": [
    "square_digits(2583)"
   ]
  },
  {
   "cell_type": "markdown",
   "id": "ac2e6377",
   "metadata": {},
   "source": [
    "#### Question 4\n",
    "* Create a function that sorts a list and removes all duplicate items from it.\n",
    "* Examples\n",
    "1. setify([1, 3, 3, 5, 5]) ➞ [1, 3, 5]\n",
    "2. setify([4, 4, 4, 4]) ➞ [4]\n",
    "3. setify([5, 7, 8, 9, 10, 15]) ➞ [5, 7, 8, 9, 10, 15]\n",
    "4. setify([3, 3, 3, 2, 1]) ➞ [1, 2, 3]"
   ]
  },
  {
   "cell_type": "code",
   "execution_count": 18,
   "id": "925b7efd",
   "metadata": {},
   "outputs": [],
   "source": [
    "def setify(lst):\n",
    "    return list(set(sorted(lst)))"
   ]
  },
  {
   "cell_type": "code",
   "execution_count": 19,
   "id": "713e9962",
   "metadata": {},
   "outputs": [
    {
     "data": {
      "text/plain": [
       "[1, 3, 5]"
      ]
     },
     "execution_count": 19,
     "metadata": {},
     "output_type": "execute_result"
    }
   ],
   "source": [
    "setify([1,3,3,5,5])"
   ]
  },
  {
   "cell_type": "code",
   "execution_count": 20,
   "id": "fe59154c",
   "metadata": {},
   "outputs": [
    {
     "data": {
      "text/plain": [
       "[4]"
      ]
     },
     "execution_count": 20,
     "metadata": {},
     "output_type": "execute_result"
    }
   ],
   "source": [
    "setify([4,4,4,4])"
   ]
  },
  {
   "cell_type": "code",
   "execution_count": 21,
   "id": "e17c6e31",
   "metadata": {},
   "outputs": [
    {
     "data": {
      "text/plain": [
       "[130, 10, 203, 402, 120]"
      ]
     },
     "execution_count": 21,
     "metadata": {},
     "output_type": "execute_result"
    }
   ],
   "source": [
    "setify([10,120,130,402,10,203,130])"
   ]
  },
  {
   "cell_type": "markdown",
   "id": "a00aa1c6",
   "metadata": {},
   "source": [
    "#### Question 5\n",
    "* Create a function that returns the mean of all digits.\n",
    "* Examples\n",
    "1. mean(42) ➞ 3\n",
    "2. mean(12345) ➞ 3\n",
    "3. mean(666) ➞ 6\n",
    "* Notes\n",
    "1. The mean of all digits is the sum of digits / how many digits there are (e.g. mean of digits in 512 is (5+1+2)/3(number of digits) = 8/3=2).\n",
    "2. The mean will always be an integer."
   ]
  },
  {
   "cell_type": "code",
   "execution_count": 24,
   "id": "8a05f5d3",
   "metadata": {},
   "outputs": [],
   "source": [
    "def mean(n):\n",
    "    num=str(n)\n",
    "    sum_of_dig=0\n",
    "    for i in num:\n",
    "        sum_of_dig+=int(i)\n",
    "    return sum_of_dig//len(num)"
   ]
  },
  {
   "cell_type": "code",
   "execution_count": 25,
   "id": "0e97a00c",
   "metadata": {},
   "outputs": [
    {
     "data": {
      "text/plain": [
       "3"
      ]
     },
     "execution_count": 25,
     "metadata": {},
     "output_type": "execute_result"
    }
   ],
   "source": [
    "mean(42)"
   ]
  },
  {
   "cell_type": "code",
   "execution_count": 26,
   "id": "50de8024",
   "metadata": {},
   "outputs": [
    {
     "data": {
      "text/plain": [
       "3"
      ]
     },
     "execution_count": 26,
     "metadata": {},
     "output_type": "execute_result"
    }
   ],
   "source": [
    "mean(12345)"
   ]
  },
  {
   "cell_type": "code",
   "execution_count": 27,
   "id": "4f655cf4",
   "metadata": {},
   "outputs": [
    {
     "data": {
      "text/plain": [
       "7"
      ]
     },
     "execution_count": 27,
     "metadata": {},
     "output_type": "execute_result"
    }
   ],
   "source": [
    "mean(777)"
   ]
  }
 ],
 "metadata": {
  "kernelspec": {
   "display_name": "Python 3 (ipykernel)",
   "language": "python",
   "name": "python3"
  },
  "language_info": {
   "codemirror_mode": {
    "name": "ipython",
    "version": 3
   },
   "file_extension": ".py",
   "mimetype": "text/x-python",
   "name": "python",
   "nbconvert_exporter": "python",
   "pygments_lexer": "ipython3",
   "version": "3.9.13"
  }
 },
 "nbformat": 4,
 "nbformat_minor": 5
}
