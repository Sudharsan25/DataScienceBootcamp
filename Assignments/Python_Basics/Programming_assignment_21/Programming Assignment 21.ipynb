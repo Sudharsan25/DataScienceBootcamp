{
 "cells": [
  {
   "cell_type": "markdown",
   "id": "a9184b75",
   "metadata": {},
   "source": [
    "#### Question1\n",
    "1. Write a function that takes a list and a number as arguments. Add the number to the end of the list, then remove the first element of the list. The function should then return the updated list.\n",
    "* Examples\n",
    "1. next_in_line([5, 6, 7, 8, 9], 1) ➞ [6, 7, 8, 9, 1]\n",
    "2. next_in_line([7, 6, 3, 23, 17], 10) ➞ [6, 3, 23, 17, 10]\n",
    "3. next_in_line([1, 10, 20, 42 ], 6) ➞ [10, 20, 42, 6]\n",
    "4. next_in_line([], 6) ➞ &quot;No list has been selected&quot;"
   ]
  },
  {
   "cell_type": "code",
   "execution_count": 14,
   "id": "b542f57b",
   "metadata": {},
   "outputs": [],
   "source": [
    "def next_in_line(lst,n):\n",
    "    if len(lst)==0:\n",
    "        return \"No list has been selected\"\n",
    "    else:\n",
    "        lst=lst[1:]\n",
    "        lst.append(n)\n",
    "        return lst"
   ]
  },
  {
   "cell_type": "code",
   "execution_count": 15,
   "id": "7cac5e1e",
   "metadata": {},
   "outputs": [
    {
     "data": {
      "text/plain": [
       "[6, 7, 8, 9, 1]"
      ]
     },
     "execution_count": 15,
     "metadata": {},
     "output_type": "execute_result"
    }
   ],
   "source": [
    "next_in_line([5,6,7,8,9],1)"
   ]
  },
  {
   "cell_type": "code",
   "execution_count": 16,
   "id": "2b4fd179",
   "metadata": {},
   "outputs": [
    {
     "data": {
      "text/plain": [
       "[6, 4, 1, 10]"
      ]
     },
     "execution_count": 16,
     "metadata": {},
     "output_type": "execute_result"
    }
   ],
   "source": [
    "next_in_line([7,6,4,1],10)"
   ]
  },
  {
   "cell_type": "markdown",
   "id": "c0776d55",
   "metadata": {},
   "source": [
    "#### Question2\n",
    "* Create the function that takes a list of dictionaries and returns the sum of people&#39;s budgets.\n",
    "* Examples\n",
    "1. get_budgets([\n",
    "{ &quot;name&quot;: &quot;John&quot;, &quot;age&quot;: 21, &quot;budget&quot;: 23000 },\n",
    "{ &quot;name&quot;: &quot;Steve&quot;, &quot;age&quot;: 32, &quot;budget&quot;: 40000 },\n",
    "{ &quot;name&quot;: &quot;Martin&quot;, &quot;age&quot;: 16, &quot;budget&quot;: 2700 }\n",
    "]) ➞ 65700\n",
    "2. get_budgets([\n",
    "{ &quot;name&quot;: &quot;John&quot;, &quot;age&quot;: 21, &quot;budget&quot;: 29000 },\n",
    "{ &quot;name&quot;: &quot;Steve&quot;, &quot;age&quot;: 32, &quot;budget&quot;: 32000 },\n",
    "{ &quot;name&quot;: &quot;Martin&quot;, &quot;age&quot;: 16, &quot;budget&quot;: 1600 }\n",
    "]) ➞ 62600\n"
   ]
  },
  {
   "cell_type": "code",
   "execution_count": 17,
   "id": "707c2b8a",
   "metadata": {},
   "outputs": [],
   "source": [
    "def get_budgets(lst):\n",
    "    budget=0\n",
    "    for i in lst:\n",
    "        budget+=i[\"budget\"]\n",
    "    return budget"
   ]
  },
  {
   "cell_type": "code",
   "execution_count": 19,
   "id": "a7803f3e",
   "metadata": {},
   "outputs": [
    {
     "data": {
      "text/plain": [
       "65700"
      ]
     },
     "execution_count": 19,
     "metadata": {},
     "output_type": "execute_result"
    }
   ],
   "source": [
    "get_budgets([ { \"name\": \"John\", \"age\": 21, \"budget\": 23000 }, { \"name\": \"Steve\", \"age\": 32, \"budget\": 40000 }, { \"name\": \"Martin\", \"age\": 16, \"budget\": 2700 } ])"
   ]
  },
  {
   "cell_type": "code",
   "execution_count": 20,
   "id": "c35034af",
   "metadata": {},
   "outputs": [
    {
     "data": {
      "text/plain": [
       "62600"
      ]
     },
     "execution_count": 20,
     "metadata": {},
     "output_type": "execute_result"
    }
   ],
   "source": [
    "get_budgets([ { \"name\": \"John\", \"age\": 21, \"budget\": 29000 }, { \"name\": \"Steve\", \"age\": 32, \"budget\": 32000 }, { \"name\": \"Martin\", \"age\": 16, \"budget\": 1600 } ])"
   ]
  },
  {
   "cell_type": "markdown",
   "id": "bf690a1d",
   "metadata": {},
   "source": [
    "#### Question3\n",
    "* Create a function that takes a string and returns a string with its letters in alphabetical order.\n",
    "* Examples\n",
    "1. alphabet_soup(&quot;hello&quot;) ➞ &quot;ehllo&quot;\n",
    "2. alphabet_soup(&quot;edabit&quot;) ➞ &quot;abdeit&quot;\n",
    "3. alphabet_soup(&quot;hacker&quot;) ➞ &quot;acehkr&quot;\n",
    "4. alphabet_soup(&quot;geek&quot;) ➞ &quot;eegk&quot;\n",
    "5. alphabet_soup(&quot;javascript&quot;) ➞ &quot;aacijprstv&quot;"
   ]
  },
  {
   "cell_type": "code",
   "execution_count": 24,
   "id": "dbab2b27",
   "metadata": {},
   "outputs": [],
   "source": [
    "def alphabet_soup(string):\n",
    "    string=string.lower()\n",
    "    new = []\n",
    "    for i in range (0,len(string)):\n",
    "        new.append(string[i])\n",
    " \n",
    " \n",
    "    for i in range(0,len(string)):\n",
    "        for j in range(0,len(string)):\n",
    "            if new[i]<new[j]:\n",
    "                new[i],new[j]=new[j],new[i]\n",
    "    new_str=\"\"\n",
    " \n",
    "    for i in range(0,len(string)):\n",
    "        new_str+=new[i]\n",
    " \n",
    "    print(new_str)"
   ]
  },
  {
   "cell_type": "code",
   "execution_count": 25,
   "id": "d697edf1",
   "metadata": {},
   "outputs": [
    {
     "name": "stdout",
     "output_type": "stream",
     "text": [
      "ehllo\n"
     ]
    }
   ],
   "source": [
    "alphabet_soup(\"hello\")"
   ]
  },
  {
   "cell_type": "code",
   "execution_count": 27,
   "id": "a93168c1",
   "metadata": {},
   "outputs": [
    {
     "name": "stdout",
     "output_type": "stream",
     "text": [
      "aacijprstv\n"
     ]
    }
   ],
   "source": [
    "alphabet_soup(\"Javascript\")"
   ]
  },
  {
   "cell_type": "markdown",
   "id": "7a30f927",
   "metadata": {},
   "source": [
    "#### Question4\n",
    "* Suppose that you invest 10,000 dollars for 10 years at an interest rate of 6per compounded monthly. What will be the value of your investment at the end of the 10 year period?\n",
    "\n",
    "* Create a function that accepts the principal p, the term in years t, the interest rate r, and the number of compounding periods per year n. The function returns the value at the end of term rounded to the nearest cent.\n",
    "* For the example above:\n",
    "1. compound_interest(10000, 10, 0.06, 12) ➞ 18193.97\n",
    "\n",
    "* Note that the interest rate is given as a decimal and n=12 because with monthly compounding there are 12 periods per year. Compounding can also be done annually, quarterly, weekly, or daily.\n",
    "* Examples\n",
    "1. compound_interest(100, 1, 0.05, 1) ➞ 105.0\n",
    "2. compound_interest(3500, 15, 0.1, 4) ➞ 15399.26\n",
    "3. compound_interest(100000, 20, 0.15, 365) ➞ 2007316.26"
   ]
  },
  {
   "cell_type": "code",
   "execution_count": 28,
   "id": "a521e9ab",
   "metadata": {},
   "outputs": [],
   "source": [
    "def compund_interest(p,t,r,n):\n",
    "    return round(p*((1+r/n)**(n*t)),2)"
   ]
  },
  {
   "cell_type": "code",
   "execution_count": 29,
   "id": "48e15097",
   "metadata": {},
   "outputs": [
    {
     "data": {
      "text/plain": [
       "105.0"
      ]
     },
     "execution_count": 29,
     "metadata": {},
     "output_type": "execute_result"
    }
   ],
   "source": [
    "compund_interest(100,1,0.05,1)"
   ]
  },
  {
   "cell_type": "code",
   "execution_count": 30,
   "id": "e7873205",
   "metadata": {
    "scrolled": true
   },
   "outputs": [
    {
     "data": {
      "text/plain": [
       "15399.26"
      ]
     },
     "execution_count": 30,
     "metadata": {},
     "output_type": "execute_result"
    }
   ],
   "source": [
    "compund_interest(3500,15,0.1,4)"
   ]
  },
  {
   "cell_type": "markdown",
   "id": "eb608a5e",
   "metadata": {},
   "source": [
    "#### Question5\n",
    "* Write a function that takes a list of elements and returns only the integers.\n",
    "Examples\n",
    "1. return_only_integer([9, 2, &quot;space&quot;, &quot;car&quot;, &quot;lion&quot;, 16]) ➞ [9, 2, 16]\n",
    "2. return_only_integer([&quot;hello&quot;, 81, &quot;basketball&quot;, 123, &quot;fox&quot;]) ➞ [81, 123]\n",
    "3. return_only_integer([10, &quot;121&quot;, 56, 20, &quot;car&quot;, 3, &quot;lion&quot;]) ➞ [10, 56, 20,\n",
    "3]\n",
    "4. return_only_integer([&quot;String&quot;, True, 3.3, 1]) ➞ [1]"
   ]
  },
  {
   "cell_type": "code",
   "execution_count": 31,
   "id": "a74a6eb0",
   "metadata": {},
   "outputs": [],
   "source": [
    "def return_only_int(lst):\n",
    "    new_list=[]\n",
    "    for i in lst:\n",
    "        if type(i)==int:\n",
    "            new_list.append(i)\n",
    "    return new_list"
   ]
  },
  {
   "cell_type": "code",
   "execution_count": 32,
   "id": "d1f944bb",
   "metadata": {},
   "outputs": [
    {
     "data": {
      "text/plain": [
       "[9, 2, 16]"
      ]
     },
     "execution_count": 32,
     "metadata": {},
     "output_type": "execute_result"
    }
   ],
   "source": [
    "return_only_int([9, 2, \"space\", \"car\", \"lion\", 16])"
   ]
  },
  {
   "cell_type": "code",
   "execution_count": 33,
   "id": "c834be7e",
   "metadata": {},
   "outputs": [
    {
     "data": {
      "text/plain": [
       "[0, 56, 20, 3]"
      ]
     },
     "execution_count": 33,
     "metadata": {},
     "output_type": "execute_result"
    }
   ],
   "source": [
    "return_only_int([0, \"121\", 56, 20, \"car\", 3, \"lion\"])"
   ]
  }
 ],
 "metadata": {
  "kernelspec": {
   "display_name": "Python 3 (ipykernel)",
   "language": "python",
   "name": "python3"
  },
  "language_info": {
   "codemirror_mode": {
    "name": "ipython",
    "version": 3
   },
   "file_extension": ".py",
   "mimetype": "text/x-python",
   "name": "python",
   "nbconvert_exporter": "python",
   "pygments_lexer": "ipython3",
   "version": "3.9.13"
  }
 },
 "nbformat": 4,
 "nbformat_minor": 5
}
