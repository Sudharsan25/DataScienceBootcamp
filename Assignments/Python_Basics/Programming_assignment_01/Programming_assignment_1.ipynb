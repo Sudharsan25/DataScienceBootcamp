{
 "cells": [
  {
   "cell_type": "markdown",
   "id": "c248bb73",
   "metadata": {},
   "source": [
    "#### 1. Write a Python program to print \"Hello Python\"?"
   ]
  },
  {
   "cell_type": "code",
   "execution_count": 1,
   "id": "1627dc5f",
   "metadata": {},
   "outputs": [
    {
     "name": "stdout",
     "output_type": "stream",
     "text": [
      "Hello Python\n"
     ]
    }
   ],
   "source": [
    "def hello():\n",
    "    print(\"Hello Python\")\n",
    "    \n",
    "hello()"
   ]
  },
  {
   "cell_type": "markdown",
   "id": "b18a9578",
   "metadata": {},
   "source": [
    "#### 2. Write program to do arithmetical operations addition and division."
   ]
  },
  {
   "cell_type": "code",
   "execution_count": 2,
   "id": "240dec6c",
   "metadata": {},
   "outputs": [
    {
     "data": {
      "text/plain": [
       "3"
      ]
     },
     "execution_count": 2,
     "metadata": {},
     "output_type": "execute_result"
    }
   ],
   "source": [
    "def add(x,y):\n",
    "    return x+y\n",
    "    \n",
    "add(1,2)"
   ]
  },
  {
   "cell_type": "code",
   "execution_count": 8,
   "id": "ff4e8755",
   "metadata": {},
   "outputs": [
    {
     "name": "stdout",
     "output_type": "stream",
     "text": [
      "Exception \"division by zero\" has occured\n",
      "None\n",
      "5.0\n"
     ]
    }
   ],
   "source": [
    "def divide(x,y):\n",
    "    try:\n",
    "        result = x / y\n",
    "        return result\n",
    "    except Exception as e:\n",
    "        print(f'Exception \"{e}\" has occured')\n",
    "        \n",
    "print(divide(10,0))\n",
    "print(divide(10,2))"
   ]
  },
  {
   "cell_type": "markdown",
   "id": "4e597c75",
   "metadata": {},
   "source": [
    "#### 3. Write a Python program to find the area of the triangle:"
   ]
  },
  {
   "cell_type": "code",
   "execution_count": 12,
   "id": "346d1832",
   "metadata": {},
   "outputs": [
    {
     "name": "stdout",
     "output_type": "stream",
     "text": [
      "Area of the triangle is 100 units\n"
     ]
    }
   ],
   "source": [
    "def area_of_tri(base,height):\n",
    "    area = int(0.5*base*height)\n",
    "    print(f'Area of the triangle is {area} units')\n",
    "area_of_tri(10,20)"
   ]
  },
  {
   "cell_type": "markdown",
   "id": "27532d70",
   "metadata": {},
   "source": [
    "#### 4. Write a Python program to swap two variables"
   ]
  },
  {
   "cell_type": "code",
   "execution_count": 13,
   "id": "7b1df672",
   "metadata": {},
   "outputs": [
    {
     "name": "stdout",
     "output_type": "stream",
     "text": [
      "Old value of a: 5\n",
      "Old value of b: 10\n",
      "New value of a: 10\n",
      "New value of b: 5\n"
     ]
    }
   ],
   "source": [
    "def swap_variables(a,b):\n",
    "    print(f'Old value of a: {a}')\n",
    "    print(f'Old value of b: {b}')       \n",
    "    temp = a\n",
    "    a = b\n",
    "    b = temp\n",
    "    print(f'New value of a: {a}')\n",
    "    print(f'New value of b: {b}')\n",
    "    \n",
    "swap_variables(5,10)"
   ]
  },
  {
   "cell_type": "markdown",
   "id": "e81bed63",
   "metadata": {},
   "source": [
    "#### 5. Write a python program to generate a random number"
   ]
  },
  {
   "cell_type": "code",
   "execution_count": 14,
   "id": "cfcdd6ce",
   "metadata": {},
   "outputs": [],
   "source": [
    "import random\n",
    "def random_number():\n",
    "    return random.randint(0,2000) "
   ]
  },
  {
   "cell_type": "code",
   "execution_count": 15,
   "id": "5fade57d",
   "metadata": {},
   "outputs": [
    {
     "data": {
      "text/plain": [
       "464"
      ]
     },
     "execution_count": 15,
     "metadata": {},
     "output_type": "execute_result"
    }
   ],
   "source": [
    "random_number()"
   ]
  }
 ],
 "metadata": {
  "kernelspec": {
   "display_name": "Python 3 (ipykernel)",
   "language": "python",
   "name": "python3"
  },
  "language_info": {
   "codemirror_mode": {
    "name": "ipython",
    "version": 3
   },
   "file_extension": ".py",
   "mimetype": "text/x-python",
   "name": "python",
   "nbconvert_exporter": "python",
   "pygments_lexer": "ipython3",
   "version": "3.9.13"
  }
 },
 "nbformat": 4,
 "nbformat_minor": 5
}
