{
 "cells": [
  {
   "cell_type": "markdown",
   "id": "c7dcf6e1",
   "metadata": {},
   "source": [
    "# Python basics assingment 4"
   ]
  },
  {
   "cell_type": "markdown",
   "id": "0b7d2296",
   "metadata": {},
   "source": [
    "### 1. What exactly is []?"
   ]
  },
  {
   "cell_type": "markdown",
   "id": "7aa54964",
   "metadata": {},
   "source": [
    "#### Answer: [] is used to represent an empty list in python"
   ]
  },
  {
   "cell_type": "markdown",
   "id": "6a325d4c",
   "metadata": {},
   "source": [
    "### 2. In a list of values stored in a variable called spam, how would you assign the value &#39;hello&#39; as the third value? (Assume [2, 4, 6, 8, 10] are in spam.)\n",
    "\n",
    "* We can use the insert method, which takes the index and value as arguments. For example, we can write spam.insert(2,'hello') will insert hello as the third value of the list"
   ]
  },
  {
   "cell_type": "markdown",
   "id": "b45d7a4e",
   "metadata": {},
   "source": [
    "### Let's pretend the spam includes the list ['a','b','c','d'] for the next three queries."
   ]
  },
  {
   "cell_type": "markdown",
   "id": "0a4104be",
   "metadata": {},
   "source": [
    "### 3. What is the value of spam[int(int('3'*2)/11)] ?\n",
    "* d"
   ]
  },
  {
   "cell_type": "markdown",
   "id": "0de1200a",
   "metadata": {},
   "source": [
    "### 4. What is the value of spam[-1]? \n",
    "* d"
   ]
  },
  {
   "cell_type": "markdown",
   "id": "6ec9296c",
   "metadata": {},
   "source": [
    "### 5. What is the value of spam[:2]?\n",
    "* ['a','b']"
   ]
  },
  {
   "cell_type": "markdown",
   "id": "ffcac859",
   "metadata": {},
   "source": [
    "### Let's pretend bacon has the list [3.14, 'cat',11,'cat', True] for the next three questions"
   ]
  },
  {
   "cell_type": "markdown",
   "id": "1693ed10",
   "metadata": {},
   "source": [
    "### 6. What is value of bacon.index('cat)?\n",
    "* 1"
   ]
  },
  {
   "cell_type": "markdown",
   "id": "d7351475",
   "metadata": {},
   "source": [
    "### 7. How does bacon.append(99) change the look of the list value in bacon?\n",
    "* 99 is added as the last element to the list. So now bacon will look like [3.14, 'cat', 11, 'cat', True, 99]"
   ]
  },
  {
   "cell_type": "markdown",
   "id": "9d8b9902",
   "metadata": {},
   "source": [
    "### 8. How does bacon.remove('cat') change the look of the list in bacon?\n",
    "* Remove will delete the first occurance of the value. So, now bacon will be [3.14,11,'cat',True,99]"
   ]
  },
  {
   "cell_type": "markdown",
   "id": "855c6ac7",
   "metadata": {},
   "source": [
    "### 9. What are the list concatenation and list replication operators?\n",
    "* List concatenation - It can be done using the \"+\" operator.\n",
    "* List replication - It can be done using the \"*\" operator."
   ]
  },
  {
   "cell_type": "markdown",
   "id": "92f91bb5",
   "metadata": {},
   "source": [
    "### 10. What is difference between the list methods append() and insert()?\n",
    "* append() method inserts elements only at the end of the list, while insert can be used to insert elements at any positions as it also takes the index value as an argument."
   ]
  },
  {
   "cell_type": "markdown",
   "id": "7fbbf64a",
   "metadata": {},
   "source": [
    "### 11. What are the two methods for removing items from a list?\n",
    "* pop() and remove() methods can be used to remove items from the list. Pop removes items by index and remove just takes in the value to be removed as the argument."
   ]
  },
  {
   "cell_type": "markdown",
   "id": "ac5db7cc",
   "metadata": {},
   "source": [
    "### 12. Describe how list values and string values are identical.\n",
    "* Both list and string values are iterable, this means we can use for loops to iterate over every single value of the list (Character if it's a string)."
   ]
  },
  {
   "cell_type": "markdown",
   "id": "7b55da4f",
   "metadata": {},
   "source": [
    "### 13. What's the difference between tuples and lists?\n",
    "* Tuples are the same as lists, but only that they are immutable. Tuples can be used when the user wants to ensure data integrity"
   ]
  },
  {
   "cell_type": "markdown",
   "id": "4a4f7c76",
   "metadata": {},
   "source": [
    "### 14. How do you type a tuple value that only contains the integer 42?\n",
    "* a = (42)"
   ]
  },
  {
   "cell_type": "markdown",
   "id": "769ae3dc",
   "metadata": {},
   "source": [
    "### 15. How do you get a list value's tuple form? How do you get a tuple value's list form?\n",
    "* We can convert a list to tuple form by just passing the list as an argument to the tuple() method.\n",
    "* Similarly, we can convert a tuple to list by giving it as the argument for list() method"
   ]
  },
  {
   "cell_type": "markdown",
   "id": "de634206",
   "metadata": {},
   "source": [
    "### 16. Variables that \"contain\" list values are not necessarily lists themselves. Instead, what do they contain?\n",
    "* List variables only contain reference to the list stored in them, not the lists themselves"
   ]
  },
  {
   "cell_type": "markdown",
   "id": "464a4964",
   "metadata": {},
   "source": [
    "### 17. How do you distinguish between copy.copy() and copy.deepcopy()?\n",
    "* copy() method creates a new element with reference to the old object. This means that any change in the new element will also affect the original.\n",
    "* Whereas, deepcopy() assings a new element completely. This way the change in new element does not change the state of the original."
   ]
  }
 ],
 "metadata": {
  "kernelspec": {
   "display_name": "Python 3 (ipykernel)",
   "language": "python",
   "name": "python3"
  },
  "language_info": {
   "codemirror_mode": {
    "name": "ipython",
    "version": 3
   },
   "file_extension": ".py",
   "mimetype": "text/x-python",
   "name": "python",
   "nbconvert_exporter": "python",
   "pygments_lexer": "ipython3",
   "version": "3.9.13"
  }
 },
 "nbformat": 4,
 "nbformat_minor": 5
}
