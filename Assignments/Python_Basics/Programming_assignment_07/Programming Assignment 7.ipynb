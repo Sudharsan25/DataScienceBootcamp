{
 "cells": [
  {
   "cell_type": "markdown",
   "id": "b06ce6aa",
   "metadata": {},
   "source": [
    "#### 1. Write a Python Program to find sum of array?"
   ]
  },
  {
   "cell_type": "code",
   "execution_count": 1,
   "id": "18ec0e37",
   "metadata": {},
   "outputs": [],
   "source": [
    "def sum_of_array(lst):\n",
    "    sum=0\n",
    "    for i in lst:\n",
    "        sum += i\n",
    "    return sum"
   ]
  },
  {
   "cell_type": "code",
   "execution_count": 2,
   "id": "b0760a90",
   "metadata": {},
   "outputs": [
    {
     "data": {
      "text/plain": [
       "15"
      ]
     },
     "execution_count": 2,
     "metadata": {},
     "output_type": "execute_result"
    }
   ],
   "source": [
    "sum_of_array([1,2,3,4,5])"
   ]
  },
  {
   "cell_type": "markdown",
   "id": "dacb6573",
   "metadata": {},
   "source": [
    "#### 2. Write a Python Program to find largest element in an array?"
   ]
  },
  {
   "cell_type": "code",
   "execution_count": 3,
   "id": "7953779e",
   "metadata": {},
   "outputs": [],
   "source": [
    "def largest_element(lst):\n",
    "    for i in range(len(lst)):\n",
    "        for j in range(i+1,len(lst)):\n",
    "            if lst[i]>lst[j]:\n",
    "                greatest=lst[i]\n",
    "            elif lst[j]>lst[i]:\n",
    "                greatest=lst[j]\n",
    "    return greatest"
   ]
  },
  {
   "cell_type": "code",
   "execution_count": 4,
   "id": "5836fc17",
   "metadata": {},
   "outputs": [
    {
     "data": {
      "text/plain": [
       "9"
      ]
     },
     "execution_count": 4,
     "metadata": {},
     "output_type": "execute_result"
    }
   ],
   "source": [
    "largest_element([8,5,3,9,6])"
   ]
  },
  {
   "cell_type": "markdown",
   "id": "c6b5a174",
   "metadata": {},
   "source": [
    "#### 3. Write a Python Program for array rotation?"
   ]
  },
  {
   "cell_type": "code",
   "execution_count": 12,
   "id": "c803d185",
   "metadata": {},
   "outputs": [],
   "source": [
    "def rotate_array(lst):\n",
    "    n = int(input(\"How many elements do you want to rotate: \"))\n",
    "    temp=lst[n:]\n",
    "    for i in lst[:n]:\n",
    "        temp.append(i)\n",
    "    lst=temp\n",
    "    return lst"
   ]
  },
  {
   "cell_type": "code",
   "execution_count": 13,
   "id": "f41382ba",
   "metadata": {},
   "outputs": [
    {
     "name": "stdout",
     "output_type": "stream",
     "text": [
      "How many elements do you want to rotate: 2\n"
     ]
    },
    {
     "data": {
      "text/plain": [
       "[5, 62, 12, 2, 1, 24]"
      ]
     },
     "execution_count": 13,
     "metadata": {},
     "output_type": "execute_result"
    }
   ],
   "source": [
    "rotate_array([1,24,5,62,12,2])"
   ]
  },
  {
   "cell_type": "markdown",
   "id": "1a8bffd3",
   "metadata": {},
   "source": [
    "#### 4. Write a Python Program to Split the array and add the first part to the end?"
   ]
  },
  {
   "cell_type": "code",
   "execution_count": 30,
   "id": "ba007e62",
   "metadata": {},
   "outputs": [],
   "source": [
    "def split_and_add(lst):\n",
    "    first=lst[:len(lst)//2]\n",
    "    end=lst[len(lst)//2:]\n",
    "    for i in first:\n",
    "        end.append(i)\n",
    "    return end"
   ]
  },
  {
   "cell_type": "code",
   "execution_count": 31,
   "id": "545e6cdc",
   "metadata": {},
   "outputs": [
    {
     "data": {
      "text/plain": [
       "[7, 34, 23, 12, 5, 6]"
      ]
     },
     "execution_count": 31,
     "metadata": {},
     "output_type": "execute_result"
    }
   ],
   "source": [
    "split_and_add([12,5,6,7,34,23])"
   ]
  },
  {
   "cell_type": "markdown",
   "id": "e7038373",
   "metadata": {},
   "source": [
    "#### 5. Write a Python Program to check if given array is Monotonic?"
   ]
  },
  {
   "cell_type": "code",
   "execution_count": 34,
   "id": "d4465340",
   "metadata": {},
   "outputs": [],
   "source": [
    "def monotonic(lst):\n",
    "    for i in range(len(lst)-1):\n",
    "        if lst[i]<lst[i+1]:\n",
    "            _increasting_flag=True\n",
    "        else:\n",
    "            _increasting_flag=False\n",
    "        \n",
    "        if lst[i]>lst[i+1]:\n",
    "            _decreasing_flag=True\n",
    "        else:\n",
    "            _decreasing_flag=False\n",
    "    \n",
    "    if(_increasting_flag or _decreasing_flag):\n",
    "        print(\"The array is monotonic!!\")"
   ]
  },
  {
   "cell_type": "code",
   "execution_count": 35,
   "id": "ab8d824d",
   "metadata": {},
   "outputs": [
    {
     "name": "stdout",
     "output_type": "stream",
     "text": [
      "The array is monotonic!!\n"
     ]
    }
   ],
   "source": [
    "monotonic([1,2,3,4,5])"
   ]
  }
 ],
 "metadata": {
  "kernelspec": {
   "display_name": "Python 3 (ipykernel)",
   "language": "python",
   "name": "python3"
  },
  "language_info": {
   "codemirror_mode": {
    "name": "ipython",
    "version": 3
   },
   "file_extension": ".py",
   "mimetype": "text/x-python",
   "name": "python",
   "nbconvert_exporter": "python",
   "pygments_lexer": "ipython3",
   "version": "3.9.13"
  }
 },
 "nbformat": 4,
 "nbformat_minor": 5
}
