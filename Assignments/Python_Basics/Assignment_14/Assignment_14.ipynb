{
 "cells": [
  {
   "cell_type": "markdown",
   "id": "90496650",
   "metadata": {},
   "source": [
    "### Python Basic assignment 14"
   ]
  },
  {
   "cell_type": "markdown",
   "id": "386c103f",
   "metadata": {},
   "source": [
    "#### 1. What does RGBA stand for?\n",
    "\n",
    "* RGBA stands for Red,Green,Blue,Alpha"
   ]
  },
  {
   "cell_type": "markdown",
   "id": "b71ba751",
   "metadata": {},
   "source": [
    "#### 2. From the Pillow module, how do you get the RGBA value of any images?\n",
    "\n",
    "* we can use the ImageColor().getColor() method from Pillow module and set the mode to RGBA to get the RGBA value for any image."
   ]
  },
  {
   "cell_type": "code",
   "execution_count": 2,
   "id": "a3207539",
   "metadata": {},
   "outputs": [],
   "source": [
    "from PIL import ImageColor"
   ]
  },
  {
   "cell_type": "code",
   "execution_count": 4,
   "id": "bb26dfae",
   "metadata": {
    "scrolled": true
   },
   "outputs": [
    {
     "data": {
      "text/plain": [
       "(255, 0, 0, 255)"
      ]
     },
     "execution_count": 4,
     "metadata": {},
     "output_type": "execute_result"
    }
   ],
   "source": [
    "ImageColor.getcolor('red','RGBA')"
   ]
  },
  {
   "cell_type": "markdown",
   "id": "7d4b33af",
   "metadata": {},
   "source": [
    "#### 3. What is a box tuple, and how does it work?\n",
    "\n",
    "* A box Tuple is a set of four coordinates in an x-y plane that specifies the box area of the image in terms of pixels.\n",
    "* A box tuple has 4 arguments:\n",
    " *  Left -  The x-coordinate of the leftmost pixel of the box\n",
    " *  Top -  The y-coordinate of the top edge of the box\n",
    " *  Right - x-coordinate that is One more than the pixel on the rightmost edge\n",
    " *  Bottom -  y-coordinate that is One more than the pixel on the bottom edge"
   ]
  },
  {
   "cell_type": "markdown",
   "id": "e661d86a",
   "metadata": {},
   "source": [
    "#### 4. Use your image and load in notebook then, How can you find out the width and height of an Image object?\n",
    "\n",
    "* We can open the image using the open() method in PIL module\n",
    "* Then using the image.width and image.height methods, we can get the width and height of the images"
   ]
  },
  {
   "cell_type": "code",
   "execution_count": 11,
   "id": "e3e8086c",
   "metadata": {},
   "outputs": [
    {
     "name": "stdout",
     "output_type": "stream",
     "text": [
      "Width: 669; Height: 899;\n"
     ]
    }
   ],
   "source": [
    "from PIL import Image\n",
    "\n",
    "img = Image.open(\"./Screenshot 2023-03-06 092141.png\")\n",
    "\n",
    "print(f'Width: {img.width}; Height: {img.height};')"
   ]
  },
  {
   "cell_type": "markdown",
   "id": "d4c6d914",
   "metadata": {},
   "source": [
    "#### 5. What method would you call to get Image object for a 100×100 image, excluding the lower-left quarter of it?\n",
    "\n",
    "* The crop method can be used to exclude the lower-left quarter of the image"
   ]
  },
  {
   "cell_type": "code",
   "execution_count": 13,
   "id": "410f7b19",
   "metadata": {},
   "outputs": [],
   "source": [
    "new_img = img.crop((0,50,50,50))"
   ]
  },
  {
   "cell_type": "markdown",
   "id": "444c269c",
   "metadata": {},
   "source": [
    "#### 6. After making changes to an Image object, how could you save it as an image file?\n",
    "\n",
    "* The img.save() method can be used to save an image"
   ]
  },
  {
   "cell_type": "markdown",
   "id": "53c5cbbb",
   "metadata": {},
   "source": [
    "#### 7. What module contains Pillows shape drawing code?\n",
    "\n",
    "* The Pillow module contains a ImageDraw Module that contains code for drawing various shapes."
   ]
  },
  {
   "cell_type": "markdown",
   "id": "24f675ab",
   "metadata": {},
   "source": [
    "#### 8. Image objects do not have drawing methods. What kind of object does? How do you get this kind of object?\n",
    "\n",
    "* The objects returned by ImageDraw have shape-drawing methods such as point(), line(), or rectangle().They are returned by passing the Image object to the ImageDraw.Draw() function."
   ]
  }
 ],
 "metadata": {
  "kernelspec": {
   "display_name": "Python 3 (ipykernel)",
   "language": "python",
   "name": "python3"
  },
  "language_info": {
   "codemirror_mode": {
    "name": "ipython",
    "version": 3
   },
   "file_extension": ".py",
   "mimetype": "text/x-python",
   "name": "python",
   "nbconvert_exporter": "python",
   "pygments_lexer": "ipython3",
   "version": "3.9.13"
  }
 },
 "nbformat": 4,
 "nbformat_minor": 5
}
