{
 "cells": [
  {
   "cell_type": "markdown",
   "id": "529ccaea",
   "metadata": {},
   "source": [
    "#### 1. Write a Python Program to Display Fibonacci Sequence Using Recursion?"
   ]
  },
  {
   "cell_type": "code",
   "execution_count": 1,
   "id": "73b93dbe",
   "metadata": {},
   "outputs": [
    {
     "name": "stdout",
     "output_type": "stream",
     "text": [
      "0\n",
      "1\n",
      "1\n",
      "2\n",
      "3\n",
      "5\n",
      "8\n",
      "13\n",
      "21\n",
      "34\n"
     ]
    }
   ],
   "source": [
    "def fibonacci(n):\n",
    "    if n <= 1:\n",
    "        return n\n",
    "    else:\n",
    "        return(fibonacci(n-1) + fibonacci(n-2))\n",
    "\n",
    "for i in range(0,10):\n",
    "    print(fibonacci(i))"
   ]
  },
  {
   "cell_type": "markdown",
   "id": "61eba7aa",
   "metadata": {},
   "source": [
    "#### 2. Write a Python Program to Find Factorial of Number Using Recursion?"
   ]
  },
  {
   "cell_type": "code",
   "execution_count": 2,
   "id": "e8ba1760",
   "metadata": {},
   "outputs": [
    {
     "data": {
      "text/plain": [
       "3628800"
      ]
     },
     "execution_count": 2,
     "metadata": {},
     "output_type": "execute_result"
    }
   ],
   "source": [
    "def factorial(n):\n",
    "    if n==1:\n",
    "        return 1\n",
    "    else:\n",
    "        return n*factorial(n-1)\n",
    "    \n",
    "factorial(10)"
   ]
  },
  {
   "cell_type": "markdown",
   "id": "96fa806e",
   "metadata": {},
   "source": [
    "#### 3. Write a Python Program to calculate your Body Mass Index?"
   ]
  },
  {
   "cell_type": "code",
   "execution_count": 8,
   "id": "4457d837",
   "metadata": {},
   "outputs": [
    {
     "name": "stdout",
     "output_type": "stream",
     "text": [
      "Please enter you weight in KG: 82\n",
      "Please enter you height in meters: 1.72\n",
      "Your BMR is: 27.717685235262305\n"
     ]
    }
   ],
   "source": [
    "def BMI():\n",
    "    weight=int(input(\"Please enter you weight in KG: \"))\n",
    "    height=float(input(\"Please enter you height in meters: \"))\n",
    "    BMI = weight/(height**2)\n",
    "    print(f'Your BMR is: {BMI}')\n",
    "\n",
    "BMI()"
   ]
  },
  {
   "cell_type": "markdown",
   "id": "06154305",
   "metadata": {},
   "source": [
    "#### 4. Write a Python Program to calculate the natural logarithm of any number?"
   ]
  },
  {
   "cell_type": "code",
   "execution_count": 9,
   "id": "698e172d",
   "metadata": {},
   "outputs": [
    {
     "data": {
      "text/plain": [
       "2.302585092994046"
      ]
     },
     "execution_count": 9,
     "metadata": {},
     "output_type": "execute_result"
    }
   ],
   "source": [
    "import math\n",
    "\n",
    "def natural_log(n):\n",
    "    return math.log(n)\n",
    "\n",
    "natural_log(10)"
   ]
  },
  {
   "cell_type": "markdown",
   "id": "c4e0e023",
   "metadata": {},
   "source": [
    "#### 5. Write a Python Program for cube sum of first n natural numbers?"
   ]
  },
  {
   "cell_type": "code",
   "execution_count": 12,
   "id": "ae589d9e",
   "metadata": {},
   "outputs": [],
   "source": [
    "def cube_sum(n):\n",
    "    sum=0\n",
    "    for i in range(n+1):\n",
    "        sum += i**3\n",
    "    print(sum)"
   ]
  },
  {
   "cell_type": "code",
   "execution_count": 13,
   "id": "59342bb8",
   "metadata": {},
   "outputs": [
    {
     "name": "stdout",
     "output_type": "stream",
     "text": [
      "100\n"
     ]
    }
   ],
   "source": [
    "cube_sum(4)"
   ]
  }
 ],
 "metadata": {
  "kernelspec": {
   "display_name": "Python 3 (ipykernel)",
   "language": "python",
   "name": "python3"
  },
  "language_info": {
   "codemirror_mode": {
    "name": "ipython",
    "version": 3
   },
   "file_extension": ".py",
   "mimetype": "text/x-python",
   "name": "python",
   "nbconvert_exporter": "python",
   "pygments_lexer": "ipython3",
   "version": "3.9.13"
  }
 },
 "nbformat": 4,
 "nbformat_minor": 5
}
