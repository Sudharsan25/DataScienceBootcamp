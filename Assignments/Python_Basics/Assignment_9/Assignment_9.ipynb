{
 "cells": [
  {
   "cell_type": "markdown",
   "id": "5f94bd26",
   "metadata": {},
   "source": [
    "# Python Assignment 9"
   ]
  },
  {
   "cell_type": "markdown",
   "id": "bb7f0866",
   "metadata": {},
   "source": [
    "### 1. To what does a relative path refer?\n",
    "* Relative path points to the location you want to access, with respect to the script where the path is specified, i.e., relative to the document."
   ]
  },
  {
   "cell_type": "markdown",
   "id": "1016b285",
   "metadata": {},
   "source": [
    "### 2. What does an absolute path start with your operating system?\n",
    "* In windows OS, the absolute starts with the drive name. Example, \"C:/Users/\""
   ]
  },
  {
   "cell_type": "markdown",
   "id": "fa3f8f57",
   "metadata": {},
   "source": [
    "### 3. What do the functions os.getcwd() and os.chdir() do?\n",
    "* os.getcwd() function is used to get the current working directory of the script.\n",
    "* os.chdir() - it is used change the location of the working directory to the specified path given as argument to the function"
   ]
  },
  {
   "cell_type": "markdown",
   "id": "12cb6cdf",
   "metadata": {},
   "source": [
    "### 4. What are the . and .. folders?\n",
    "* Using \".\" will help you access a file that is in the same level of the python script where code is being written. \n",
    "* \"..\" helps you go up a level in the folder hireachy and access files and folders in the level upper than the current directory."
   ]
  },
  {
   "cell_type": "markdown",
   "id": "261a347d",
   "metadata": {},
   "source": [
    "### 5. In C:\\bacon\\eggs\\spam.txt, which part is the dir name, and which part is the base name?\n",
    "* Here, spam.txt is the base name and \"C:\\bacon\\eggs\\\" is the dir name"
   ]
  },
  {
   "cell_type": "markdown",
   "id": "71adb33b",
   "metadata": {},
   "source": [
    "### 6. What are the three “mode” arguments that can be passed to the open() function?\n",
    "* The three modes in which files can be opened using open() function are, read mode, write mode, and binary mode"
   ]
  },
  {
   "cell_type": "markdown",
   "id": "dcf57dd7",
   "metadata": {},
   "source": [
    "### 7. What happens if an existing file is opened in write mode?\n",
    "* If an existing file is opened using \"w\" or write mode, then the previously exisiting content in the file is deleted before writing."
   ]
  },
  {
   "cell_type": "markdown",
   "id": "c7eba8c4",
   "metadata": {},
   "source": [
    "### 8. How do you tell the difference between read() and readlines()?\n",
    "* read() function returns the contents of the whole file as a string\n",
    "* readlines() funcion gives you a list of strings, where each item of the list is a single line in the file."
   ]
  },
  {
   "cell_type": "markdown",
   "id": "00790893",
   "metadata": {},
   "source": [
    "### 9. What data structure does a shelf value resemble?\n",
    "* shelf value is used to represent directory values. This is a spceific data strcuture used only to store directory names"
   ]
  }
 ],
 "metadata": {
  "kernelspec": {
   "display_name": "Python 3 (ipykernel)",
   "language": "python",
   "name": "python3"
  },
  "language_info": {
   "codemirror_mode": {
    "name": "ipython",
    "version": 3
   },
   "file_extension": ".py",
   "mimetype": "text/x-python",
   "name": "python",
   "nbconvert_exporter": "python",
   "pygments_lexer": "ipython3",
   "version": "3.9.13"
  }
 },
 "nbformat": 4,
 "nbformat_minor": 5
}
