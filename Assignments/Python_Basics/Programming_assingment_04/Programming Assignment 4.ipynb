{
 "cells": [
  {
   "cell_type": "markdown",
   "id": "2c78cbed",
   "metadata": {},
   "source": [
    "#### 1. Write a Python Program to Find the Factorial of a Number?"
   ]
  },
  {
   "cell_type": "code",
   "execution_count": 1,
   "id": "978d7460",
   "metadata": {},
   "outputs": [
    {
     "data": {
      "text/plain": [
       "720"
      ]
     },
     "execution_count": 1,
     "metadata": {},
     "output_type": "execute_result"
    }
   ],
   "source": [
    "def factorial(n):\n",
    "    if n==1:\n",
    "        return 1\n",
    "    else:\n",
    "        return n*factorial(n-1)\n",
    "    \n",
    "factorial(6)"
   ]
  },
  {
   "cell_type": "markdown",
   "id": "1f490695",
   "metadata": {},
   "source": [
    "#### 2. Write a Python Program to Display the multiplication Table?"
   ]
  },
  {
   "cell_type": "code",
   "execution_count": 11,
   "id": "509e00cf",
   "metadata": {},
   "outputs": [],
   "source": [
    "def multiplication_table():\n",
    "    num = int(input(\"Display the multiplication table of: \"))\n",
    "    end = int(input(\"How many multiples would you want to be displayed: \"))\n",
    "    for i in range(1,end+1):\n",
    "        print(f'{num} * {i} = {num*i}')"
   ]
  },
  {
   "cell_type": "code",
   "execution_count": 12,
   "id": "0c418357",
   "metadata": {},
   "outputs": [
    {
     "name": "stdout",
     "output_type": "stream",
     "text": [
      "Display the multiplication table of: 12\n",
      "How many multiples would you want to be displayed: 10\n",
      "12 * 1 = 12\n",
      "12 * 2 = 24\n",
      "12 * 3 = 36\n",
      "12 * 4 = 48\n",
      "12 * 5 = 60\n",
      "12 * 6 = 72\n",
      "12 * 7 = 84\n",
      "12 * 8 = 96\n",
      "12 * 9 = 108\n",
      "12 * 10 = 120\n"
     ]
    }
   ],
   "source": [
    "multiplication_table()"
   ]
  },
  {
   "cell_type": "markdown",
   "id": "caf2abc6",
   "metadata": {},
   "source": [
    "#### 3. Write a Python Program to Print the Fibonacci sequence?"
   ]
  },
  {
   "cell_type": "code",
   "execution_count": 18,
   "id": "4926f71f",
   "metadata": {},
   "outputs": [],
   "source": [
    "def fiboniacci(n):\n",
    "    n1,n2=0,1\n",
    "    for i in range(n+1):\n",
    "        print(n1)\n",
    "        next_n = n1 + n2\n",
    "        n1=n2\n",
    "        n2=next_n"
   ]
  },
  {
   "cell_type": "code",
   "execution_count": 17,
   "id": "9d286093",
   "metadata": {},
   "outputs": [
    {
     "name": "stdout",
     "output_type": "stream",
     "text": [
      "0\n",
      "1\n",
      "1\n",
      "2\n",
      "3\n",
      "5\n",
      "8\n",
      "13\n",
      "21\n",
      "34\n",
      "55\n"
     ]
    }
   ],
   "source": [
    "fiboniacci(10)"
   ]
  },
  {
   "cell_type": "markdown",
   "id": "97f35f40",
   "metadata": {},
   "source": [
    "#### 4. Write a Python Program to Check Armstrong Number?"
   ]
  },
  {
   "cell_type": "code",
   "execution_count": 50,
   "id": "152451d5",
   "metadata": {},
   "outputs": [],
   "source": [
    "def check_amstrong(n):\n",
    "    sum = 0\n",
    "    temp = n\n",
    "    while temp>0:\n",
    "        digit = temp%10 ### Fast way to get individual digits in python (Mod 10 and floor divide by 10)\n",
    "        sum += digit**3\n",
    "        temp = temp//10\n",
    "    if n==sum:\n",
    "        return n\n",
    "    else:\n",
    "        return None"
   ]
  },
  {
   "cell_type": "code",
   "execution_count": 51,
   "id": "2c32eb84",
   "metadata": {},
   "outputs": [
    {
     "name": "stdout",
     "output_type": "stream",
     "text": [
      "It is an amstrong number\n"
     ]
    }
   ],
   "source": [
    "if check_amstrong(153):\n",
    "    print(\"It is an amstrong number\")\n",
    "else:\n",
    "    print(\"It is not an amstrong number\")"
   ]
  },
  {
   "cell_type": "markdown",
   "id": "a7bac8d3",
   "metadata": {},
   "source": [
    "#### 5. Write a Python Program to Find Armstrong Number in an Interval?"
   ]
  },
  {
   "cell_type": "code",
   "execution_count": 52,
   "id": "54b5c1d6",
   "metadata": {},
   "outputs": [],
   "source": [
    "def amstrong_interval(upper,lower):\n",
    "    for i in range(upper,lower):\n",
    "        if check_amstrong(i)!=None:\n",
    "            print(f'{i} is an amstrong number')"
   ]
  },
  {
   "cell_type": "code",
   "execution_count": 53,
   "id": "afb14da4",
   "metadata": {},
   "outputs": [
    {
     "name": "stdout",
     "output_type": "stream",
     "text": [
      "1 is an amstrong number\n",
      "153 is an amstrong number\n",
      "370 is an amstrong number\n",
      "371 is an amstrong number\n",
      "407 is an amstrong number\n"
     ]
    }
   ],
   "source": [
    "amstrong_interval(1,1000)"
   ]
  },
  {
   "cell_type": "markdown",
   "id": "234df847",
   "metadata": {},
   "source": [
    "#### 6. Write a Python Program to Find the Sum of Natural Numbers?"
   ]
  },
  {
   "cell_type": "code",
   "execution_count": 54,
   "id": "e487b043",
   "metadata": {},
   "outputs": [],
   "source": [
    "def sum_of_N(range_for_sum):\n",
    "    sum=0\n",
    "    for i in range(range_for_sum):\n",
    "        sum += i\n",
    "        \n",
    "    print(sum)"
   ]
  },
  {
   "cell_type": "code",
   "execution_count": 55,
   "id": "4289d3fe",
   "metadata": {},
   "outputs": [
    {
     "name": "stdout",
     "output_type": "stream",
     "text": [
      "190\n"
     ]
    }
   ],
   "source": [
    "sum_of_N(20)"
   ]
  }
 ],
 "metadata": {
  "kernelspec": {
   "display_name": "Python 3 (ipykernel)",
   "language": "python",
   "name": "python3"
  },
  "language_info": {
   "codemirror_mode": {
    "name": "ipython",
    "version": 3
   },
   "file_extension": ".py",
   "mimetype": "text/x-python",
   "name": "python",
   "nbconvert_exporter": "python",
   "pygments_lexer": "ipython3",
   "version": "3.9.13"
  }
 },
 "nbformat": 4,
 "nbformat_minor": 5
}
