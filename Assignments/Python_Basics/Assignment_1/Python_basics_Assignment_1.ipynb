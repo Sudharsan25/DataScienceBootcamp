{
 "cells": [
  {
   "cell_type": "markdown",
   "id": "9277ac50",
   "metadata": {},
   "source": [
    "### 1. In the below elements which of them are values or an expression? eg:- values can be integer or string and expressions will be mathematical operators."
   ]
  },
  {
   "cell_type": "markdown",
   "id": "67d498bb",
   "metadata": {},
   "source": [
    "##### * -> Expression\n",
    "##### 'hello' -> Value\n",
    "##### -87.8 -> Value\n",
    "##### - -> Expression\n",
    "##### / -> Expression\n",
    "##### + -> Expression\n",
    "##### 6 -> Value"
   ]
  },
  {
   "cell_type": "markdown",
   "id": "3e0255cc",
   "metadata": {},
   "source": [
    "### 2. What is the difference between string and variable?"
   ]
  },
  {
   "cell_type": "markdown",
   "id": "e7ace8ee",
   "metadata": {},
   "source": [
    "##### => A string is a datatype which has fixed sequence of characters. \n",
    "##### => Whereas, a variable is a value that is assigned dynamically. A variable can be a string, integer, float, boolean, etc."
   ]
  },
  {
   "cell_type": "markdown",
   "id": "f267ac41",
   "metadata": {},
   "source": [
    "### 3. Describe three different datatypes"
   ]
  },
  {
   "cell_type": "markdown",
   "id": "0c77ef26",
   "metadata": {},
   "source": [
    "##### i. String -  String datatype can be used to represent characters, words or even sentences. It is defined within \"\".\n",
    "\n",
    "##### ii. Integer -  It is a numeric datatype which is used to represent whole numbers. For example, num = 10\n",
    "\n",
    "##### iii. Boolean -  This dataype has only two values: True or False. It can be used to store values of expressions, and also can be used in conditional programming"
   ]
  },
  {
   "cell_type": "markdown",
   "id": "e07088c1",
   "metadata": {},
   "source": [
    "### 4. What is an expression made up of? What do all expressions do?"
   ]
  },
  {
   "cell_type": "markdown",
   "id": "cc87dea2",
   "metadata": {},
   "source": [
    "##### =>Expressions are made of operators and operands. The operators are the operands contain the value, and the operators contain the function that is to be performed upon those values.  Expressions are generally used to return an end value for a set of operations. They can also be used to check conditions using logical operators. "
   ]
  },
  {
   "cell_type": "code",
   "execution_count": 2,
   "id": "7cd2633b",
   "metadata": {
    "scrolled": true
   },
   "outputs": [
    {
     "data": {
      "text/plain": [
       "74"
      ]
     },
     "execution_count": 2,
     "metadata": {},
     "output_type": "execute_result"
    }
   ],
   "source": [
    "### Expression example\n",
    "8*9+12-10"
   ]
  },
  {
   "cell_type": "code",
   "execution_count": 3,
   "id": "6fd41b86",
   "metadata": {},
   "outputs": [
    {
     "data": {
      "text/plain": [
       "True"
      ]
     },
     "execution_count": 3,
     "metadata": {},
     "output_type": "execute_result"
    }
   ],
   "source": [
    "### Expression example\n",
    "2 < 10"
   ]
  },
  {
   "cell_type": "markdown",
   "id": "40872726",
   "metadata": {},
   "source": [
    "### 5. This assignment statements, like spam = 10. What is the difference between an expression and a statement?"
   ]
  },
  {
   "cell_type": "markdown",
   "id": "3bd36934",
   "metadata": {},
   "source": [
    "##### => Assignment statements are defined to create a new variable or assign any value to a variable. It can be integer, string, float or boolean.\n",
    "##### For example: name = \"Sudharsan\"\n",
    "\n",
    "##### => While expressions are used to perform multiple operations and give the result as the output.\n",
    "##### For example: 10*(12+13)"
   ]
  },
  {
   "cell_type": "markdown",
   "id": "69e9f11d",
   "metadata": {},
   "source": [
    "### 6. After running the following code, what does the variable bacon contain?\n",
    "bacon = 22\n",
    "\n",
    "bacon + 1"
   ]
  },
  {
   "cell_type": "markdown",
   "id": "30d85b4f",
   "metadata": {},
   "source": [
    "#### Value of bacon variable will be: 23"
   ]
  },
  {
   "cell_type": "markdown",
   "id": "06ae7e84",
   "metadata": {},
   "source": [
    "### 7. What should the values of the following two terms be?\n",
    "\"spam\" + \"spamspam\"\n",
    "\n",
    "\"spam\"*3"
   ]
  },
  {
   "cell_type": "markdown",
   "id": "fc4b8a7f",
   "metadata": {},
   "source": [
    "##### Both variables will contain the value: spamspamspam"
   ]
  },
  {
   "cell_type": "markdown",
   "id": "9d97030b",
   "metadata": {},
   "source": [
    "### 8. Why is eggs a valid variable name while 100 is invalid?"
   ]
  },
  {
   "cell_type": "markdown",
   "id": "66b38fe3",
   "metadata": {},
   "source": [
    "##### Variable names should start with a string. It can contain integers, but variables should not start with an integer. This is the reason why, \"eggs\" is a valid variable name. while 100 is not."
   ]
  },
  {
   "cell_type": "markdown",
   "id": "2f51f852",
   "metadata": {},
   "source": [
    "### 9. What three functions can be used to get the integer, floating-point number, or string version of a value?"
   ]
  },
  {
   "cell_type": "code",
   "execution_count": 16,
   "id": "110053c4",
   "metadata": {},
   "outputs": [
    {
     "data": {
      "text/plain": [
       "10"
      ]
     },
     "execution_count": 16,
     "metadata": {},
     "output_type": "execute_result"
    }
   ],
   "source": [
    "num = 10\n",
    "### For getting the integer value\n",
    "int(num)"
   ]
  },
  {
   "cell_type": "code",
   "execution_count": 18,
   "id": "dea8c59a",
   "metadata": {},
   "outputs": [
    {
     "data": {
      "text/plain": [
       "10.0"
      ]
     },
     "execution_count": 18,
     "metadata": {},
     "output_type": "execute_result"
    }
   ],
   "source": [
    "### For getting the floating-point number\n",
    "float(num)"
   ]
  },
  {
   "cell_type": "code",
   "execution_count": 19,
   "id": "8d85174f",
   "metadata": {},
   "outputs": [
    {
     "data": {
      "text/plain": [
       "'10'"
      ]
     },
     "execution_count": 19,
     "metadata": {},
     "output_type": "execute_result"
    }
   ],
   "source": [
    "### For getting the string\n",
    "str(num)"
   ]
  },
  {
   "cell_type": "markdown",
   "id": "200f26a8",
   "metadata": {},
   "source": [
    "### 10. Why does this expression cause an error? How can you fix it?\n",
    "'I have eaten' + 99 + 'burritos'"
   ]
  },
  {
   "cell_type": "markdown",
   "id": "81fe2c25",
   "metadata": {},
   "source": [
    "##### This expression causes an error because, concatenation can only be done with similar datatypes. But in the above expression we are trying to concatenate an integer with 2 string. So it causes an error. We can fix this in two ways."
   ]
  },
  {
   "cell_type": "code",
   "execution_count": 23,
   "id": "f4d2c232",
   "metadata": {},
   "outputs": [
    {
     "data": {
      "text/plain": [
       "'I have eaten 99 burritos'"
      ]
     },
     "execution_count": 23,
     "metadata": {},
     "output_type": "execute_result"
    }
   ],
   "source": [
    "### 1. We can change the integer to string\n",
    "\"I have eaten \" + \"99\" + \" burritos\""
   ]
  },
  {
   "cell_type": "code",
   "execution_count": 25,
   "id": "173c8951",
   "metadata": {},
   "outputs": [
    {
     "data": {
      "text/plain": [
       "'I have eaten 99 burritos'"
      ]
     },
     "execution_count": 25,
     "metadata": {},
     "output_type": "execute_result"
    }
   ],
   "source": [
    "### 2. We can use string formatting\n",
    "n = 99\n",
    "f\"I have eaten {n} burritos\""
   ]
  }
 ],
 "metadata": {
  "kernelspec": {
   "display_name": "Python 3 (ipykernel)",
   "language": "python",
   "name": "python3"
  },
  "language_info": {
   "codemirror_mode": {
    "name": "ipython",
    "version": 3
   },
   "file_extension": ".py",
   "mimetype": "text/x-python",
   "name": "python",
   "nbconvert_exporter": "python",
   "pygments_lexer": "ipython3",
   "version": "3.9.13"
  }
 },
 "nbformat": 4,
 "nbformat_minor": 5
}
