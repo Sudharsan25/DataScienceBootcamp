{
 "cells": [
  {
   "cell_type": "markdown",
   "id": "196b5b62",
   "metadata": {},
   "source": [
    "#### 1. Write a Python program to check if the given number is a Disarium Number?"
   ]
  },
  {
   "cell_type": "code",
   "execution_count": 19,
   "id": "4d0e6d11",
   "metadata": {},
   "outputs": [],
   "source": [
    "def disarium(n):\n",
    "    digits=[]\n",
    "    temp=n\n",
    "    while temp>0:\n",
    "        digit = temp%10\n",
    "        digits.append(digit)\n",
    "        temp=temp//10\n",
    "    new_digits = digits[::-1]\n",
    "    sum=0 \n",
    "    for pos,i in enumerate(new_digits):\n",
    "        sum += i**(pos+1) ##As list position starts from 0\n",
    "    if sum==n:\n",
    "        return 1\n",
    "    else:\n",
    "        return None\n",
    "        "
   ]
  },
  {
   "cell_type": "code",
   "execution_count": 20,
   "id": "b34fe326",
   "metadata": {},
   "outputs": [
    {
     "name": "stdout",
     "output_type": "stream",
     "text": [
      "89 is a disarium number\n"
     ]
    }
   ],
   "source": [
    "if disarium(89)!= None:\n",
    "    print(\"89 is a disarium number\")"
   ]
  },
  {
   "cell_type": "markdown",
   "id": "7ce0dbf4",
   "metadata": {},
   "source": [
    "#### 2. Write a Python program to print all disarium numbers between 1 to 100?"
   ]
  },
  {
   "cell_type": "code",
   "execution_count": 21,
   "id": "bbfde19e",
   "metadata": {},
   "outputs": [],
   "source": [
    "def disarium_interval():\n",
    "    for i in range(1,100):\n",
    "        if disarium(i)!=None:\n",
    "            print(f'{i} is an Disarium Number')"
   ]
  },
  {
   "cell_type": "code",
   "execution_count": 22,
   "id": "4e75cfb6",
   "metadata": {},
   "outputs": [
    {
     "name": "stdout",
     "output_type": "stream",
     "text": [
      "1 is an Disarium Number\n",
      "2 is an Disarium Number\n",
      "3 is an Disarium Number\n",
      "4 is an Disarium Number\n",
      "5 is an Disarium Number\n",
      "6 is an Disarium Number\n",
      "7 is an Disarium Number\n",
      "8 is an Disarium Number\n",
      "9 is an Disarium Number\n",
      "89 is an Disarium Number\n"
     ]
    }
   ],
   "source": [
    "disarium_interval()"
   ]
  },
  {
   "cell_type": "markdown",
   "id": "0b9297cf",
   "metadata": {},
   "source": [
    "#### 3. Write a Python program to check if the given number is Happy Number?"
   ]
  },
  {
   "cell_type": "code",
   "execution_count": 27,
   "id": "417b99cd",
   "metadata": {},
   "outputs": [],
   "source": [
    "def happy_number(n):\n",
    "    temp=n\n",
    "    sum=0\n",
    "    while temp>0:\n",
    "        digit = temp%10\n",
    "        sum+=digit**2\n",
    "        temp=temp//10\n",
    "       \n",
    "    if sum==1:\n",
    "        return True\n",
    "    elif sum==4:\n",
    "        return False\n",
    "    else:\n",
    "        return happy_number(sum)"
   ]
  },
  {
   "cell_type": "code",
   "execution_count": 30,
   "id": "7e260ae1",
   "metadata": {},
   "outputs": [
    {
     "data": {
      "text/plain": [
       "True"
      ]
     },
     "execution_count": 30,
     "metadata": {},
     "output_type": "execute_result"
    }
   ],
   "source": [
    "happy_number(28)"
   ]
  },
  {
   "cell_type": "markdown",
   "id": "e473fd95",
   "metadata": {},
   "source": [
    "#### 4. Write a Python program to print all happy numbers between 1 and 100?"
   ]
  },
  {
   "cell_type": "code",
   "execution_count": 31,
   "id": "750b3d5f",
   "metadata": {},
   "outputs": [],
   "source": [
    "def happy_interval():\n",
    "    for i in range(1,100):\n",
    "        if (happy_number(i)):\n",
    "            print(f'{i} is a Happy number')"
   ]
  },
  {
   "cell_type": "code",
   "execution_count": 32,
   "id": "ba2a718e",
   "metadata": {},
   "outputs": [
    {
     "name": "stdout",
     "output_type": "stream",
     "text": [
      "1 is a Happy number\n",
      "7 is a Happy number\n",
      "10 is a Happy number\n",
      "13 is a Happy number\n",
      "19 is a Happy number\n",
      "23 is a Happy number\n",
      "28 is a Happy number\n",
      "31 is a Happy number\n",
      "32 is a Happy number\n",
      "44 is a Happy number\n",
      "49 is a Happy number\n",
      "68 is a Happy number\n",
      "70 is a Happy number\n",
      "79 is a Happy number\n",
      "82 is a Happy number\n",
      "86 is a Happy number\n",
      "91 is a Happy number\n",
      "94 is a Happy number\n",
      "97 is a Happy number\n"
     ]
    }
   ],
   "source": [
    "happy_interval()"
   ]
  },
  {
   "cell_type": "markdown",
   "id": "ee4f41ee",
   "metadata": {},
   "source": [
    "#### 5. Write a Python program to determine whether the given number is a Harshad Number?"
   ]
  },
  {
   "cell_type": "code",
   "execution_count": 1,
   "id": "e087920d",
   "metadata": {},
   "outputs": [],
   "source": [
    "def harshad_no(n):\n",
    "    temp=n\n",
    "    digits=[]\n",
    "    while temp>0:\n",
    "        digit=temp%10\n",
    "        digits.append(digit)\n",
    "        temp=temp//10\n",
    "    sum_of_digits=sum(digits)\n",
    "    if n%sum_of_digits ==0:\n",
    "        return True\n",
    "    else:\n",
    "        return False"
   ]
  },
  {
   "cell_type": "code",
   "execution_count": 2,
   "id": "626c377e",
   "metadata": {},
   "outputs": [
    {
     "data": {
      "text/plain": [
       "True"
      ]
     },
     "execution_count": 2,
     "metadata": {},
     "output_type": "execute_result"
    }
   ],
   "source": [
    "harshad_no(18)"
   ]
  },
  {
   "cell_type": "markdown",
   "id": "1807c322",
   "metadata": {},
   "source": [
    "#### 6. Write a Python program to print all pronic numbers between 1 and 100?"
   ]
  },
  {
   "cell_type": "code",
   "execution_count": 48,
   "id": "c45088c8",
   "metadata": {},
   "outputs": [],
   "source": [
    "def pronic(num):\n",
    "    flag=False\n",
    "    for i in range(1,num+1):\n",
    "        if (i*(i+1)) == num:\n",
    "            flag=True\n",
    "            break\n",
    "    return flag"
   ]
  },
  {
   "cell_type": "code",
   "execution_count": 50,
   "id": "f00d75bf",
   "metadata": {},
   "outputs": [
    {
     "name": "stdout",
     "output_type": "stream",
     "text": [
      "2 is a pronic number\n",
      "6 is a pronic number\n",
      "12 is a pronic number\n",
      "20 is a pronic number\n",
      "30 is a pronic number\n",
      "42 is a pronic number\n",
      "56 is a pronic number\n",
      "72 is a pronic number\n",
      "90 is a pronic number\n"
     ]
    }
   ],
   "source": [
    "for i in range(1,101):\n",
    "    if (pronic(i)):\n",
    "        print(f'{i} is a pronic number')"
   ]
  }
 ],
 "metadata": {
  "kernelspec": {
   "display_name": "Python 3 (ipykernel)",
   "language": "python",
   "name": "python3"
  },
  "language_info": {
   "codemirror_mode": {
    "name": "ipython",
    "version": 3
   },
   "file_extension": ".py",
   "mimetype": "text/x-python",
   "name": "python",
   "nbconvert_exporter": "python",
   "pygments_lexer": "ipython3",
   "version": "3.9.13"
  }
 },
 "nbformat": 4,
 "nbformat_minor": 5
}
