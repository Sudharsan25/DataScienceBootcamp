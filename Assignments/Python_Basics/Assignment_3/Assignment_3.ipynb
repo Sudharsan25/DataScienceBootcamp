{
 "cells": [
  {
   "cell_type": "markdown",
   "id": "cbb3187b",
   "metadata": {},
   "source": [
    "# Python basics assignment 3"
   ]
  },
  {
   "cell_type": "markdown",
   "id": "c2da4211",
   "metadata": {},
   "source": [
    "### 1. Why are functions advantageous to have in your programs?\n",
    "* Functions can improve reduce code reusalbility. If there is certain blocks of code which you intend to use again and again, you write these into a fucntion so that you don't have to write the same piece of code everytime. This way functions can be very advantageous."
   ]
  },
  {
   "cell_type": "markdown",
   "id": "c5cbb317",
   "metadata": {},
   "source": [
    "### 2. When does the code in a function run: when it's specified or when it's called?\n",
    "* A function runs when it is called, not when it is specified. Functions can be called by using their name next to a paranthesis, for example, test()."
   ]
  },
  {
   "cell_type": "markdown",
   "id": "bf681df8",
   "metadata": {},
   "source": [
    "### 3. What statement creates a function?\n",
    "* The \"def\" keyword is used to create a function.\n",
    "* syntax:\n",
    "def function_name(arguments):\n",
    "    code\n",
    "    "
   ]
  },
  {
   "cell_type": "markdown",
   "id": "de7ce8ec",
   "metadata": {},
   "source": [
    "### 4. What is the difference between a function and a function call?\n",
    "* A function is a block of code that performs a specific function. But functions are not executed when they are defined. \n",
    "* A function call is used to execute a function. Function calls return the flow to the function, where the logic in the function is executed, and the function again passes the flow to the code after the function call."
   ]
  },
  {
   "cell_type": "markdown",
   "id": "a03d4436",
   "metadata": {},
   "source": [
    "### 5. How many global scopes are there in a Python program? How many local scopes?\n",
    "* Global scope in every python program is one. \n",
    "* Local scopes can be of any number. You can create n number of functions and each function will have it's own local scope."
   ]
  },
  {
   "cell_type": "markdown",
   "id": "9ff5c414",
   "metadata": {},
   "source": [
    "### 6. What happens to variables in a local scope when the function call returns?\n",
    "* These variables are deleted once the control flow is returned to the function caller. Meaning, after the function returns the flow, variables inside the function will lose their value."
   ]
  },
  {
   "cell_type": "markdown",
   "id": "fcc28935",
   "metadata": {},
   "source": [
    "### 7. What is the concept of a return value? Is it possible to have a return value in an expression?\n",
    "\n",
    "* Return values are used by functions to send back some payload, usually results from the function, back to the caller, so that the caller now has the some kind of value returned from the function.\n",
    "* It is not possible to have a return value in an expression, because return values do not exist outside of a function."
   ]
  },
  {
   "cell_type": "markdown",
   "id": "668a1571",
   "metadata": {},
   "source": [
    "### 8. If a function does not have a return statement, what is the return value of a call to that function?\n",
    "* When function does not have a return statement, it contains Nonetype as the default return value to the call to that function."
   ]
  },
  {
   "cell_type": "markdown",
   "id": "3a68c262",
   "metadata": {},
   "source": [
    "### 9. How do you make a function variable refer to the global variable?\n",
    "* You can create global variables using the global variable. These variables can be directly referenced by simply using their name inside any functions. "
   ]
  },
  {
   "cell_type": "markdown",
   "id": "148f06c1",
   "metadata": {},
   "source": [
    "### 10. What is the data type of None?\n",
    "* NoneType is the data type of None"
   ]
  },
  {
   "cell_type": "markdown",
   "id": "eb308e90",
   "metadata": {},
   "source": [
    "### 11. What does the sentence import areallyourpetsnamederic do?\n",
    "* THis is a import statement. This statement will import the module name \"areallyyourpetsnamedric\" into the code. Now all the methods inside this module can be referenced in the code."
   ]
  },
  {
   "cell_type": "markdown",
   "id": "c4596539",
   "metadata": {},
   "source": [
    "### 12. If you had a bacon() feature in a spam module, what would you call it after importing spam?\n",
    "* You can directly call it as bacon() because you have already imported the spam module into your code."
   ]
  },
  {
   "cell_type": "markdown",
   "id": "e594ad01",
   "metadata": {},
   "source": [
    "### 13. What can you do to save a programme from crashing if it encounters an error?\n",
    "* To solve this we can use exception handling in python. Using the try and except block can savev the program from crashing if it encounters any error"
   ]
  },
  {
   "cell_type": "markdown",
   "id": "d357575b",
   "metadata": {},
   "source": [
    "### 14. What is the purpose of the try clause? What is the purpose of the except clause?\n",
    "* The Try clause is used to hold the code that you want the program to execute, i.e., try.\n",
    "* The except clause is used to contain the code that should be run if the code in the try block encounters any error."
   ]
  }
 ],
 "metadata": {
  "kernelspec": {
   "display_name": "Python 3 (ipykernel)",
   "language": "python",
   "name": "python3"
  },
  "language_info": {
   "codemirror_mode": {
    "name": "ipython",
    "version": 3
   },
   "file_extension": ".py",
   "mimetype": "text/x-python",
   "name": "python",
   "nbconvert_exporter": "python",
   "pygments_lexer": "ipython3",
   "version": "3.9.13"
  }
 },
 "nbformat": 4,
 "nbformat_minor": 5
}
