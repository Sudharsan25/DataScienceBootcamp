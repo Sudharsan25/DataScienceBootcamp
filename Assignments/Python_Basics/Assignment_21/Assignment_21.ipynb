{
 "cells": [
  {
   "cell_type": "markdown",
   "id": "f37be677",
   "metadata": {},
   "source": [
    "# Python assignment 21"
   ]
  },
  {
   "cell_type": "markdown",
   "id": "244ae938",
   "metadata": {},
   "source": [
    "### 1. Add the current date to the text file today.txt as a string."
   ]
  },
  {
   "cell_type": "code",
   "execution_count": 13,
   "id": "d489e659",
   "metadata": {},
   "outputs": [],
   "source": [
    "from datetime import datetime\n",
    "with open('today.txt',\"w\") as f:\n",
    "    today = datetime.now()\n",
    "    #date = str(today.day) + \"-\" + str(today.month) + \"-\" + str(today.year) \n",
    "    f.write(str(today))"
   ]
  },
  {
   "cell_type": "markdown",
   "id": "26db1538",
   "metadata": {},
   "source": [
    "### 2. Read the text file today.txt into the string today_string"
   ]
  },
  {
   "cell_type": "code",
   "execution_count": 14,
   "id": "59b055c6",
   "metadata": {},
   "outputs": [
    {
     "name": "stdout",
     "output_type": "stream",
     "text": [
      "2023-03-29 19:25:17.124085\n"
     ]
    }
   ],
   "source": [
    "with open('today.txt','r') as f:\n",
    "    today_string = f.read()\n",
    "    print(today_string)"
   ]
  },
  {
   "cell_type": "markdown",
   "id": "e54e1314",
   "metadata": {},
   "source": [
    "### 3. Parse the date from today_string."
   ]
  },
  {
   "cell_type": "code",
   "execution_count": 22,
   "id": "c2bf526e",
   "metadata": {},
   "outputs": [
    {
     "data": {
      "text/plain": [
       "'2023-03-29'"
      ]
     },
     "execution_count": 22,
     "metadata": {},
     "output_type": "execute_result"
    }
   ],
   "source": [
    "date = today_string[:10]\n",
    "date"
   ]
  },
  {
   "cell_type": "markdown",
   "id": "950eca98",
   "metadata": {},
   "source": [
    "### 4. List the files in your current directory"
   ]
  },
  {
   "cell_type": "code",
   "execution_count": 23,
   "id": "455c904a",
   "metadata": {},
   "outputs": [
    {
     "name": "stdout",
     "output_type": "stream",
     "text": [
      " Volume in drive E has no label.\n",
      " Volume Serial Number is EAA3-004A\n",
      "\n",
      " Directory of E:\\Work\\DataScience\\DataScience_Bootcamp\\DataScienceBootcamp\\Assignments\\Python_Basics\\Assignment_21\n",
      "\n",
      "03/29/2023  07:26 PM    <DIR>          .\n",
      "03/29/2023  07:16 PM    <DIR>          ..\n",
      "03/29/2023  07:16 PM    <DIR>          .ipynb_checkpoints\n",
      "03/29/2023  07:25 PM                26 today.txt\n",
      "03/29/2023  07:26 PM             2,201 Untitled.ipynb\n",
      "               2 File(s)          2,227 bytes\n",
      "               3 Dir(s)  425,889,783,808 bytes free\n"
     ]
    }
   ],
   "source": [
    "ls"
   ]
  },
  {
   "cell_type": "markdown",
   "id": "4b57597f",
   "metadata": {},
   "source": [
    "### 5. Create a list of all of the files in your parent directory (minimum five files should be available)."
   ]
  },
  {
   "cell_type": "code",
   "execution_count": 27,
   "id": "3239d60f",
   "metadata": {},
   "outputs": [
    {
     "data": {
      "text/plain": [
       "['.ipynb_checkpoints',\n",
       " 'today.txt',\n",
       " 'Untitled.ipynb',\n",
       " 'untitled.txt',\n",
       " 'untitled1.txt']"
      ]
     },
     "execution_count": 27,
     "metadata": {},
     "output_type": "execute_result"
    }
   ],
   "source": [
    "import os\n",
    "dir_list = os.listdir()\n",
    "dir_list"
   ]
  },
  {
   "cell_type": "markdown",
   "id": "b4c52c53",
   "metadata": {},
   "source": [
    "### 6. Use multiprocessing to create three separate processes. Make each one wait a random number of seconds between one and five, print the current time, and then exit."
   ]
  },
  {
   "cell_type": "code",
   "execution_count": 11,
   "id": "43acef19",
   "metadata": {},
   "outputs": [],
   "source": [
    "import multiprocessing\n",
    "import time\n",
    "\n",
    "def process_sleep():\n",
    "    time.sleep(1)"
   ]
  },
  {
   "cell_type": "code",
   "execution_count": 13,
   "id": "d843ffc0",
   "metadata": {},
   "outputs": [],
   "source": [
    "process1= multiprocessing.Process(target=process_sleep)\n",
    "process2 = multiprocessing.Process(target=process_sleep)\n",
    "process3 = multiprocessing.Process(target=process_sleep)\n",
    "\n",
    "start = time.time()\n",
    "process1.start()\n",
    "process2.start()\n",
    "process3.start()\n",
    "\n",
    "process1.join()\n",
    "process2.join()\n",
    "process3.join()\n",
    "\n",
    "end = time.time()"
   ]
  },
  {
   "cell_type": "markdown",
   "id": "c9cf1a18",
   "metadata": {},
   "source": [
    "### 7. Create a date object of your day of birth."
   ]
  },
  {
   "cell_type": "code",
   "execution_count": 15,
   "id": "413f6fe3",
   "metadata": {},
   "outputs": [],
   "source": [
    "import datetime\n",
    "\n",
    "birthdate = datetime.datetime(2001,12,25)"
   ]
  },
  {
   "cell_type": "code",
   "execution_count": 16,
   "id": "f77472ea",
   "metadata": {},
   "outputs": [
    {
     "data": {
      "text/plain": [
       "datetime.datetime(2001, 12, 25, 0, 0)"
      ]
     },
     "execution_count": 16,
     "metadata": {},
     "output_type": "execute_result"
    }
   ],
   "source": [
    "birthdate"
   ]
  },
  {
   "cell_type": "markdown",
   "id": "dbfe7039",
   "metadata": {},
   "source": [
    "### 8. What day of the week was your day of birth?"
   ]
  },
  {
   "cell_type": "code",
   "execution_count": 19,
   "id": "56ac6901",
   "metadata": {},
   "outputs": [
    {
     "data": {
      "text/plain": [
       "1"
      ]
     },
     "execution_count": 19,
     "metadata": {},
     "output_type": "execute_result"
    }
   ],
   "source": [
    "birthdate.weekday() ### 0=Monday to 6=Sunday "
   ]
  },
  {
   "cell_type": "markdown",
   "id": "503e9dfb",
   "metadata": {},
   "source": [
    "### 9. When will you be (or when were you) 10,000 days old?"
   ]
  },
  {
   "cell_type": "code",
   "execution_count": 20,
   "id": "b218f39b",
   "metadata": {},
   "outputs": [],
   "source": [
    "new_date = birthdate + datetime.timedelta(days=10000)"
   ]
  },
  {
   "cell_type": "code",
   "execution_count": 21,
   "id": "7cf5d08a",
   "metadata": {},
   "outputs": [
    {
     "data": {
      "text/plain": [
       "datetime.datetime(2029, 5, 12, 0, 0)"
      ]
     },
     "execution_count": 21,
     "metadata": {},
     "output_type": "execute_result"
    }
   ],
   "source": [
    "new_date"
   ]
  }
 ],
 "metadata": {
  "kernelspec": {
   "display_name": "Python 3 (ipykernel)",
   "language": "python",
   "name": "python3"
  },
  "language_info": {
   "codemirror_mode": {
    "name": "ipython",
    "version": 3
   },
   "file_extension": ".py",
   "mimetype": "text/x-python",
   "name": "python",
   "nbconvert_exporter": "python",
   "pygments_lexer": "ipython3",
   "version": "3.9.13"
  }
 },
 "nbformat": 4,
 "nbformat_minor": 5
}
