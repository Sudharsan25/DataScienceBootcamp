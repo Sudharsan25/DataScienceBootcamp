{
 "cells": [
  {
   "cell_type": "markdown",
   "id": "79ec919e",
   "metadata": {},
   "source": [
    "# Python Basics assignment 5"
   ]
  },
  {
   "cell_type": "markdown",
   "id": "9666b1ad",
   "metadata": {},
   "source": [
    "### 1. What does an empty dictionary's code look like?"
   ]
  },
  {
   "cell_type": "code",
   "execution_count": 1,
   "id": "229708c5",
   "metadata": {},
   "outputs": [
    {
     "data": {
      "text/plain": [
       "{}"
      ]
     },
     "execution_count": 1,
     "metadata": {},
     "output_type": "execute_result"
    }
   ],
   "source": [
    "{}"
   ]
  },
  {
   "cell_type": "markdown",
   "id": "f4a2fd07",
   "metadata": {},
   "source": [
    "### 2. What is the value of a dictionary value with the key 'foo' and the value 42?"
   ]
  },
  {
   "cell_type": "markdown",
   "id": "0a69c7b6",
   "metadata": {},
   "source": [
    "#### Answer: {'foo':42}"
   ]
  },
  {
   "cell_type": "markdown",
   "id": "f78a9388",
   "metadata": {},
   "source": [
    "### 3. What is the most significant distinction between a dictionary and a list?"
   ]
  },
  {
   "cell_type": "markdown",
   "id": "58090f48",
   "metadata": {},
   "source": [
    "#### Answer: \n",
    "* A list is a ordered collection of elements, i.e., it is a sequence. List items have ordered index, which can be used to access their values. But, a dictionary is not a sequence. Dictionaries use key mapping to store elements. Each value has it's own key in dictionary, and items are stored as {\"key\":value} pairs in a dictionary. Values can be accessed by their key names"
   ]
  },
  {
   "cell_type": "markdown",
   "id": "5b1f2ee1",
   "metadata": {},
   "source": [
    "### 4. What happens if you try to access spam[&#39;foo&#39;] if spam is {&#39;bar&#39;: 100}?"
   ]
  },
  {
   "cell_type": "markdown",
   "id": "1b341a9f",
   "metadata": {},
   "source": [
    "#### Answer:\n",
    "* When you access a key that is not present in a dictionary, it will throw a key error, saying that \"foo\" is not present in spam"
   ]
  },
  {
   "cell_type": "markdown",
   "id": "85a3fae2",
   "metadata": {},
   "source": [
    "### 5. If a dictionary is stored in spam, what is the difference between the expressions 'cat' in spam and 'cat' in spam.keys()?"
   ]
  },
  {
   "cell_type": "markdown",
   "id": "a5e4dc74",
   "metadata": {},
   "source": [
    "#### Answer:\n",
    "* let us assume the dictionary looks like: {'cat':'pet'}\n",
    "* Both expressions will return True, as cat will be present in items and keys"
   ]
  },
  {
   "cell_type": "markdown",
   "id": "ff1c4354",
   "metadata": {},
   "source": [
    "### 6. If a dictionary is stored in spam, what is the difference between the expressions 'cat' in spam and 'cat' in spam.values()?"
   ]
  },
  {
   "cell_type": "markdown",
   "id": "5af241ae",
   "metadata": {},
   "source": [
    "#### Answer:\n",
    "* let us assume the dictionary looks like: {'cat':'pet'}\n",
    "* 'cat' in spam will return True, because cat is present in dictionary\n",
    "* 'cat' in spam.values() will return False, as 'cat' is a key and it will not be in the list of values"
   ]
  },
  {
   "cell_type": "markdown",
   "id": "14960436",
   "metadata": {},
   "source": [
    "### 7. What is a shortcut for the following code?\n",
    "if 'color' not in spam:\n",
    "spam['color'] = 'black'"
   ]
  },
  {
   "cell_type": "markdown",
   "id": "a41b08da",
   "metadata": {},
   "source": [
    "#### Answer:\n",
    "* We can use spam.setdefault('color', 'black'). Setdefault will check the dictionary, and if color is not already present, then it will assing the value to the dictionary"
   ]
  },
  {
   "cell_type": "markdown",
   "id": "e4600518",
   "metadata": {},
   "source": [
    "### 8. How do you \"pretty print\"dictionary values using which module and function?"
   ]
  },
  {
   "cell_type": "markdown",
   "id": "38554a3e",
   "metadata": {},
   "source": [
    "#### Answer: \n",
    "* To pretty print a dictionary, we can use the pprint module in python. The pprint module contains a pprint function that takes a dictionary as an argument, to pretty print the dictionary."
   ]
  }
 ],
 "metadata": {
  "kernelspec": {
   "display_name": "Python 3 (ipykernel)",
   "language": "python",
   "name": "python3"
  },
  "language_info": {
   "codemirror_mode": {
    "name": "ipython",
    "version": 3
   },
   "file_extension": ".py",
   "mimetype": "text/x-python",
   "name": "python",
   "nbconvert_exporter": "python",
   "pygments_lexer": "ipython3",
   "version": "3.9.13"
  }
 },
 "nbformat": 4,
 "nbformat_minor": 5
}
