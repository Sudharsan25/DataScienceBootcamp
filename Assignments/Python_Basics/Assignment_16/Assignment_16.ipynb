{
 "cells": [
  {
   "cell_type": "markdown",
   "id": "2be64620",
   "metadata": {},
   "source": [
    "### Python Basics Assignment 16"
   ]
  },
  {
   "attachments": {},
   "cell_type": "markdown",
   "id": "8292f8f3",
   "metadata": {},
   "source": [
    "#### 1. Create a list called years_list, starting with the year of your birth, and each year thereafter until the year of your fifth birthday. For example, if you were born in 1980. the list would be years_list = [1980, 1981, 1982, 1983, 1984, 1985]"
   ]
  },
  {
   "cell_type": "code",
   "execution_count": 3,
   "id": "10bc1b50",
   "metadata": {},
   "outputs": [],
   "source": [
    "birth_year = 2001\n",
    "years_list = [birth_year+i for i in range(6)]"
   ]
  },
  {
   "cell_type": "code",
   "execution_count": 4,
   "id": "d3a1c7c3",
   "metadata": {
    "scrolled": true
   },
   "outputs": [
    {
     "data": {
      "text/plain": [
       "[2001, 2002, 2003, 2004, 2005, 2006]"
      ]
     },
     "execution_count": 4,
     "metadata": {},
     "output_type": "execute_result"
    }
   ],
   "source": [
    "years_list"
   ]
  },
  {
   "cell_type": "markdown",
   "id": "d2733a0a",
   "metadata": {},
   "source": [
    "####  2. In which year in years_list was your third birthday? Remember, you were 0 years of age for your first year."
   ]
  },
  {
   "cell_type": "code",
   "execution_count": 6,
   "id": "092f27c6",
   "metadata": {
    "scrolled": true
   },
   "outputs": [
    {
     "data": {
      "text/plain": [
       "2004"
      ]
     },
     "execution_count": 6,
     "metadata": {},
     "output_type": "execute_result"
    }
   ],
   "source": [
    "third_birthday = years_list[3]\n",
    "third_birthday"
   ]
  },
  {
   "cell_type": "markdown",
   "id": "9bfe8c51",
   "metadata": {},
   "source": [
    "#### 3.In the years list, which year were you the oldest?"
   ]
  },
  {
   "cell_type": "code",
   "execution_count": 7,
   "id": "18f0f469",
   "metadata": {},
   "outputs": [
    {
     "data": {
      "text/plain": [
       "2006"
      ]
     },
     "execution_count": 7,
     "metadata": {},
     "output_type": "execute_result"
    }
   ],
   "source": [
    "oldest = years_list[-1]\n",
    "oldest"
   ]
  },
  {
   "cell_type": "markdown",
   "id": "546891ed",
   "metadata": {},
   "source": [
    "#### 4. Make a list called things with these three strings as elements: \"mozzarella\",\"cinderella\",\"salmonella\""
   ]
  },
  {
   "cell_type": "code",
   "execution_count": 8,
   "id": "9ad01c2f",
   "metadata": {},
   "outputs": [],
   "source": [
    "list_1 = ['mozzarella','cinderella','salmonella']"
   ]
  },
  {
   "cell_type": "markdown",
   "id": "7a76a814",
   "metadata": {},
   "source": [
    "#### 5. Capitalize the element in things that refers to a person and then print the list. Did it change the element in the list?"
   ]
  },
  {
   "cell_type": "code",
   "execution_count": 9,
   "id": "4f96988e",
   "metadata": {
    "scrolled": true
   },
   "outputs": [
    {
     "name": "stdout",
     "output_type": "stream",
     "text": [
      "['mozzarella', 'cinderella', 'salmonella']\n"
     ]
    }
   ],
   "source": [
    "for i in list_1:\n",
    "    if i == 'cinderella':\n",
    "        i.capitalize()\n",
    "    \n",
    "print(list_1)"
   ]
  },
  {
   "cell_type": "markdown",
   "id": "fc062fc3",
   "metadata": {},
   "source": [
    "#### 6. Make a surprise list with the elements \"Groucho\",\"Chico\" and \"Harpo\"?"
   ]
  },
  {
   "cell_type": "code",
   "execution_count": 10,
   "id": "d0dc70ae",
   "metadata": {},
   "outputs": [],
   "source": [
    "suprise_list = ['Groucho','Chico','Harpo']"
   ]
  },
  {
   "cell_type": "markdown",
   "id": "669f1281",
   "metadata": {},
   "source": [
    "#### 7. Lowercase the last element of the suprise list, reverse list and then capitalize it."
   ]
  },
  {
   "cell_type": "code",
   "execution_count": 12,
   "id": "c8401d8d",
   "metadata": {
    "scrolled": true
   },
   "outputs": [
    {
     "data": {
      "text/plain": [
       "'Oprah'"
      ]
     },
     "execution_count": 12,
     "metadata": {},
     "output_type": "execute_result"
    }
   ],
   "source": [
    "suprise_list[-1].lower()[::-1].capitalize()"
   ]
  },
  {
   "cell_type": "markdown",
   "id": "5d5f9e44",
   "metadata": {},
   "source": [
    "#### 8. Make an English-to-French dictionary called e2f and print it. Here are your starter words: dog is chien, cat is chat, and walrus is morse."
   ]
  },
  {
   "cell_type": "code",
   "execution_count": 21,
   "id": "985965a0",
   "metadata": {},
   "outputs": [],
   "source": [
    "e2f = {\"dog\":\"chien\",\"cat\":\"chat\",\"walrus\":\"morse\"}"
   ]
  },
  {
   "cell_type": "markdown",
   "id": "d9c032ea",
   "metadata": {},
   "source": [
    "#### 9. Write the French word for walrus in your three-word dictionary e2f."
   ]
  },
  {
   "cell_type": "code",
   "execution_count": 22,
   "id": "f4d12f0a",
   "metadata": {
    "scrolled": true
   },
   "outputs": [
    {
     "data": {
      "text/plain": [
       "'morse'"
      ]
     },
     "execution_count": 22,
     "metadata": {},
     "output_type": "execute_result"
    }
   ],
   "source": [
    "e2f[\"walrus\"]"
   ]
  },
  {
   "cell_type": "markdown",
   "id": "2ca03490",
   "metadata": {},
   "source": [
    "#### 10. Make a French-to-English dictionary called f2e from e2f. Use the items method."
   ]
  },
  {
   "cell_type": "code",
   "execution_count": 23,
   "id": "f206def0",
   "metadata": {},
   "outputs": [
    {
     "name": "stdout",
     "output_type": "stream",
     "text": [
      "{'chien': 'dog', 'chat': 'cat', 'morse': 'walrus'}\n"
     ]
    }
   ],
   "source": [
    "f2e = {}\n",
    "\n",
    "for k,v in e2f.items():\n",
    "    f2e[v]=k\n",
    "\n",
    "print(f2e)"
   ]
  },
  {
   "cell_type": "markdown",
   "id": "d21c4790",
   "metadata": {},
   "source": [
    "#### 11. Print the English Version of the French word chien using f2e"
   ]
  },
  {
   "cell_type": "code",
   "execution_count": 24,
   "id": "82662491",
   "metadata": {},
   "outputs": [
    {
     "data": {
      "text/plain": [
       "'dog'"
      ]
     },
     "execution_count": 24,
     "metadata": {},
     "output_type": "execute_result"
    }
   ],
   "source": [
    "f2e['chien']"
   ]
  },
  {
   "cell_type": "markdown",
   "id": "f8781c6e",
   "metadata": {},
   "source": [
    "#### 12. Make and print a set of English words from the keys in e2f."
   ]
  },
  {
   "cell_type": "code",
   "execution_count": 29,
   "id": "1a307a15",
   "metadata": {},
   "outputs": [
    {
     "name": "stdout",
     "output_type": "stream",
     "text": [
      "dict_keys(['dog', 'cat', 'walrus'])\n"
     ]
    }
   ],
   "source": [
    "keys = e2f.keys()\n",
    "print(keys)"
   ]
  },
  {
   "cell_type": "markdown",
   "id": "0edcf547",
   "metadata": {},
   "source": [
    "#### 13. Make a multilevel dictionary called life. Use these strings for the topmost keys: &#39;animals&#39;, &#39;plants&#39;, and &#39;other&#39;. Make the &#39;animals&#39; key refer to another dictionary with the keys &#39;cats&#39;, &#39;octopi&#39;, and &#39;emus&#39;. Make the &#39;cats&#39; key refer to a list of strings with the values &#39;Henri&#39;, &#39;Grumpy&#39;, and &#39;Lucy&#39;. Make all the other keys refer to empty dictionaries."
   ]
  },
  {
   "cell_type": "code",
   "execution_count": 34,
   "id": "7b8f21a8",
   "metadata": {},
   "outputs": [],
   "source": [
    "life = {'animals':\n",
    " {\"cats\":['Henri',\"Grumpy\",\"Lucy\"],\n",
    "  \"octopi\":{},\n",
    "  \"emus\":{}},\n",
    " 'plants':{},\n",
    " 'other':{}}"
   ]
  },
  {
   "cell_type": "markdown",
   "id": "c344981f",
   "metadata": {},
   "source": [
    "#### 14. Print the top level keys of life"
   ]
  },
  {
   "cell_type": "code",
   "execution_count": 35,
   "id": "bf36a9c1",
   "metadata": {
    "scrolled": true
   },
   "outputs": [
    {
     "data": {
      "text/plain": [
       "dict_keys(['animals', 'plants', 'other'])"
      ]
     },
     "execution_count": 35,
     "metadata": {},
     "output_type": "execute_result"
    }
   ],
   "source": [
    "life.keys()"
   ]
  },
  {
   "cell_type": "markdown",
   "id": "f34aad91",
   "metadata": {},
   "source": [
    "#### 15. Print the keys for life[&#39;animals&#39;]."
   ]
  },
  {
   "cell_type": "code",
   "execution_count": 36,
   "id": "5dfa2cd1",
   "metadata": {},
   "outputs": [
    {
     "data": {
      "text/plain": [
       "dict_keys(['cats', 'octopi', 'emus'])"
      ]
     },
     "execution_count": 36,
     "metadata": {},
     "output_type": "execute_result"
    }
   ],
   "source": [
    "life['animals'].keys()"
   ]
  },
  {
   "cell_type": "markdown",
   "id": "cc88d9ff",
   "metadata": {},
   "source": [
    "#### 16. Print the values for life[&#39;animals&#39;][&#39;cats&#39;]"
   ]
  },
  {
   "cell_type": "code",
   "execution_count": 37,
   "id": "c4c8a1c7",
   "metadata": {},
   "outputs": [
    {
     "data": {
      "text/plain": [
       "['Henri', 'Grumpy', 'Lucy']"
      ]
     },
     "execution_count": 37,
     "metadata": {},
     "output_type": "execute_result"
    }
   ],
   "source": [
    "life['animals']['cats']"
   ]
  }
 ],
 "metadata": {
  "kernelspec": {
   "display_name": "Python 3 (ipykernel)",
   "language": "python",
   "name": "python3"
  },
  "language_info": {
   "codemirror_mode": {
    "name": "ipython",
    "version": 3
   },
   "file_extension": ".py",
   "mimetype": "text/x-python",
   "name": "python",
   "nbconvert_exporter": "python",
   "pygments_lexer": "ipython3",
   "version": "3.9.13"
  }
 },
 "nbformat": 4,
 "nbformat_minor": 5
}
