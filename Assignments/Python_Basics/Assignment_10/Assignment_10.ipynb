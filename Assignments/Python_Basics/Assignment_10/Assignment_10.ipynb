{
 "cells": [
  {
   "cell_type": "markdown",
   "id": "7860aa13",
   "metadata": {},
   "source": [
    "### 1. How do you distinguish between shutil.copy() and shutil.copytree()?\n",
    "* copy()- it is used to copy one single file\n",
    "* copytree() - is used to copy the entire directory."
   ]
  },
  {
   "cell_type": "markdown",
   "id": "62c04816",
   "metadata": {},
   "source": [
    "### 2. What function is used to rename files??\n",
    "* os.rename() can be used to renamce a file. You can provide the current file name and new file name as arguments."
   ]
  },
  {
   "cell_type": "markdown",
   "id": "9cdea3a3",
   "metadata": {},
   "source": [
    "### 3. What is the difference between the delete functions in the send2trash and shutil modules?\n",
    "* shutil module delete function will permentaly delete the file or folder specified.\n",
    "* send2trash module will only move the files or folders to the recycle bin"
   ]
  },
  {
   "cell_type": "markdown",
   "id": "daec6b75",
   "metadata": {},
   "source": [
    "### 4.ZipFile objects have a close() method just like File objects’ close() method. What ZipFile method is equivalent to File objects’ open() method?\n",
    "\n",
    "* ZipFile() method is the equivalent to open() method in files. It takes the file name and mode as arguments"
   ]
  },
  {
   "cell_type": "markdown",
   "id": "b932a2d9",
   "metadata": {},
   "source": [
    "### 5. Create a programme that searches a folder tree for files with a certain file extension (such as .pdf or .jpg). Copy these files from whatever location they are in to a new folder."
   ]
  },
  {
   "cell_type": "code",
   "execution_count": 1,
   "id": "690e97ef",
   "metadata": {},
   "outputs": [],
   "source": [
    "import os\n",
    "import shutil\n",
    "\n",
    "def copy_files_with_extensions(foldername,extensions,destination):\n",
    "    folder = os.path.abspath(foldername)\n",
    "    destination = os.path.abspath(destination)\n",
    "    for foldername,subfolders,filenames in os.walk(folder):\n",
    "        for filename in filenames:\n",
    "            name,extension = os.path.splitext(filename)\n",
    "            if extension in extensions:\n",
    "                filepath = foldername + os.path.sep + destination\n",
    "                shutil.copy(filepath,destination)"
   ]
  }
 ],
 "metadata": {
  "kernelspec": {
   "display_name": "Python 3 (ipykernel)",
   "language": "python",
   "name": "python3"
  },
  "language_info": {
   "codemirror_mode": {
    "name": "ipython",
    "version": 3
   },
   "file_extension": ".py",
   "mimetype": "text/x-python",
   "name": "python",
   "nbconvert_exporter": "python",
   "pygments_lexer": "ipython3",
   "version": "3.9.13"
  }
 },
 "nbformat": 4,
 "nbformat_minor": 5
}
