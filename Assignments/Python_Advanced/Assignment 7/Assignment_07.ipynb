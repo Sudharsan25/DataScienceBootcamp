{
 "cells": [
  {
   "cell_type": "markdown",
   "id": "2a0feaf3",
   "metadata": {},
   "source": [
    "#### Q1. What is the purpose of the try statement?"
   ]
  },
  {
   "cell_type": "markdown",
   "id": "62f370dc",
   "metadata": {},
   "source": [
    "* The \"try\" block contains the code which might arise some kind of exception during runtime, i.e., the main code of the program. The purpose of the try statement is to execute the code inside the try block and pass the flow to the following except blow if an exception occurs. If no exception occurs, then the control flow is passed to the next line after all the except blocks."
   ]
  },
  {
   "cell_type": "markdown",
   "id": "49137015",
   "metadata": {},
   "source": [
    "#### Q2. What are the two most popular try statement variations?"
   ]
  },
  {
   "cell_type": "markdown",
   "id": "8a2f0dad",
   "metadata": {},
   "source": [
    "* The try statement can be chained along with various other statements used in exception handling to create new scenarios of handling exceptions. The varitions are:\n",
    "1. try\n",
    "2. try,except\n",
    "3. try,except,finally\n",
    "4. try,except,finally,else.\n",
    "* These variations can only be used in the specified order. Eg: An except or a finally block cannot exist without an try block."
   ]
  },
  {
   "cell_type": "markdown",
   "id": "0516c1ed",
   "metadata": {},
   "source": [
    "#### Q3. What is the purpose of the raise statement?"
   ]
  },
  {
   "cell_type": "markdown",
   "id": "52849b44",
   "metadata": {},
   "source": [
    "* The \"Raise\" Statement in python is used to raise an exception if the given condition becomes true. This is usually used to trigger an exception manually."
   ]
  },
  {
   "cell_type": "markdown",
   "id": "bb4b7c04",
   "metadata": {},
   "source": [
    "#### Q4. What does the assert statement do, and what other statement is it like?"
   ]
  },
  {
   "cell_type": "markdown",
   "id": "85c29cf0",
   "metadata": {},
   "source": [
    "* \"Assert\" statement is similar to \"raise\" statement but works in the opposite way. Assert statement raises an error if the given condition turns to be false, but continues execution if the condition is true."
   ]
  },
  {
   "cell_type": "markdown",
   "id": "3b476410",
   "metadata": {},
   "source": [
    "#### Q5. What is the purpose of the with/as argument, and what other statement is it like?"
   ]
  },
  {
   "cell_type": "markdown",
   "id": "5eac554f",
   "metadata": {},
   "source": [
    "* The \"with/as\" statement in python is used in file handling. With statement is used to read files, and \"as\" is used to specify how the file name is used in the code."
   ]
  }
 ],
 "metadata": {
  "kernelspec": {
   "display_name": "Python 3 (ipykernel)",
   "language": "python",
   "name": "python3"
  },
  "language_info": {
   "codemirror_mode": {
    "name": "ipython",
    "version": 3
   },
   "file_extension": ".py",
   "mimetype": "text/x-python",
   "name": "python",
   "nbconvert_exporter": "python",
   "pygments_lexer": "ipython3",
   "version": "3.9.13"
  }
 },
 "nbformat": 4,
 "nbformat_minor": 5
}
