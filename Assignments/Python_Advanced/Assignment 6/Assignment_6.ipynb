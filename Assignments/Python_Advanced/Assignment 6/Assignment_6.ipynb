{
 "cells": [
  {
   "cell_type": "markdown",
   "id": "3f534b17",
   "metadata": {},
   "source": [
    "#### Q1. Describe three applications for exception processing."
   ]
  },
  {
   "cell_type": "markdown",
   "id": "397d6d9b",
   "metadata": {},
   "source": [
    "* Expection processing is important to handle exceptions that may arise in a program during runtime. Some common uses of exception processing are:\n",
    "1. To validate user input\n",
    "2. To oversee arithmetic operations in a program\n",
    "3. To manage file handling exceptions"
   ]
  },
  {
   "cell_type": "markdown",
   "id": "7d65f94d",
   "metadata": {},
   "source": [
    "#### Q2. What happens if you don&#39;t do something extra to treat an exception?"
   ]
  },
  {
   "cell_type": "markdown",
   "id": "d90fc845",
   "metadata": {},
   "source": [
    "* If exceptions are not handled explicitly by the user, then the flow of the program stops, and the interpreter halts the execution at the point when the exception occured"
   ]
  },
  {
   "cell_type": "markdown",
   "id": "38e244c9",
   "metadata": {},
   "source": [
    "#### Q3. What are your options for recovering from an exception in your script?"
   ]
  },
  {
   "cell_type": "markdown",
   "id": "60b6d3b2",
   "metadata": {},
   "source": [
    "* The \"try\" and \"except\" statements provided by python can be used to recover from an exception"
   ]
  },
  {
   "cell_type": "markdown",
   "id": "bcf18705",
   "metadata": {},
   "source": [
    "#### Q4. Describe two methods for triggering exceptions in your script."
   ]
  },
  {
   "cell_type": "markdown",
   "id": "a66719c0",
   "metadata": {},
   "source": [
    "* Exceptions in python can be triggered using 2 methods:\n",
    "1. raise - This method raises an exception if a given condition is true\n",
    "2. assert - This method continues execution if the condition is true and raises an exception if it is false"
   ]
  },
  {
   "cell_type": "markdown",
   "id": "cc2df5bd",
   "metadata": {},
   "source": [
    "#### Q5. Identify two methods for specifying actions to be executed at termination time, regardless of whether or not an exception exists."
   ]
  },
  {
   "cell_type": "markdown",
   "id": "8dbda2f4",
   "metadata": {},
   "source": [
    "* The \"else\" and \"finally\" statements in python can be used to write code that must be executed regardless of whether an exception is raised or not"
   ]
  }
 ],
 "metadata": {
  "kernelspec": {
   "display_name": "Python 3 (ipykernel)",
   "language": "python",
   "name": "python3"
  },
  "language_info": {
   "codemirror_mode": {
    "name": "ipython",
    "version": 3
   },
   "file_extension": ".py",
   "mimetype": "text/x-python",
   "name": "python",
   "nbconvert_exporter": "python",
   "pygments_lexer": "ipython3",
   "version": "3.9.13"
  }
 },
 "nbformat": 4,
 "nbformat_minor": 5
}
