{
 "cells": [
  {
   "cell_type": "markdown",
   "id": "5fc0b755",
   "metadata": {},
   "source": [
    "#### Q1. What are the two latest user-defined exception constraints in Python 3.X?"
   ]
  },
  {
   "cell_type": "markdown",
   "id": "246c8ca9",
   "metadata": {},
   "source": [
    "* \"raise\" and \"assert\" statements are the user-defined exception constraints in python 3.X"
   ]
  },
  {
   "cell_type": "markdown",
   "id": "0b70fada",
   "metadata": {},
   "source": [
    "####  Q2. How are class-based exceptions that have been raised matched to handlers?"
   ]
  },
  {
   "cell_type": "markdown",
   "id": "be6bb6e3",
   "metadata": {},
   "source": [
    "* To create a new class of exception, users can create a new class and it must be derived from the \"Exception\" class which is in-built in python. After defining the new exception class, it can be raised by the raise statement followed by the name of the exception class."
   ]
  },
  {
   "cell_type": "markdown",
   "id": "f688cd3e",
   "metadata": {},
   "source": [
    "#### Q3. Describe two methods for attaching context information to exception artefacts."
   ]
  },
  {
   "cell_type": "markdown",
   "id": "e47fe22c",
   "metadata": {},
   "source": [
    "1. process() - This method passes the message and keyword arguments of the logging call, and it passes back modified versions of these to use in the call to the underlying logger.\n",
    "\n",
    "2. exception() -  Logs a messgae with level ERROR on this logger. The arguments are interpreted as for debug(). Exception info is added to the logging message."
   ]
  },
  {
   "cell_type": "markdown",
   "id": "7d3e1335",
   "metadata": {},
   "source": [
    "####  Q4. Describe two methods for specifying the text of an exception object&#39;s error message."
   ]
  },
  {
   "cell_type": "markdown",
   "id": "932c03fb",
   "metadata": {},
   "source": [
    "* \"raise\" and \"assert\" are two methods for specifying the text of an exception object's error message"
   ]
  },
  {
   "cell_type": "markdown",
   "id": "706f79a1",
   "metadata": {},
   "source": [
    "####  Q5. Why do you no longer use string-based exceptions?"
   ]
  },
  {
   "cell_type": "markdown",
   "id": "33128885",
   "metadata": {},
   "source": [
    "* As string based exceptions don't inherit from \"Exception\" class in python, they are not used anymore."
   ]
  }
 ],
 "metadata": {
  "kernelspec": {
   "display_name": "Python 3 (ipykernel)",
   "language": "python",
   "name": "python3"
  },
  "language_info": {
   "codemirror_mode": {
    "name": "ipython",
    "version": 3
   },
   "file_extension": ".py",
   "mimetype": "text/x-python",
   "name": "python",
   "nbconvert_exporter": "python",
   "pygments_lexer": "ipython3",
   "version": "3.9.13"
  }
 },
 "nbformat": 4,
 "nbformat_minor": 5
}
