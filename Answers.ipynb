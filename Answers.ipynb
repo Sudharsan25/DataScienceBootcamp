{
 "cells": [
  {
   "cell_type": "code",
   "execution_count": 1,
   "metadata": {},
   "outputs": [
    {
     "name": "stdout",
     "output_type": "stream",
     "text": [
      "1\n",
      "2\n",
      "3\n",
      "4\n",
      "5\n"
     ]
    }
   ],
   "source": [
    "for i in range(1,6):\n",
    "    print(i)"
   ]
  },
  {
   "cell_type": "code",
   "execution_count": 3,
   "metadata": {},
   "outputs": [
    {
     "name": "stdout",
     "output_type": "stream",
     "text": [
      "*\n",
      "**\n",
      "***\n",
      "****\n",
      "*****\n"
     ]
    }
   ],
   "source": [
    "for i in range(1,6):\n",
    "    print(\"*\"*i)"
   ]
  },
  {
   "cell_type": "code",
   "execution_count": 4,
   "metadata": {},
   "outputs": [
    {
     "name": "stdout",
     "output_type": "stream",
     "text": [
      "25\n"
     ]
    }
   ],
   "source": [
    "n = int(input(\"Enter a number:\"))\n",
    "\n",
    "print(n**2)"
   ]
  },
  {
   "cell_type": "code",
   "execution_count": 5,
   "metadata": {},
   "outputs": [],
   "source": [
    "def create_sentence():\n",
    "    inputList = []\n",
    "    n = int(input(\"Enter a number of words you want to enter:\"))\n",
    "    for i in range(n):\n",
    "        inputList.append(input(\"Enter a word:\"))\n",
    "\n",
    "    # Join words with space in between and dot in end\n",
    "    sentence = \" \".join(inputList) + \".\"\n",
    "    print(sentence)"
   ]
  },
  {
   "cell_type": "code",
   "execution_count": 6,
   "metadata": {},
   "outputs": [
    {
     "name": "stdout",
     "output_type": "stream",
     "text": [
      "Hello good morning.\n"
     ]
    }
   ],
   "source": [
    "create_sentence()"
   ]
  },
  {
   "cell_type": "code",
   "execution_count": 7,
   "metadata": {},
   "outputs": [],
   "source": [
    "def product():\n",
    "    string = input(\"Enter the numbers sepearted by comma, for which you want product:\")\n",
    "\n",
    "    # Split the string by comma\n",
    "\n",
    "    stringList = string.split(\",\")\n",
    "    product = 1\n",
    "    for i in stringList:\n",
    "        product *= int(i)\n",
    "    \n",
    "    print(product)"
   ]
  },
  {
   "cell_type": "code",
   "execution_count": 8,
   "metadata": {},
   "outputs": [
    {
     "name": "stdout",
     "output_type": "stream",
     "text": [
      "600\n"
     ]
    }
   ],
   "source": [
    "product()"
   ]
  },
  {
   "cell_type": "code",
   "execution_count": 14,
   "metadata": {},
   "outputs": [],
   "source": [
    "def string_op():\n",
    "    string = input(\"Enter a string:\")\n",
    "    if len(string)%2==0:\n",
    "        # check if there is a dot at end\n",
    "        if string[-1] == \".\":\n",
    "            string.replace(\".\",\"\")\n",
    "        elif string[-1] != \".\":\n",
    "            string = string + \".\"\n",
    "\n",
    "### Call this string of odd length word. Select a substring made up of \n",
    "### three consecutive characters from word such that there are an \n",
    "### equal number of characters to the left and right of this substring. \n",
    "### Print this substring as output. You can assume that all input \n",
    "### strings will be in lower case and will have a length of at least four\n",
    "### characters.\n",
    "    \n",
    "    if len(string)%2!=0:\n",
    "        # Select the middle character\n",
    "        middleChar = int(len(string)/2)\n",
    "        # Select the substring\n",
    "        subString = string[middleChar-1: middleChar+2]\n",
    "\n",
    "        print(subString)"
   ]
  },
  {
   "cell_type": "code",
   "execution_count": 15,
   "metadata": {},
   "outputs": [
    {
     "name": "stdout",
     "output_type": "stream",
     "text": [
      "lco\n"
     ]
    }
   ],
   "source": [
    "string_op()"
   ]
  },
  {
   "cell_type": "code",
   "execution_count": 23,
   "metadata": {},
   "outputs": [],
   "source": [
    "### 13. Accept three positive integers as input and check if they form the \n",
    "### sides of a right triangle.\n",
    "def check_right_triangle():\n",
    "    side1 = int(input(\"Enter the length of side 1:\"))\n",
    "    side2 = int(input(\"Enter the length of side 2:\"))\n",
    "    side3 = int(input(\"Enter the length of side 3:\"))\n",
    "\n",
    "    if side1**2 + side2**2 == side3**2:\n",
    "        print(\"It is a right triangle\")\n",
    "    elif side1**2 + side3**2 == side2**2:\n",
    "        print(\"It is a right triangle\")\n",
    "    elif side2**2 + side3**2 == side1**2:\n",
    "        print(\"It is a right triangle\")\n",
    "    else:\n",
    "        print(\"It is not a right triangle\")"
   ]
  },
  {
   "cell_type": "code",
   "execution_count": 25,
   "metadata": {},
   "outputs": [
    {
     "name": "stdout",
     "output_type": "stream",
     "text": [
      "It is not a right triangle\n"
     ]
    }
   ],
   "source": [
    "check_right_triangle()"
   ]
  },
  {
   "cell_type": "code",
   "execution_count": 31,
   "metadata": {},
   "outputs": [],
   "source": [
    "def edTechNo():\n",
    "    n = int(input(\"Enter the number of employees:\"))\n",
    "    employeeIdList = []\n",
    "    for i in range(n):\n",
    "        EmployeeId = input(\"Enter the employee id:\")\n",
    "        employeeIdList.append(EmployeeId)\n",
    "    \n",
    "    # Check if the every sum of every adjacent employeeId is even\n",
    "    for i in range(len(employeeIdList)-1):\n",
    "        if (int(employeeIdList[i]) + int(employeeIdList[i+1]))%2 == 0:\n",
    "            print(\"Yes the meeting happened!!\")\n",
    "        else:\n",
    "            print(\"The meeting did not happen!!\")\n",
    "            return"
   ]
  },
  {
   "cell_type": "code",
   "execution_count": 32,
   "metadata": {},
   "outputs": [
    {
     "name": "stdout",
     "output_type": "stream",
     "text": [
      "The meeting did not happen!!\n"
     ]
    }
   ],
   "source": [
    "edTechNo()"
   ]
  },
  {
   "cell_type": "code",
   "execution_count": 59,
   "metadata": {},
   "outputs": [],
   "source": [
    "def find_younger():\n",
    "    name1 = input(\"Enter the name of first person:\")\n",
    "    age1 = input(\"Enter the age of first person in DD/MM/YYYY:\")\n",
    "    name2 = input(\"Enter the name of second person:\")\n",
    "    age2 = input(\"Enter the age of second person in DD/MM/YYYY:\")\n",
    "\n",
    "    \n",
    "    date1, month1, year1 = age1.split(\"/\")\n",
    "    date2, month2, year2 = age2.split(\"/\")\n",
    "    date1, month1, year1 = int(date1), int(month1), int(year1)\n",
    "    date2, month2, year2 = int(date2), int(month2), int(year2)\n",
    "\n",
    "    if year1 != year2:\n",
    "        if year1 < year2:\n",
    "            younger = name2\n",
    "        elif year1 > year2:\n",
    "            younger = name1 \n",
    "        \n",
    "    elif year1 == year2:\n",
    "        if month1 != month2:\n",
    "            if month1 < month2:\n",
    "                younger = name2\n",
    "            elif month1 > month2:\n",
    "                younger = name1\n",
    "        \n",
    "        elif month1 == month2:\n",
    "            if date1 != date2:\n",
    "                if date1 < date2:\n",
    "                    younger = name2\n",
    "                elif date1 > date2:\n",
    "                    younger = name1\n",
    "            \n",
    "            elif date1 == date2:\n",
    "                younger = min(name1, name2)\n",
    "\n",
    "\n",
    "    print(younger)\n"
   ]
  },
  {
   "cell_type": "code",
   "execution_count": 61,
   "metadata": {},
   "outputs": [],
   "source": [
    "### Alternatively you can timestamps to determine the age of the person\n",
    "\n",
    "def find_younger2():\n",
    "    name1 = input(\"Enter the name of first person:\")\n",
    "    age1 = input(\"Enter the age of first person in DD/MM/YYYY:\")\n",
    "    name2 = input(\"Enter the name of second person:\")\n",
    "    age2 = input(\"Enter the age of second person in DD/MM/YYYY:\")\n",
    "\n",
    "    import time\n",
    "    import datetime\n",
    "\n",
    "    date1, month1, year1 = age1.split(\"/\")\n",
    "    date2, month2, year2 = age2.split(\"/\")\n",
    "    date1, month1, year1 = int(date1), int(month1), int(year1)\n",
    "    date2, month2, year2 = int(date2), int(month2), int(year2)\n",
    "\n",
    "    # Convert the date to timestamp\n",
    "    timestamp1 = time.mktime(datetime.datetime(year1, month1, date1).timetuple())\n",
    "    timestamp2 = time.mktime(datetime.datetime(year2, month2, date2).timetuple())\n",
    "\n",
    "    if timestamp1 < timestamp2:\n",
    "        print(name2)\n",
    "    elif timestamp1 > timestamp2:\n",
    "        print(name1)\n",
    "    elif timestamp1 == timestamp2:\n",
    "        print(min(name1, name2))"
   ]
  },
  {
   "cell_type": "code",
   "execution_count": 66,
   "metadata": {},
   "outputs": [],
   "source": [
    "def password_validation():\n",
    "\n",
    "    password = input(\"Enter the password:\")\n",
    "\n",
    "    # Check if the password is of length 8 to 32 characters\n",
    "    if len(password) < 8 or len(password) > 32:\n",
    "        print(\"Password is not valid\")\n",
    "        return\n",
    "\n",
    "    # Check if the password starts with a letter    \n",
    "    if password[0].isalpha() == False:\n",
    "        print(\"Password is not valid\")\n",
    "        return\n",
    "\n",
    "    # Password It should not have any of these characters: / \\ = ' \"\n",
    "    invalid = [\"/\", \"\\\\\", \"=\", \"'\", '\"']\n",
    "    for i in invalid:   \n",
    "        if i in password:\n",
    "            print(\"Password is not valid\")\n",
    "            return\n",
    "    \n",
    "    # Password should not contain spaces\n",
    "    if \" \" in password:\n",
    "        print(\"Password is not valid\")\n",
    "        return\n",
    "    \n",
    "    else:\n",
    "        print(password)"
   ]
  },
  {
   "cell_type": "code",
   "execution_count": 2,
   "metadata": {},
   "outputs": [],
   "source": [
    "def string_connect():\n",
    "    string1 = input(\"Enter the first string:\")\n",
    "    string2 = input(\"Enter the second string:\")\n",
    "\n",
    "    result = \"\"\n",
    "    for i in string2:\n",
    "        if i not in string1:\n",
    "            result += i\n",
    "        \n",
    "    print(result)"
   ]
  },
  {
   "cell_type": "code",
   "execution_count": 3,
   "metadata": {},
   "outputs": [
    {
     "name": "stdout",
     "output_type": "stream",
     "text": [
      "afun\n"
     ]
    }
   ],
   "source": [
    "string_connect()"
   ]
  },
  {
   "cell_type": "code",
   "execution_count": 4,
   "metadata": {},
   "outputs": [],
   "source": [
    "def factorial():\n",
    "    n = int(input(\"Enter the number:\"))\n",
    "    fact = 1\n",
    "    if n == 0:\n",
    "        return 1\n",
    "    elif n < 1:\n",
    "        return -1\n",
    "    else:\n",
    "        for i in range(1, n+1):\n",
    "            fact *= i\n",
    "    \n",
    "    return fact"
   ]
  },
  {
   "cell_type": "code",
   "execution_count": 8,
   "metadata": {},
   "outputs": [
    {
     "data": {
      "text/plain": [
       "6"
      ]
     },
     "execution_count": 8,
     "metadata": {},
     "output_type": "execute_result"
    }
   ],
   "source": [
    "factorial()"
   ]
  },
  {
   "cell_type": "code",
   "execution_count": 11,
   "metadata": {},
   "outputs": [],
   "source": [
    "def get_range():\n",
    "    list = [4,10,43,23,12,34,52,53,62,40]\n",
    "\n",
    "    max = list[0]\n",
    "    min = list[0]\n",
    "    for i in list:\n",
    "        if i > max:\n",
    "            max = i\n",
    "        if i < min:\n",
    "            min = i\n",
    "        \n",
    "    print(\"The range of the list is:\", max-min)"
   ]
  },
  {
   "cell_type": "code",
   "execution_count": 12,
   "metadata": {},
   "outputs": [
    {
     "name": "stdout",
     "output_type": "stream",
     "text": [
      "The range of the list is: 58\n"
     ]
    }
   ],
   "source": [
    "get_range()"
   ]
  },
  {
   "cell_type": "code",
   "execution_count": 13,
   "metadata": {},
   "outputs": [],
   "source": [
    "def string_replication():\n",
    "    string = input(\"Enter the string:\")\n",
    "    startindex = int(input(\"Enter the start index:\"))\n",
    "    endindex = int(input(\"Enter the end index:\"))\n",
    "\n",
    "    substring = string[startindex:endindex+1]\n",
    "    \n",
    "    while len(substring) < len(string):\n",
    "        substring += substring\n",
    "        if len(substring) > len(string):\n",
    "            substring = substring[:len(string)]\n",
    "\n",
    "    print(substring)"
   ]
  },
  {
   "cell_type": "code",
   "execution_count": 14,
   "metadata": {},
   "outputs": [
    {
     "name": "stdout",
     "output_type": "stream",
     "text": [
      "ChennaiChennaiChennaiChennai\n"
     ]
    }
   ],
   "source": [
    "string_replication()"
   ]
  },
  {
   "cell_type": "code",
   "execution_count": 15,
   "metadata": {},
   "outputs": [],
   "source": [
    "### 29. A class teacher has decided to split her entire class into four groups, namely Sapphire, Peridot, Ruby, \n",
    "### and Emerald for sports competitions. For dividing the students into these four groups, she has \n",
    "### followed the pattern given below:\n",
    "### Sapphire - 1, 5, 9, 13, 17, 21, ...\n",
    "### Peridot - 2, 6, 10, 14, 18, 22, ...\n",
    "### Ruby - 3, 7, 11, 15, 19, 23, ...\n",
    "### Emerald - 4, 8, 12, 16, 20, 24, ...\n",
    "### All the students are represented by their roll numbers. Based on the above pattern, given the roll \n",
    "### number as input, print the group the student belongs to. Note that the roll number can be any \n",
    "### positive integer and not necessarily less than 25.\n",
    "def identify_house():\n",
    "    rollno = int(input(\"Enter the roll number:\"))\n",
    "\n",
    "    if rollno%4 == 1:\n",
    "        print(\"Sapphire\")\n",
    "    elif rollno%4 == 2:\n",
    "        print(\"Peridot\")\n",
    "    elif rollno%4 == 3:\n",
    "        print(\"Ruby\")\n",
    "    elif rollno%4 == 0:\n",
    "        print(\"Emerald\")\n"
   ]
  },
  {
   "cell_type": "code",
   "execution_count": 16,
   "metadata": {},
   "outputs": [
    {
     "name": "stdout",
     "output_type": "stream",
     "text": [
      "Ruby\n"
     ]
    }
   ],
   "source": [
    "identify_house()"
   ]
  },
  {
   "cell_type": "code",
   "execution_count": 24,
   "metadata": {},
   "outputs": [],
   "source": [
    "### Decorator to log date and time\n",
    "import datetime\n",
    "def log_time(func):\n",
    "    def wrapper(*args, **kwargs):\n",
    "        print(\"Date and time:\", datetime.datetime.now())\n",
    "        return func(*args, **kwargs)\n",
    "    return wrapper"
   ]
  },
  {
   "cell_type": "code",
   "execution_count": 27,
   "metadata": {},
   "outputs": [],
   "source": [
    "@log_time\n",
    "def password_strength(username, password):\n",
    "    strength = 0\n",
    "\n",
    "    if len(password) >= 8:\n",
    "        strength += 1\n",
    "\n",
    "    upper = False\n",
    "    lower = False\n",
    "    \n",
    "    for i in range(0, len(password)):\n",
    "        if password[i].isupper():\n",
    "            upper = True\n",
    "        \n",
    "        if password[i].islower():\n",
    "            lower = True\n",
    "    \n",
    "    if upper and lower:\n",
    "        strength += 1\n",
    "    \n",
    "    ## Password should not contain consecutive characters\n",
    "    number  = False\n",
    "    Consectutive = False\n",
    "    for i in range(0, len(password)-1):\n",
    "        if password[i].isnumeric():\n",
    "            number = True\n",
    "\n",
    "        if password[i] != password[i+1]:\n",
    "            Consectutive = True\n",
    "        else:\n",
    "            Consectutive = False\n",
    "    if Consectutive and number:\n",
    "        strength += 1\n",
    "\n",
    "    for i in range(0, len(password)):\n",
    "        if password[i].isalnum() != True: \n",
    "            strength += 1\n",
    "            break\n",
    "    \n",
    "    if username in password:\n",
    "        print(\"PASSWORD SHOULD NOT CONTAIN USERNAME\")\n",
    "        return\n",
    "\n",
    "    if strength == 4:\n",
    "        print(\"Very Strong\")\n",
    "    elif strength == 3:\n",
    "        print(\"Strong\")\n",
    "    elif strength == 2:\n",
    "        print(\"Medium\")\n",
    "    elif strength == 1:\n",
    "        print(\"Weak\")\n",
    "    else:\n",
    "        print(\"Use a different password\")"
   ]
  },
  {
   "cell_type": "code",
   "execution_count": 28,
   "metadata": {},
   "outputs": [
    {
     "name": "stdout",
     "output_type": "stream",
     "text": [
      "Date and time: 2023-03-26 21:18:52.156805\n",
      "Medium\n"
     ]
    }
   ],
   "source": [
    "password_strength(\"sachin\", \"sach1234\")"
   ]
  }
 ],
 "metadata": {
  "kernelspec": {
   "display_name": "dsboot",
   "language": "python",
   "name": "python3"
  },
  "language_info": {
   "codemirror_mode": {
    "name": "ipython",
    "version": 3
   },
   "file_extension": ".py",
   "mimetype": "text/x-python",
   "name": "python",
   "nbconvert_exporter": "python",
   "pygments_lexer": "ipython3",
   "version": "3.10.9"
  },
  "orig_nbformat": 4
 },
 "nbformat": 4,
 "nbformat_minor": 2
}
